{
 "cells": [
  {
   "cell_type": "code",
   "execution_count": 2,
   "metadata": {
    "collapsed": false
   },
   "outputs": [],
   "source": [
    "data_dir = \"../data/dnase/\"\n",
    "\n",
    "k562_peaks = {}\n",
    "hepg2_peaks = {}\n",
    "\n",
    "f = open(data_dir + \"wgEncodeUWDukeDnaseK562.fdr01peaks.hg19.bed\", 'r')\n",
    "reads = f.readlines()\n",
    "f.close()\n",
    "for read in reads:\n",
    "    coords = read.split()[:3]\n",
    "    if coords[0][3:] in k562_peaks:\n",
    "        k562_peaks[coords[0][3:]].append((int(coords[1]), int(coords[2])))\n",
    "    else:\n",
    "        k562_peaks[coords[0][3:]] = [(int(coords[1]), int(coords[2]))]\n",
    "        \n",
    "f = open(data_dir + \"wgEncodeUWDukeDnaseHepG2.fdr01peaks.hg19.bed\", 'r')\n",
    "reads = f.readlines()\n",
    "f.close()\n",
    "for read in reads:\n",
    "    coords = read.split()[:3]\n",
    "    if coords[0][3:] in hepg2_peaks:\n",
    "        hepg2_peaks[coords[0][3:]].append((int(coords[1]), int(coords[2])))\n",
    "    else:\n",
    "        hepg2_peaks[coords[0][3:]] = [(int(coords[1]), int(coords[2]))]"
   ]
  },
  {
   "cell_type": "code",
   "execution_count": 6,
   "metadata": {
    "collapsed": false
   },
   "outputs": [],
   "source": [
    "from collections import *\n",
    "import math\n",
    "import numpy as np\n",
    "from subprocess import Popen, PIPE\n",
    "\n",
    "letterindex = {'A': 0, 'a': 0, 'T': 1, 't': 1, 'C': 2, 'c': 2, 'G': 3, 'g': 3, 'N': -1, 'n': -1}\n",
    "\n",
    "def bases(chrom, start, end):\n",
    "    seq_count = int(math.ceil((float(end - start) / 60.0)))\n",
    "    sum_seq = \"\"\n",
    "    for i in xrange(seq_count - 1):\n",
    "        p = Popen(['samtools', 'faidx', '../Genome/hg19.fa', 'chr' + str(chrom) + ':' + str(start + 1 + i * 60) + '-' + str(start + 1 + (i + 1) * 60)], stdin=PIPE, stdout=PIPE, stderr=PIPE)\n",
    "        output, err = p.communicate()\n",
    "        sum_seq = sum_seq + output.split('\\n')[1]\n",
    "    p = Popen(['samtools', 'faidx', '../Genome/hg19.fa', 'chr' + str(chrom) + ':' + str(start + 1 + (seq_count - 1) * 60) + '-' + str(end)], stdin=PIPE, stdout=PIPE, stderr=PIPE)\n",
    "    output, err = p.communicate()\n",
    "    sum_seq = sum_seq + output.split('\\n')[1]\n",
    "    return sum_seq"
   ]
  },
  {
   "cell_type": "code",
   "execution_count": 38,
   "metadata": {
    "collapsed": false
   },
   "outputs": [],
   "source": [
    "hepg2seqs = []\n",
    "f = open(data_dir + \"HepG2seqs.txt\")\n",
    "reads = f.readlines()\n",
    "f.close()\n",
    "for read in reads:\n",
    "    if read[0] != '>':\n",
    "        read = read[:-1]\n",
    "        seql = len(read)\n",
    "        hepg2seqs.append(read[seql/2 - 72 : seql/2 + 73].upper())\n",
    "\n",
    "k562seqs = []\n",
    "f = open(data_dir + \"K562seqs.txt\")\n",
    "reads = f.readlines()\n",
    "f.close()\n",
    "for read in reads:\n",
    "    if read[0] != '>':\n",
    "        read = read[:-1]\n",
    "        seql = len(read)\n",
    "        k562seqs.append(read[seql/2 - 72 : seql/2 + 73].upper())"
   ]
  },
  {
   "cell_type": "code",
   "execution_count": 78,
   "metadata": {
    "collapsed": false
   },
   "outputs": [],
   "source": [
    "hepg2seqs_spec = []\n",
    "f = open(data_dir + \"HepG2seqs_spec.txt\")\n",
    "reads = f.readlines()\n",
    "f.close()\n",
    "for read in reads:\n",
    "    if read[0] != '>':\n",
    "        read = read[:-1]\n",
    "        seql = len(read)\n",
    "        hepg2seqs_spec.append(read[seql/2 - 72 : seql/2 + 73].upper())\n",
    "\n",
    "k562seqs_spec = []\n",
    "f = open(data_dir + \"K562seqs_spec.txt\")\n",
    "reads = f.readlines()\n",
    "f.close()\n",
    "for read in reads:\n",
    "    if read[0] != '>':\n",
    "        read = read[:-1]\n",
    "        seql = len(read)\n",
    "        k562seqs_spec.append(read[seql/2 - 72 : seql/2 + 73].upper())"
   ]
  },
  {
   "cell_type": "markdown",
   "metadata": {},
   "source": [
    "# Compare model predictions for cell lines\n",
    "\n",
    "Run the model to predict scores for sequences in K562, HepG2 DNase peaks"
   ]
  },
  {
   "cell_type": "code",
   "execution_count": 62,
   "metadata": {
    "collapsed": false
   },
   "outputs": [
    {
     "name": "stdout",
     "output_type": "stream",
     "text": [
      "startk562\n",
      "starthepg2\n"
     ]
    }
   ],
   "source": [
    "from dragonn import models\n",
    "\n",
    "model = models.SequenceDNN_Regression.load(\"models/models/145_weighted.arch.json\", \"models/models/145_weighted.weights.h5\")\n",
    "\n",
    "print \"startk562\"\n",
    "k562outs = model.predict(model_input(k562seqs))\n",
    "print \"starthepg2\"\n",
    "hepg2outs = model.predict(model_input(hepg2seqs))"
   ]
  },
  {
   "cell_type": "code",
   "execution_count": 51,
   "metadata": {
    "collapsed": true
   },
   "outputs": [],
   "source": [
    "def model_input(seqs):\n",
    "    mi = np.zeros((len(seqs), 1, 4, len(seqs[0])))\n",
    "    for j in xrange(len(seqs)):\n",
    "        for i in xrange(len(seqs[0])):\n",
    "            mi[j][0][letterindex[seqs[j][i]]][i] = 1\n",
    "    return mi"
   ]
  },
  {
   "cell_type": "code",
   "execution_count": 66,
   "metadata": {
    "collapsed": false
   },
   "outputs": [
    {
     "data": {
      "text/plain": [
       "[-0.16967631635211616,\n",
       " -0.23924046934264287,\n",
       " -0.11780517368578806,\n",
       " -0.051678577303201509]"
      ]
     },
     "execution_count": 66,
     "metadata": {},
     "output_type": "execute_result"
    }
   ],
   "source": [
    "[sum(hepg2outs[:,i])/float(len(hepg2seqs)) for i in xrange(4)]"
   ]
  },
  {
   "cell_type": "code",
   "execution_count": 65,
   "metadata": {
    "collapsed": false
   },
   "outputs": [
    {
     "data": {
      "text/plain": [
       "[-0.17389727582852413,\n",
       " -0.23699308588243895,\n",
       " -0.12158984007396931,\n",
       " -0.051246350756855991]"
      ]
     },
     "execution_count": 65,
     "metadata": {},
     "output_type": "execute_result"
    }
   ],
   "source": [
    "[sum(k562outs[:,i])/float(len(k562seqs)) for i in xrange(4)]"
   ]
  },
  {
   "cell_type": "code",
   "execution_count": 69,
   "metadata": {
    "collapsed": false
   },
   "outputs": [
    {
     "data": {
      "text/plain": [
       "[0.012821376561860292,\n",
       " 0.022719852403878544,\n",
       " 0.016915510548873077,\n",
       " 0.14924413994682809]"
      ]
     },
     "execution_count": 69,
     "metadata": {},
     "output_type": "execute_result"
    }
   ],
   "source": [
    "[sum(hepg2outs[:,i] > 0)/float(len(hepg2seqs)) for i in xrange(4)]"
   ]
  },
  {
   "cell_type": "code",
   "execution_count": 70,
   "metadata": {
    "collapsed": false
   },
   "outputs": [
    {
     "data": {
      "text/plain": [
       "[0.01316088714860629,\n",
       " 0.024161253003470676,\n",
       " 0.016661228283547408,\n",
       " 0.15473188771222054]"
      ]
     },
     "execution_count": 70,
     "metadata": {},
     "output_type": "execute_result"
    }
   ],
   "source": [
    "[sum(k562outs[:,i] > 0)/float(len(k562seqs)) for i in xrange(4)]"
   ]
  },
  {
   "cell_type": "code",
   "execution_count": 72,
   "metadata": {
    "collapsed": false
   },
   "outputs": [
    {
     "data": {
      "text/plain": [
       "(192959, 202266)"
      ]
     },
     "execution_count": 72,
     "metadata": {},
     "output_type": "execute_result"
    }
   ],
   "source": [
    "len(hepg2seqs), len(k562seqs)"
   ]
  },
  {
   "cell_type": "markdown",
   "metadata": {},
   "source": [
    "# Differentiation in specific peaks\n",
    "\n",
    "Restrict to cell line-specific peaks"
   ]
  },
  {
   "cell_type": "code",
   "execution_count": 92,
   "metadata": {
    "collapsed": false
   },
   "outputs": [
    {
     "name": "stdout",
     "output_type": "stream",
     "text": [
      "startk562\n",
      "starthepg2\n"
     ]
    }
   ],
   "source": [
    "print \"startk562\"\n",
    "k562specouts = model.predict(model_input(k562seqs_spec))\n",
    "print \"starthepg2\"\n",
    "hepg2specouts = model.predict(model_input(hepg2seqs_spec))"
   ]
  },
  {
   "cell_type": "code",
   "execution_count": 85,
   "metadata": {
    "collapsed": false
   },
   "outputs": [
    {
     "data": {
      "text/plain": [
       "array([ 0.00618895, -0.00474174,  0.00563812, -0.00095878])"
      ]
     },
     "execution_count": 85,
     "metadata": {},
     "output_type": "execute_result"
    }
   ],
   "source": [
    "np.asarray([sum(hepg2specouts[:,i])/float(len(hepg2seqs_spec)) for i in xrange(4)]) - np.asarray([sum(k562specouts[:,i])/float(len(k562seqs_spec)) for i in xrange(4)])"
   ]
  },
  {
   "cell_type": "code",
   "execution_count": 88,
   "metadata": {
    "collapsed": false
   },
   "outputs": [
    {
     "data": {
      "text/plain": [
       "array([ 0.00422096, -0.00224738,  0.00378467, -0.00043223])"
      ]
     },
     "execution_count": 88,
     "metadata": {},
     "output_type": "execute_result"
    }
   ],
   "source": [
    "np.asarray([sum(hepg2outs[:,i])/float(len(hepg2seqs)) for i in xrange(4)]) - np.asarray([sum(k562outs[:,i])/float(len(k562seqs)) for i in xrange(4)])"
   ]
  },
  {
   "cell_type": "markdown",
   "metadata": {},
   "source": [
    "# Against background sequences\n",
    "\n",
    "See if model predicts enriched expression in DNase peaks compared to background regions nearby"
   ]
  },
  {
   "cell_type": "code",
   "execution_count": 89,
   "metadata": {
    "collapsed": false
   },
   "outputs": [],
   "source": [
    "hepg2seqs_bg = []\n",
    "f = open(data_dir + \"HepG2seqs_bg.txt\")\n",
    "reads = f.readlines()\n",
    "f.close()\n",
    "for read in reads:\n",
    "    if read[0] != '>':\n",
    "        read = read[:-1]\n",
    "        seql = len(read)\n",
    "        hepg2seqs_bg.append(read[seql/2 - 72 : seql/2 + 73].upper())\n",
    "\n",
    "k562seqs_bg = []\n",
    "f = open(data_dir + \"K562seqs_bg.txt\")\n",
    "reads = f.readlines()\n",
    "f.close()\n",
    "for read in reads:\n",
    "    if read[0] != '>':\n",
    "        read = read[:-1]\n",
    "        seql = len(read)\n",
    "        k562seqs_bg.append(read[seql/2 - 72 : seql/2 + 73].upper())"
   ]
  },
  {
   "cell_type": "code",
   "execution_count": 91,
   "metadata": {
    "collapsed": false
   },
   "outputs": [
    {
     "name": "stdout",
     "output_type": "stream",
     "text": [
      "startk562\n",
      "starthepg2\n"
     ]
    }
   ],
   "source": [
    "print \"startk562\"\n",
    "k562bgouts = model.predict(model_input(k562seqs_bg))\n",
    "print \"starthepg2\"\n",
    "hepg2bgouts = model.predict(model_input(hepg2seqs_bg))"
   ]
  },
  {
   "cell_type": "code",
   "execution_count": 93,
   "metadata": {
    "collapsed": false
   },
   "outputs": [
    {
     "data": {
      "text/plain": [
       "array([ 0.01664479,  0.02442629,  0.01317806,  0.01469933])"
      ]
     },
     "execution_count": 93,
     "metadata": {},
     "output_type": "execute_result"
    }
   ],
   "source": [
    "np.asarray([sum(hepg2outs[:,i])/float(len(hepg2seqs)) for i in xrange(4)]) - np.asarray([sum(hepg2bgouts[:,i])/float(len(hepg2seqs_bg)) for i in xrange(4)])"
   ]
  },
  {
   "cell_type": "code",
   "execution_count": 94,
   "metadata": {
    "collapsed": false
   },
   "outputs": [
    {
     "data": {
      "text/plain": [
       "array([ 0.01561683,  0.0296251 ,  0.01202066,  0.0177477 ])"
      ]
     },
     "execution_count": 94,
     "metadata": {},
     "output_type": "execute_result"
    }
   ],
   "source": [
    "np.asarray([sum(k562outs[:,i])/float(len(k562seqs)) for i in xrange(4)]) - np.asarray([sum(k562bgouts[:,i])/float(len(k562seqs_bg)) for i in xrange(4)])"
   ]
  },
  {
   "cell_type": "code",
   "execution_count": 95,
   "metadata": {
    "collapsed": true
   },
   "outputs": [],
   "source": [
    "hepg2seqs_bg_bad = []\n",
    "f = open(data_dir + \"HepG2seqs_bg_bad.txt\")\n",
    "reads = f.readlines()\n",
    "f.close()\n",
    "for read in reads:\n",
    "    if read[0] != '>':\n",
    "        read = read[:-1]\n",
    "        seql = len(read)\n",
    "        hepg2seqs_bg_bad.append(read[seql/2 - 72 : seql/2 + 73].upper())\n",
    "\n",
    "k562seqs_bg_bad = []\n",
    "f = open(data_dir + \"K562seqs_bg_bad.txt\")\n",
    "reads = f.readlines()\n",
    "f.close()\n",
    "for read in reads:\n",
    "    if read[0] != '>':\n",
    "        read = read[:-1]\n",
    "        seql = len(read)\n",
    "        k562seqs_bg_bad.append(read[seql/2 - 72 : seql/2 + 73].upper())"
   ]
  },
  {
   "cell_type": "code",
   "execution_count": 96,
   "metadata": {
    "collapsed": false
   },
   "outputs": [
    {
     "name": "stdout",
     "output_type": "stream",
     "text": [
      "startk562\n",
      "starthepg2\n"
     ]
    }
   ],
   "source": [
    "print \"startk562\"\n",
    "k562bgbadouts = model.predict(model_input(k562seqs_bg_bad))\n",
    "print \"starthepg2\"\n",
    "hepg2bgbadouts = model.predict(model_input(hepg2seqs_bg_bad))"
   ]
  },
  {
   "cell_type": "code",
   "execution_count": 97,
   "metadata": {
    "collapsed": false
   },
   "outputs": [
    {
     "data": {
      "text/plain": [
       "array([ 0.02093879,  0.033314  ,  0.01656636,  0.01913879])"
      ]
     },
     "execution_count": 97,
     "metadata": {},
     "output_type": "execute_result"
    }
   ],
   "source": [
    "np.asarray([sum(hepg2outs[:,i])/float(len(hepg2seqs)) for i in xrange(4)]) - np.asarray([sum(hepg2bgbadouts[:,i])/float(len(hepg2seqs_bg_bad)) for i in xrange(4)])"
   ]
  },
  {
   "cell_type": "code",
   "execution_count": 101,
   "metadata": {
    "collapsed": false
   },
   "outputs": [
    {
     "data": {
      "text/plain": [
       "61889.0"
      ]
     },
     "execution_count": 101,
     "metadata": {},
     "output_type": "execute_result"
    }
   ],
   "source": [
    "means = np.asarray([-0.17303934, -0.24127505, -0.12425002, -0.06486262])\n",
    "\n",
    "counter = 0\n",
    "\n",
    "for out in hepg2specouts:\n",
    "    rescale = np.asarray(out) - means\n",
    "    if rescale[0] > rescale[1] and rescale[2] > rescale[3]:\n",
    "        counter += 1\n",
    "    if rescale[0] > rescale[1] and rescale[2] < rescale[3]:\n",
    "        counter += 0.5\n",
    "    if rescale[0] < rescale[1] and rescale[2] > rescale[3]:\n",
    "        counter += 0.5\n",
    "\n",
    "counter"
   ]
  },
  {
   "cell_type": "code",
   "execution_count": 102,
   "metadata": {
    "collapsed": false
   },
   "outputs": [
    {
     "data": {
      "text/plain": [
       "115862"
      ]
     },
     "execution_count": 102,
     "metadata": {},
     "output_type": "execute_result"
    }
   ],
   "source": [
    "len(hepg2specouts)"
   ]
  },
  {
   "cell_type": "code",
   "execution_count": null,
   "metadata": {
    "collapsed": true
   },
   "outputs": [],
   "source": []
  }
 ],
 "metadata": {
  "anaconda-cloud": {},
  "kernelspec": {
   "display_name": "Python [conda env:regression_dragonn_new]",
   "language": "python",
   "name": "conda-env-regression_dragonn_new-py"
  },
  "language_info": {
   "codemirror_mode": {
    "name": "ipython",
    "version": 2
   },
   "file_extension": ".py",
   "mimetype": "text/x-python",
   "name": "python",
   "nbconvert_exporter": "python",
   "pygments_lexer": "ipython2",
   "version": "2.7.12"
  }
 },
 "nbformat": 4,
 "nbformat_minor": 1
}
