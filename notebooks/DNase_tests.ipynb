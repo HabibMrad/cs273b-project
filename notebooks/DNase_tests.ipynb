{
 "cells": [
  {
   "cell_type": "code",
   "execution_count": 2,
   "metadata": {
    "collapsed": false
   },
   "outputs": [],
   "source": [
    "data_dir = \"../data/dnase/\"\n",
    "\n",
    "k562_peaks = {}\n",
    "hepg2_peaks = {}\n",
    "\n",
    "f = open(data_dir + \"wgEncodeUWDukeDnaseK562.fdr01peaks.hg19.bed\", 'r')\n",
    "reads = f.readlines()\n",
    "f.close()\n",
    "for read in reads:\n",
    "    coords = read.split()[:3]\n",
    "    if coords[0][3:] in k562_peaks:\n",
    "        k562_peaks[coords[0][3:]].append((int(coords[1]), int(coords[2])))\n",
    "    else:\n",
    "        k562_peaks[coords[0][3:]] = [(int(coords[1]), int(coords[2]))]\n",
    "        \n",
    "f = open(data_dir + \"wgEncodeUWDukeDnaseHepG2.fdr01peaks.hg19.bed\", 'r')\n",
    "reads = f.readlines()\n",
    "f.close()\n",
    "for read in reads:\n",
    "    coords = read.split()[:3]\n",
    "    if coords[0][3:] in hepg2_peaks:\n",
    "        hepg2_peaks[coords[0][3:]].append((int(coords[1]), int(coords[2])))\n",
    "    else:\n",
    "        hepg2_peaks[coords[0][3:]] = [(int(coords[1]), int(coords[2]))]"
   ]
  },
  {
   "cell_type": "code",
   "execution_count": 6,
   "metadata": {
    "collapsed": false
   },
   "outputs": [],
   "source": [
    "from collections import *\n",
    "import math\n",
    "import numpy as np\n",
    "from subprocess import Popen, PIPE\n",
    "\n",
    "letterindex = {'A': 0, 'a': 0, 'T': 1, 't': 1, 'C': 2, 'c': 2, 'G': 3, 'g': 3, 'N': -1, 'n': -1}\n",
    "\n",
    "def bases(chrom, start, end):\n",
    "    seq_count = int(math.ceil((float(end - start) / 60.0)))\n",
    "    sum_seq = \"\"\n",
    "    for i in xrange(seq_count - 1):\n",
    "        p = Popen(['samtools', 'faidx', '../Genome/hg19.fa', 'chr' + str(chrom) + ':' + str(start + 1 + i * 60) + '-' + str(start + 1 + (i + 1) * 60)], stdin=PIPE, stdout=PIPE, stderr=PIPE)\n",
    "        output, err = p.communicate()\n",
    "        sum_seq = sum_seq + output.split('\\n')[1]\n",
    "    p = Popen(['samtools', 'faidx', '../Genome/hg19.fa', 'chr' + str(chrom) + ':' + str(start + 1 + (seq_count - 1) * 60) + '-' + str(end)], stdin=PIPE, stdout=PIPE, stderr=PIPE)\n",
    "    output, err = p.communicate()\n",
    "    sum_seq = sum_seq + output.split('\\n')[1]\n",
    "    return sum_seq"
   ]
  },
  {
   "cell_type": "code",
   "execution_count": 3,
   "metadata": {
    "collapsed": false
   },
   "outputs": [],
   "source": [
    "data_dir = \"../data/dnase/\"\n",
    "hepg2seqs = []\n",
    "f = open(data_dir + \"HepG2seqs.txt\")\n",
    "reads = f.readlines()\n",
    "f.close()\n",
    "for read in reads:\n",
    "    if read[0] != '>':\n",
    "        read = read[:-1]\n",
    "        seql = len(read)\n",
    "        hepg2seqs.append(read[seql/2 - 72 : seql/2 + 73].upper())\n",
    "\n",
    "k562seqs = []\n",
    "f = open(data_dir + \"K562seqs.txt\")\n",
    "reads = f.readlines()\n",
    "f.close()\n",
    "for read in reads:\n",
    "    if read[0] != '>':\n",
    "        read = read[:-1]\n",
    "        seql = len(read)\n",
    "        k562seqs.append(read[seql/2 - 72 : seql/2 + 73].upper())"
   ]
  },
  {
   "cell_type": "code",
   "execution_count": 3,
   "metadata": {
    "collapsed": false
   },
   "outputs": [],
   "source": [
    "hepg2seqs_spec = []\n",
    "f = open(\"HepG2seqs_spec.txt\")\n",
    "reads = f.readlines()\n",
    "f.close()\n",
    "for read in reads:\n",
    "    if read[0] != '>':\n",
    "        read = read[:-1]\n",
    "        seql = len(read)\n",
    "        hepg2seqs_spec.append(read[seql/2 - 72 : seql/2 + 73].upper())\n",
    "\n",
    "k562seqs_spec = []\n",
    "f = open(\"K562seqs_spec.txt\")\n",
    "reads = f.readlines()\n",
    "f.close()\n",
    "for read in reads:\n",
    "    if read[0] != '>':\n",
    "        read = read[:-1]\n",
    "        seql = len(read)\n",
    "        k562seqs_spec.append(read[seql/2 - 72 : seql/2 + 73].upper())"
   ]
  },
  {
   "cell_type": "markdown",
   "metadata": {},
   "source": [
    "# Compare model predictions for cell lines\n",
    "\n",
    "Run the model to predict scores for sequences in K562, HepG2 DNase peaks"
   ]
  },
  {
   "cell_type": "code",
   "execution_count": 6,
   "metadata": {
    "collapsed": false
   },
   "outputs": [
    {
     "name": "stdout",
     "output_type": "stream",
     "text": [
      "startk562\n",
      "starthepg2\n"
     ]
    }
   ],
   "source": [
    "from dragonn.models import SequenceDNN_Regression\n",
    "from collections import *\n",
    "import math\n",
    "import numpy as np\n",
    "\n",
    "model = SequenceDNN_Regression.load('models/models/100n1_100n2_8w1_15w2.arch.json', 'models/models/100n1_100n2_8w1_15w2.weights.h5')\n",
    "\n",
    "print \"startk562\"\n",
    "k562outs = model.predict(model_input(k562seqs_spec))\n",
    "print \"starthepg2\"\n",
    "hepg2outs = model.predict(model_input(hepg2seqs_spec))"
   ]
  },
  {
   "cell_type": "code",
   "execution_count": 5,
   "metadata": {
    "collapsed": true
   },
   "outputs": [],
   "source": [
    "letterindex = {'A': 0, 'a': 0, 'T': 1, 't': 1, 'C': 2, 'c': 2, 'G': 3, 'g': 3, 'N': -1, 'n': -1}\n",
    "\n",
    "def model_input(seqs):\n",
    "    mi = np.zeros((len(seqs), 1, 4, len(seqs[0])))\n",
    "    for j in xrange(len(seqs)):\n",
    "        for i in xrange(len(seqs[0])):\n",
    "            mi[j][0][letterindex[seqs[j][i]]][i] = 1\n",
    "    return mi"
   ]
  },
  {
   "cell_type": "code",
   "execution_count": 11,
   "metadata": {
    "collapsed": false
   },
   "outputs": [
    {
     "data": {
      "text/plain": [
       "[0.062475619369912264,\n",
       " 0.0335387029226661,\n",
       " 0.026062159421763924,\n",
       " -0.0018360115974335766]"
      ]
     },
     "execution_count": 11,
     "metadata": {},
     "output_type": "execute_result"
    }
   ],
   "source": [
    "[sum(hepg2outs[:,i])/float(len(hepg2seqs)) for i in xrange(4)]"
   ]
  },
  {
   "cell_type": "code",
   "execution_count": 12,
   "metadata": {
    "collapsed": false
   },
   "outputs": [
    {
     "data": {
      "text/plain": [
       "[0.013094755395866103,\n",
       " 0.062633432023371322,\n",
       " -0.031049046942990589,\n",
       " 0.0087294568175669933]"
      ]
     },
     "execution_count": 12,
     "metadata": {},
     "output_type": "execute_result"
    }
   ],
   "source": [
    "[sum(k562outs[:,i])/float(len(k562seqs)) for i in xrange(4)]"
   ]
  },
  {
   "cell_type": "code",
   "execution_count": 15,
   "metadata": {
    "collapsed": false
   },
   "outputs": [
    {
     "data": {
      "text/plain": [
       "[0.53366259153498929,\n",
       " 0.46051751926575074,\n",
       " 0.48945630937142087,\n",
       " 0.46742054011473938]"
      ]
     },
     "execution_count": 15,
     "metadata": {},
     "output_type": "execute_result"
    }
   ],
   "source": [
    "[sum(hepg2outs[:,i] > 0)/float(len(hepg2seqs)) for i in xrange(4)]"
   ]
  },
  {
   "cell_type": "code",
   "execution_count": 16,
   "metadata": {
    "collapsed": false
   },
   "outputs": [
    {
     "data": {
      "text/plain": [
       "[0.46821017867560538,\n",
       " 0.49241098355630702,\n",
       " 0.42171694699059653,\n",
       " 0.48063441211078478]"
      ]
     },
     "execution_count": 16,
     "metadata": {},
     "output_type": "execute_result"
    }
   ],
   "source": [
    "[sum(k562outs[:,i] > 0)/float(len(k562seqs)) for i in xrange(4)]"
   ]
  },
  {
   "cell_type": "code",
   "execution_count": 27,
   "metadata": {
    "collapsed": false
   },
   "outputs": [
    {
     "name": "stdout",
     "output_type": "stream",
     "text": [
      "105477 192959\n",
      "99093 192959\n"
     ]
    }
   ],
   "source": [
    "print sum([int(hepg2outs[i, 0] > hepg2outs[i, 1]) for i in xrange(len(hepg2outs))]), len(hepg2outs)\n",
    "print sum([int(hepg2outs[i, 2] > hepg2outs[i, 3]) for i in xrange(len(hepg2outs))]), len(hepg2outs)"
   ]
  },
  {
   "cell_type": "code",
   "execution_count": 20,
   "metadata": {
    "collapsed": true
   },
   "outputs": [],
   "source": [
    "hdiffs0 = [hepg2outs[i, 0] - hepg2outs[i, 1] for i in xrange(len(hepg2outs))]"
   ]
  },
  {
   "cell_type": "code",
   "execution_count": 21,
   "metadata": {
    "collapsed": false
   },
   "outputs": [
    {
     "data": {
      "image/png": "[encoded data removed]",
      "text/plain": [
       "<matplotlib.figure.Figure at 0x7f7fed1dc550>"
      ]
     },
     "metadata": {},
     "output_type": "display_data"
    }
   ],
   "source": [
    "import matplotlib.pyplot as plt\n",
    "%matplotlib inline\n",
    "\n",
    "plt.hist(hdiffs0, bins=100)\n",
    "plt.show()"
   ]
  },
  {
   "cell_type": "code",
   "execution_count": null,
   "metadata": {
    "collapsed": true
   },
   "outputs": [],
   "source": []
  },
  {
   "cell_type": "markdown",
   "metadata": {},
   "source": [
    "# Differentiation in specific peaks\n",
    "\n",
    "Restrict to cell line-specific peaks"
   ]
  },
  {
   "cell_type": "code",
   "execution_count": 14,
   "metadata": {
    "collapsed": false
   },
   "outputs": [
    {
     "name": "stdout",
     "output_type": "stream",
     "text": [
      "startk562\n",
      "starthepg2\n"
     ]
    }
   ],
   "source": [
    "print \"startk562\"\n",
    "k562specouts = model.predict(model_input(k562seqs_spec))\n",
    "print \"starthepg2\"\n",
    "hepg2specouts = model.predict(model_input(hepg2seqs_spec))"
   ]
  },
  {
   "cell_type": "code",
   "execution_count": 22,
   "metadata": {
    "collapsed": false
   },
   "outputs": [
    {
     "data": {
      "text/plain": [
       "array([ 0.07544006, -0.05002364,  0.08760819, -0.01722078])"
      ]
     },
     "execution_count": 22,
     "metadata": {},
     "output_type": "execute_result"
    }
   ],
   "source": [
    "np.asarray([sum(hepg2specouts[:,i])/float(len(hepg2seqs_spec)) for i in xrange(4)]) - np.asarray([sum(k562specouts[:,i])/float(len(k562seqs_spec)) for i in xrange(4)])"
   ]
  },
  {
   "cell_type": "code",
   "execution_count": 28,
   "metadata": {
    "collapsed": false
   },
   "outputs": [
    {
     "name": "stdout",
     "output_type": "stream",
     "text": [
      "70829 115862\n",
      "59896 115862\n"
     ]
    }
   ],
   "source": [
    "print sum([int(hepg2specouts[i, 0] > hepg2specouts[i, 1]) for i in xrange(len(hepg2specouts))]), len(hepg2specouts)\n",
    "print sum([int(hepg2specouts[i, 2] > hepg2specouts[i, 3]) for i in xrange(len(hepg2specouts))]), len(hepg2specouts)"
   ]
  },
  {
   "cell_type": "code",
   "execution_count": 26,
   "metadata": {
    "collapsed": false
   },
   "outputs": [
    {
     "data": {
      "text/plain": [
       "(71501, 125105)"
      ]
     },
     "execution_count": 26,
     "metadata": {},
     "output_type": "execute_result"
    }
   ],
   "source": [
    "sum([int(k562specouts[i, 0] < k562specouts[i, 1]) for i in xrange(len(k562specouts))]), len(k562specouts)"
   ]
  },
  {
   "cell_type": "code",
   "execution_count": 23,
   "metadata": {
    "collapsed": false
   },
   "outputs": [
    {
     "data": {
      "text/plain": [
       "array([ 0.04938086, -0.02909473,  0.05711121, -0.01056547])"
      ]
     },
     "execution_count": 23,
     "metadata": {},
     "output_type": "execute_result"
    }
   ],
   "source": [
    "np.asarray([sum(hepg2outs[:,i])/float(len(hepg2seqs)) for i in xrange(4)]) - np.asarray([sum(k562outs[:,i])/float(len(k562seqs)) for i in xrange(4)])"
   ]
  },
  {
   "cell_type": "markdown",
   "metadata": {},
   "source": [
    "# Against background sequences\n",
    "\n",
    "See if model predicts enriched expression in DNase peaks compared to background regions nearby"
   ]
  },
  {
   "cell_type": "code",
   "execution_count": 1,
   "metadata": {
    "collapsed": false
   },
   "outputs": [
    {
     "ename": "NameError",
     "evalue": "name 'data_dir' is not defined",
     "output_type": "error",
     "traceback": [
      "\u001b[0;31m---------------------------------------------------------------------------\u001b[0m",
      "\u001b[0;31mNameError\u001b[0m                                 Traceback (most recent call last)",
      "\u001b[0;32m<ipython-input-1-649954b4b92b>\u001b[0m in \u001b[0;36m<module>\u001b[0;34m()\u001b[0m\n\u001b[1;32m      1\u001b[0m \u001b[0mhepg2seqs_bg\u001b[0m \u001b[0;34m=\u001b[0m \u001b[0;34m[\u001b[0m\u001b[0;34m]\u001b[0m\u001b[0;34m\u001b[0m\u001b[0m\n\u001b[0;32m----> 2\u001b[0;31m \u001b[0mf\u001b[0m \u001b[0;34m=\u001b[0m \u001b[0mopen\u001b[0m\u001b[0;34m(\u001b[0m\u001b[0mdata_dir\u001b[0m \u001b[0;34m+\u001b[0m \u001b[0;34m\"HepG2seqs_bg.txt\"\u001b[0m\u001b[0;34m)\u001b[0m\u001b[0;34m\u001b[0m\u001b[0m\n\u001b[0m\u001b[1;32m      3\u001b[0m \u001b[0mreads\u001b[0m \u001b[0;34m=\u001b[0m \u001b[0mf\u001b[0m\u001b[0;34m.\u001b[0m\u001b[0mreadlines\u001b[0m\u001b[0;34m(\u001b[0m\u001b[0;34m)\u001b[0m\u001b[0;34m\u001b[0m\u001b[0m\n\u001b[1;32m      4\u001b[0m \u001b[0mf\u001b[0m\u001b[0;34m.\u001b[0m\u001b[0mclose\u001b[0m\u001b[0;34m(\u001b[0m\u001b[0;34m)\u001b[0m\u001b[0;34m\u001b[0m\u001b[0m\n\u001b[1;32m      5\u001b[0m \u001b[0;32mfor\u001b[0m \u001b[0mread\u001b[0m \u001b[0;32min\u001b[0m \u001b[0mreads\u001b[0m\u001b[0;34m:\u001b[0m\u001b[0;34m\u001b[0m\u001b[0m\n",
      "\u001b[0;31mNameError\u001b[0m: name 'data_dir' is not defined"
     ]
    }
   ],
   "source": [
    "hepg2seqs_bg = []\n",
    "f = open(data_dir + \"HepG2seqs_bg.txt\")\n",
    "reads = f.readlines()\n",
    "f.close()\n",
    "for read in reads:\n",
    "    if read[0] != '>':\n",
    "        read = read[:-1]\n",
    "        seql = len(read)\n",
    "        hepg2seqs_bg.append(read[seql/2 - 72 : seql/2 + 73].upper())\n",
    "\n",
    "k562seqs_bg = []\n",
    "f = open(data_dir + \"K562seqs_bg.txt\")\n",
    "reads = f.readlines()\n",
    "f.close()\n",
    "for read in reads:\n",
    "    if read[0] != '>':\n",
    "        read = read[:-1]\n",
    "        seql = len(read)\n",
    "        k562seqs_bg.append(read[seql/2 - 72 : seql/2 + 73].upper())"
   ]
  },
  {
   "cell_type": "code",
   "execution_count": 91,
   "metadata": {
    "collapsed": false
   },
   "outputs": [
    {
     "name": "stdout",
     "output_type": "stream",
     "text": [
      "startk562\n",
      "starthepg2\n"
     ]
    }
   ],
   "source": [
    "print \"startk562\"\n",
    "k562bgouts = model.predict(model_input(k562seqs_bg))\n",
    "print \"starthepg2\"\n",
    "hepg2bgouts = model.predict(model_input(hepg2seqs_bg))"
   ]
  },
  {
   "cell_type": "code",
   "execution_count": 93,
   "metadata": {
    "collapsed": false
   },
   "outputs": [
    {
     "data": {
      "text/plain": [
       "array([ 0.01664479,  0.02442629,  0.01317806,  0.01469933])"
      ]
     },
     "execution_count": 93,
     "metadata": {},
     "output_type": "execute_result"
    }
   ],
   "source": [
    "np.asarray([sum(hepg2outs[:,i])/float(len(hepg2seqs)) for i in xrange(4)]) - np.asarray([sum(hepg2bgouts[:,i])/float(len(hepg2seqs_bg)) for i in xrange(4)])"
   ]
  },
  {
   "cell_type": "code",
   "execution_count": 94,
   "metadata": {
    "collapsed": false
   },
   "outputs": [
    {
     "data": {
      "text/plain": [
       "array([ 0.01561683,  0.0296251 ,  0.01202066,  0.0177477 ])"
      ]
     },
     "execution_count": 94,
     "metadata": {},
     "output_type": "execute_result"
    }
   ],
   "source": [
    "np.asarray([sum(k562outs[:,i])/float(len(k562seqs)) for i in xrange(4)]) - np.asarray([sum(k562bgouts[:,i])/float(len(k562seqs_bg)) for i in xrange(4)])"
   ]
  },
  {
   "cell_type": "code",
   "execution_count": 95,
   "metadata": {
    "collapsed": true
   },
   "outputs": [],
   "source": [
    "hepg2seqs_bg_bad = []\n",
    "f = open(data_dir + \"HepG2seqs_bg_bad.txt\")\n",
    "reads = f.readlines()\n",
    "f.close()\n",
    "for read in reads:\n",
    "    if read[0] != '>':\n",
    "        read = read[:-1]\n",
    "        seql = len(read)\n",
    "        hepg2seqs_bg_bad.append(read[seql/2 - 72 : seql/2 + 73].upper())\n",
    "\n",
    "k562seqs_bg_bad = []\n",
    "f = open(data_dir + \"K562seqs_bg_bad.txt\")\n",
    "reads = f.readlines()\n",
    "f.close()\n",
    "for read in reads:\n",
    "    if read[0] != '>':\n",
    "        read = read[:-1]\n",
    "        seql = len(read)\n",
    "        k562seqs_bg_bad.append(read[seql/2 - 72 : seql/2 + 73].upper())"
   ]
  },
  {
   "cell_type": "code",
   "execution_count": 96,
   "metadata": {
    "collapsed": false
   },
   "outputs": [
    {
     "name": "stdout",
     "output_type": "stream",
     "text": [
      "startk562\n",
      "starthepg2\n"
     ]
    }
   ],
   "source": [
    "print \"startk562\"\n",
    "k562bgbadouts = model.predict(model_input(k562seqs_bg_bad))\n",
    "print \"starthepg2\"\n",
    "hepg2bgbadouts = model.predict(model_input(hepg2seqs_bg_bad))"
   ]
  },
  {
   "cell_type": "code",
   "execution_count": 97,
   "metadata": {
    "collapsed": false
   },
   "outputs": [
    {
     "data": {
      "text/plain": [
       "array([ 0.02093879,  0.033314  ,  0.01656636,  0.01913879])"
      ]
     },
     "execution_count": 97,
     "metadata": {},
     "output_type": "execute_result"
    }
   ],
   "source": [
    "np.asarray([sum(hepg2outs[:,i])/float(len(hepg2seqs)) for i in xrange(4)]) - np.asarray([sum(hepg2bgbadouts[:,i])/float(len(hepg2seqs_bg_bad)) for i in xrange(4)])"
   ]
  },
  {
   "cell_type": "code",
   "execution_count": 101,
   "metadata": {
    "collapsed": false
   },
   "outputs": [
    {
     "data": {
      "text/plain": [
       "61889.0"
      ]
     },
     "execution_count": 101,
     "metadata": {},
     "output_type": "execute_result"
    }
   ],
   "source": [
    "means = np.asarray([-0.17303934, -0.24127505, -0.12425002, -0.06486262])\n",
    "\n",
    "counter = 0\n",
    "\n",
    "for out in hepg2specouts:\n",
    "    rescale = np.asarray(out) - means\n",
    "    if rescale[0] > rescale[1] and rescale[2] > rescale[3]:\n",
    "        counter += 1\n",
    "    if rescale[0] > rescale[1] and rescale[2] < rescale[3]:\n",
    "        counter += 0.5\n",
    "    if rescale[0] < rescale[1] and rescale[2] > rescale[3]:\n",
    "        counter += 0.5\n",
    "\n",
    "counter"
   ]
  },
  {
   "cell_type": "code",
   "execution_count": 102,
   "metadata": {
    "collapsed": false
   },
   "outputs": [
    {
     "data": {
      "text/plain": [
       "115862"
      ]
     },
     "execution_count": 102,
     "metadata": {},
     "output_type": "execute_result"
    }
   ],
   "source": [
    "len(hepg2specouts)"
   ]
  },
  {
   "cell_type": "code",
   "execution_count": 7,
   "metadata": {
    "collapsed": false
   },
   "outputs": [
    {
     "data": {
      "text/plain": [
       "(125105, 4)"
      ]
     },
     "execution_count": 7,
     "metadata": {},
     "output_type": "execute_result"
    }
   ],
   "source": [
    "k562outs.shape"
   ]
  },
  {
   "cell_type": "code",
   "execution_count": 14,
   "metadata": {
    "collapsed": false
   },
   "outputs": [],
   "source": [
    "import matplotlib.pyplot as plt\n",
    "%matplotlib inline\n"
   ]
  },
  {
   "cell_type": "code",
   "execution_count": 21,
   "metadata": {
    "collapsed": false
   },
   "outputs": [],
   "source": [
    "a = 2"
   ]
  },
  {
   "cell_type": "code",
   "execution_count": 16,
   "metadata": {
    "collapsed": false
   },
   "outputs": [
    {
     "data": {
      "text/plain": [
       "LinregressResult(slope=0.66865342031625352, intercept=0.025494385546319401, rvalue=0.67093247329417738, pvalue=0.0, stderr=0.002089345966943653)"
      ]
     },
     "execution_count": 16,
     "metadata": {},
     "output_type": "execute_result"
    }
   ],
   "source": [
    "from scipy.stats import linregress\n",
    "linregress(k562outs[:, 0], k562outs[:, 1])"
   ]
  },
  {
   "cell_type": "code",
   "execution_count": 28,
   "metadata": {
    "collapsed": false
   },
   "outputs": [
    {
     "data": {
      "image/png": "[encoded data removed]",
      "text/plain": [
       "<matplotlib.figure.Figure at 0x7fdaea03c610>"
      ]
     },
     "metadata": {},
     "output_type": "display_data"
    },
    {
     "data": {
      "text/plain": [
       "LinregressResult(slope=0.66865342031625352, intercept=0.025494385546319401, rvalue=0.67093247329417738, pvalue=0.0, stderr=0.002089345966943653)"
      ]
     },
     "execution_count": 28,
     "metadata": {},
     "output_type": "execute_result"
    }
   ],
   "source": [
    "plt.scatter(k562outs[:,0], k562outs[:,1], s=1.0, lw=0)\n",
    "plt.show()\n",
    "linregress(k562outs[:, 0], k562outs[:, 1])"
   ]
  },
  {
   "cell_type": "code",
   "execution_count": 29,
   "metadata": {
    "collapsed": false
   },
   "outputs": [
    {
     "data": {
      "image/png": "[encoded data removed]",
      "text/plain": [
       "<matplotlib.figure.Figure at 0x7fdaeb680d10>"
      ]
     },
     "metadata": {},
     "output_type": "display_data"
    },
    {
     "data": {
      "text/plain": [
       "LinregressResult(slope=0.47893686028720711, intercept=0.017697028417725767, rvalue=0.62300791042116321, pvalue=0.0, stderr=0.0017001109975383023)"
      ]
     },
     "execution_count": 29,
     "metadata": {},
     "output_type": "execute_result"
    }
   ],
   "source": [
    "plt.scatter(k562outs[:,2], k562outs[:,3], s=1.0, lw=0)\n",
    "plt.show()\n",
    "linregress(k562outs[:, 2], k562outs[:, 3])"
   ]
  },
  {
   "cell_type": "code",
   "execution_count": 30,
   "metadata": {
    "collapsed": false
   },
   "outputs": [
    {
     "data": {
      "image/png": "[encoded data removed]",
      "text/plain": [
       "<matplotlib.figure.Figure at 0x7fdaea0dd190>"
      ]
     },
     "metadata": {},
     "output_type": "display_data"
    },
    {
     "data": {
      "text/plain": [
       "LinregressResult(slope=0.56296414609985146, intercept=-0.073841841700728966, rvalue=0.58160832286311548, pvalue=0.0, stderr=0.0023132594817225171)"
      ]
     },
     "execution_count": 30,
     "metadata": {},
     "output_type": "execute_result"
    }
   ],
   "source": [
    "plt.scatter(hepg2outs[:,0], hepg2outs[:,1], s=1.0, lw=0)\n",
    "plt.show()\n",
    "linregress(hepg2outs[:, 0], hepg2outs[:, 1])"
   ]
  },
  {
   "cell_type": "code",
   "execution_count": 31,
   "metadata": {
    "collapsed": false
   },
   "outputs": [
    {
     "data": {
      "image/png": "[encoded data removed]",
      "text/plain": [
       "<matplotlib.figure.Figure at 0x7fdaea0dd690>"
      ]
     },
     "metadata": {},
     "output_type": "display_data"
    },
    {
     "data": {
      "text/plain": [
       "LinregressResult(slope=0.37507138672569185, intercept=-0.043143755090582839, rvalue=0.52930224507300105, pvalue=0.0, stderr=0.0017662865524626984)"
      ]
     },
     "execution_count": 31,
     "metadata": {},
     "output_type": "execute_result"
    }
   ],
   "source": [
    "plt.scatter(hepg2outs[:,2], hepg2outs[:,3], s=1.0, lw=0)\n",
    "plt.show()\n",
    "linregress(hepg2outs[:, 2], hepg2outs[:, 3])"
   ]
  },
  {
   "cell_type": "code",
   "execution_count": null,
   "metadata": {
    "collapsed": true
   },
   "outputs": [],
   "source": []
  }
 ],
 "metadata": {
  "anaconda-cloud": {},
  "kernelspec": {
   "display_name": "Python [conda env:regression_dragonn_new]",
   "language": "python",
   "name": "conda-env-regression_dragonn_new-py"
  },
  "language_info": {
   "codemirror_mode": {
    "name": "ipython",
    "version": 2
   },
   "file_extension": ".py",
   "mimetype": "text/x-python",
   "name": "python",
   "nbconvert_exporter": "python",
   "pygments_lexer": "ipython2",
   "version": "2.7.12"
  }
 },
 "nbformat": 4,
 "nbformat_minor": 1
}
