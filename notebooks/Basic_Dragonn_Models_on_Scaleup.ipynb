{
 "cells": [
  {
   "cell_type": "markdown",
   "metadata": {},
   "source": [
    "Runs two basic convolutional networks on the pilot dataset.\n",
    "\n",
    "### Things to do next\n",
    "- Figure out how to do regression (see below).\n",
    "- ~~Figure out how to do multitask learning (i.e. try to predict the different reps and different genes).~~\n",
    "- ~~Run on the scale up dataset.~~\n",
    "- Read up on the \"Interpreting a DragoNN model using filter visualization\" and \"Interpreting data with a DragoNN model\" in the Dragonn tutorial.\n",
    "\n",
    "### Installing Dragonn\n",
    "- Clone from https://github.com/kundajelab/dragonn\n",
    "- ```python setup.py```\n",
    "    - I needed to ```brew install geos```"
   ]
  },
  {
   "cell_type": "code",
   "execution_count": 1,
   "metadata": {
    "collapsed": false
   },
   "outputs": [
    {
     "name": "stderr",
     "output_type": "stream",
     "text": [
      "Using Theano backend.\n",
      "/Users/andrewlamb/anaconda/lib/python2.7/site-packages/Theano-0.8.2-py2.7.egg/theano/tensor/signal/downsample.py:6: UserWarning: downsample module has been moved to the theano.tensor.signal.pool module.\n",
      "  \"downsample module has been moved to the theano.tensor.signal.pool module.\")\n"
     ]
    }
   ],
   "source": [
    "from dragonn import models\n",
    "\n",
    "from collections import OrderedDict\n",
    "from pprint import pprint\n",
    "from warnings import warn\n",
    "\n",
    "import numpy as np\n",
    "import matplotlib.pyplot as plt\n",
    "\n",
    "%matplotlib inline"
   ]
  },
  {
   "cell_type": "markdown",
   "metadata": {},
   "source": [
    "Read in the pilot data.\n",
    "- Samples are sequences that will be one hot encoded\n",
    "- Try and predict the normalized values. **I couldn't figure out how to do regression with Dragonn, so I just rounded the values to 0 or 1 based on the median.**"
   ]
  },
  {
   "cell_type": "code",
   "execution_count": 2,
   "metadata": {
    "collapsed": false
   },
   "outputs": [
    {
     "name": "stderr",
     "output_type": "stream",
     "text": [
      "/Users/andrewlamb/anaconda/lib/python2.7/site-packages/ipykernel/__main__.py:21: UserWarning: Replacing 'N' bases in seq with 'A' in seq NNNNNNNNNGATCCCGCGGCCGTGTTTTCCTGGTGGCCCGGCCGTGCCTGAGGTTTCTCCCCGAGCCGCCGCCTCTGCGGGCTCCCGGGTGCCCTTGCCCTCACGGTCCCCGGCCCTCGCCCGTCTGTGCCCTCTTCCCCGCCCG.\n",
      "/Users/andrewlamb/anaconda/lib/python2.7/site-packages/ipykernel/__main__.py:21: UserWarning: Replacing 'N' bases in seq with 'A' in seq NNNNGATCCCGCGGCCGTGTTTTCCTGGTGGCCCGGCCGTGCCTGAGGTTTCTCCCCGAGCCGCCGCCTCTGCGGGCTCCCGGGTGCCCTTGCCCTCACGGTCCCCGGCCCTCGCCCGTCTGTGCCCTCTTCCCCGCCCGCCGCC.\n",
      "/Users/andrewlamb/anaconda/lib/python2.7/site-packages/ipykernel/__main__.py:21: UserWarning: Replacing 'N' bases in seq with 'A' in seq NNNNNNNNNNNNNNNNNNGAATTCAATGGAGTGGACTGGAGTGCTGTGGGGTGGAGTGGAATGGAGTGTAGTTGAATGGAGTGGAATGGAATGCGATGGAATGGAGTGGAGTTGAGCAGAGTGAAGTGGAAAGGTGTAGAATGGA.\n"
     ]
    },
    {
     "name": "stdout",
     "output_type": "stream",
     "text": [
      "[('H1hesc_1_0_0_chr20_30310735',\n",
      "  'GGGAGCCCAGAAGGCGACACAGGAATTGCGAAGCTCAGGAACCAGCCCCCTCGCTTGCTTCCTCCTCCATCGCCCGGATCGAGGGCGGCCGCTCCGCAGCCGCGGCCTCCTGCCACCCGGGAGCCCAGCCCCCTCTCTCTTGCAC'),\n",
      " ('H1hesc_1_0_1_chr20_30310735',\n",
      "  'CCCAGAAGGCGACACAGGAATTGCGAAGCTCAGGAACCAGCCCCCTCGCTTGCTTCCTCCTCCATCGCCCGGATCGAGGGCGGCCGCTCCGCAGCCGCGGCCTCCTGCCACCCGGGAGCCCAGCCCCCTCTCTCTTGCACGCCCC'),\n",
      " ('H1hesc_1_0_2_chr20_30310735',\n",
      "  'AAGGCGACACAGGAATTGCGAAGCTCAGGAACCAGCCCCCTCGCTTGCTTCCTCCTCCATCGCCCGGATCGAGGGCGGCCGCTCCGCAGCCGCGGCCTCCTGCCACCCGGGAGCCCAGCCCCCTCTCTCTTGCACGCCCCTTGGC'),\n",
      " ('H1hesc_1_0_3_chr20_30310735',\n",
      "  'GACACAGGAATTGCGAAGCTCAGGAACCAGCCCCCTCGCTTGCTTCCTCCTCCATCGCCCGGATCGAGGGCGGCCGCTCCGCAGCCGCGGCCTCCTGCCACCCGGGAGCCCAGCCCCCTCTCTCTTGCACGCCCCTTGGCTCTCC'),\n",
      " ('H1hesc_1_0_4_chr20_30310735',\n",
      "  'AGGAATTGCGAAGCTCAGGAACCAGCCCCCTCGCTTGCTTCCTCCTCCATCGCCCGGATCGAGGGCGGCCGCTCCGCAGCCGCGGCCTCCTGCCACCCGGGAGCCCAGCCCCCTCTCTCTTGCACGCCCCTTGGCTCTCCGCCTC')]\n",
      "487137 total sequences of length 145\n"
     ]
    },
    {
     "name": "stderr",
     "output_type": "stream",
     "text": [
      "/Users/andrewlamb/anaconda/lib/python2.7/site-packages/ipykernel/__main__.py:21: UserWarning: Replacing 'N' bases in seq with 'A' in seq NNNNNNNNNNNNNGAATTCAATGGAGTGGACTGGAGTGCTGTGGGGTGGAGTGGAATGGAGTGTAGTTGAATGGAGTGGAATGGAATGCGATGGAATGGAGTGGAGTTGAGCAGAGTGAAGTGGAAAGGTGTAGAATGGAATGGA.\n",
      "/Users/andrewlamb/anaconda/lib/python2.7/site-packages/ipykernel/__main__.py:21: UserWarning: Replacing 'N' bases in seq with 'A' in seq NNNNNNNNGAATTCAATGGAGTGGACTGGAGTGCTGTGGGGTGGAGTGGAATGGAGTGTAGTTGAATGGAGTGGAATGGAATGCGATGGAATGGAGTGGAGTTGAGCAGAGTGAAGTGGAAAGGTGTAGAATGGAATGGAATGGA.\n",
      "/Users/andrewlamb/anaconda/lib/python2.7/site-packages/ipykernel/__main__.py:21: UserWarning: Replacing 'N' bases in seq with 'A' in seq NNNGAATTCAATGGAGTGGACTGGAGTGCTGTGGGGTGGAGTGGAATGGAGTGTAGTTGAATGGAGTGGAATGGAATGCGATGGAATGGAGTGGAGTTGAGCAGAGTGAAGTGGAAAGGTGTAGAATGGAATGGAATGGAGTGGA.\n"
     ]
    }
   ],
   "source": [
    "key_to_seq = OrderedDict()\n",
    "\n",
    "with open(\"../data/Scaleup_counts_sequences/ScaleUpDesign1.sequences.txt\") as f:\n",
    "    for line in f:\n",
    "        key, seq = line.strip().split()\n",
    "        \n",
    "        # TODO: Figure out if this is an OK thing to do. 'N' basically means the \n",
    "        # sequencing software couldn't figure out what the base was...?\n",
    "        if \"N\" in seq:\n",
    "            warn(\"Replacing 'N' bases in seq with 'A' in seq {}.\".format(seq))\n",
    "            seq = seq.replace(\"N\", \"A\")\n",
    "        \n",
    "        assert key not in key_to_seq\n",
    "        key_to_seq[key] = seq\n",
    "        \n",
    "with open(\"../data/Scaleup_counts_sequences/ScaleUpDesign2.sequences.txt\") as f:\n",
    "    for line in f:\n",
    "        key, seq = line.strip().split()\n",
    "        \n",
    "        if \"N\" in seq:\n",
    "            warn(\"Replacing 'N' bases in seq with 'A' in seq {}.\".format(seq))\n",
    "            seq = seq.replace(\"N\", \"A\")\n",
    "        \n",
    "        assert key not in key_to_seq\n",
    "        key_to_seq[key] = seq\n",
    "        \n",
    "pprint(key_to_seq.items()[:5])\n",
    "\n",
    "print \"{} total sequences of length {}\".format(len(key_to_seq), len(key_to_seq.values()[0]))"
   ]
  },
  {
   "cell_type": "code",
   "execution_count": 3,
   "metadata": {
    "collapsed": false
   },
   "outputs": [
    {
     "name": "stdout",
     "output_type": "stream",
     "text": [
      "Data from experiment ('HepG2', 'minP'):\n",
      "[('Huvec_15_5_12_chr9_134025315', -0.8987649255400356),\n",
      " ('Huvec_5_556_25_chr16_3727095', -0.6722025396114724),\n",
      " ('Huvec_6_62_1_chr20_50358975', 0.0),\n",
      " ('Huvec_10_36_24_chr3_10502015', 0.0),\n",
      " ('K562_12_179_27_chr3_69021795', 0.0)]\n"
     ]
    }
   ],
   "source": [
    "data = {}\n",
    "cell_types =  [\"HepG2\", \"K562\"]\n",
    "promoters = [\"SV40P\", \"minP\"]\n",
    "design_names = [\"ScaleUpDesign1\", \"ScaleUpDesign2\"]\n",
    "\n",
    "for cell_type in cell_types:\n",
    "    for promoter in promoters:\n",
    "        experiment_key = (cell_type, promoter)\n",
    "        data[experiment_key] = {}\n",
    "        for design_name in design_names:\n",
    "            # Take the mean of the two reps.\n",
    "            with open(\"../data/Scaleup_normalized/{}_{}_{}_mRNA_Rep1.normalized\".format(cell_type, design_name, promoter)) as f:\n",
    "                for line in f:\n",
    "                    parts = line.strip().split()\n",
    "\n",
    "                    key = parts[0]\n",
    "                    val = float(parts[1])\n",
    "                    assert key not in data[experiment_key]\n",
    "                    data[experiment_key][key] = val\n",
    "\n",
    "            with open(\"../data/Scaleup_normalized/{}_{}_{}_mRNA_Rep2.normalized\".format(cell_type, design_name, promoter)) as f:\n",
    "                for line in f:\n",
    "                    parts = line.strip().split()\n",
    "\n",
    "                    key = parts[0]\n",
    "                    val = float(parts[1])\n",
    "                    assert key in data[experiment_key]\n",
    "                    data[experiment_key][key] = (data[experiment_key][key] + val) / 2.0\n",
    "\n",
    "        assert set(data[experiment_key].keys()) == set(key_to_seq.keys())\n",
    "            \n",
    "print \"Data from experiment {}:\".format(data.items()[0][0])\n",
    "pprint(data.items()[0][1].items()[:5])"
   ]
  },
  {
   "cell_type": "code",
   "execution_count": 4,
   "metadata": {
    "collapsed": false
   },
   "outputs": [],
   "source": [
    "# One hot encode DNA sequences the standard way.\n",
    "bases = ['A', 'T', 'C', 'G']\n",
    "\n",
    "def one_hot_encode_seq(seq):\n",
    "    result = np.zeros((len(bases), len(seq)))\n",
    "    \n",
    "    for i, base in enumerate(seq):\n",
    "        result[bases.index(base), i] = 1\n",
    "\n",
    "    return result\n",
    "\n",
    "def seqs_to_encoded_matrix(seqs):\n",
    "    # Wrangle the data into a shape that Dragonn wants.\n",
    "    result = np.concatenate(\n",
    "        map(one_hot_encode_seq, seqs)\n",
    "    ).reshape(\n",
    "        len(seqs), 1, len(bases), len(seqs[0])\n",
    "    )\n",
    "    \n",
    "    # Check we actually did the encoding right.\n",
    "    for i in range(len(seqs)):\n",
    "        for j in range(len(seqs[0])):\n",
    "            assert sum(result[i, 0, :, j]) == 1\n",
    "    \n",
    "    return result"
   ]
  },
  {
   "cell_type": "code",
   "execution_count": 5,
   "metadata": {
    "collapsed": false
   },
   "outputs": [],
   "source": [
    "X = seqs_to_encoded_matrix(key_to_seq.values())"
   ]
  },
  {
   "cell_type": "code",
   "execution_count": 6,
   "metadata": {
    "collapsed": false
   },
   "outputs": [
    {
     "data": {
      "text/plain": [
       "(487137, 1, 4, 145)"
      ]
     },
     "execution_count": 6,
     "metadata": {},
     "output_type": "execute_result"
    }
   ],
   "source": [
    "X.shape"
   ]
  },
  {
   "cell_type": "code",
   "execution_count": 7,
   "metadata": {
    "collapsed": false
   },
   "outputs": [],
   "source": [
    "# Just round to the median, to make this a classification task for now.\n",
    "experiment_labels = []\n",
    "for experiment_key, key_to_normalized in data.items():\n",
    "    median = np.median(key_to_normalized.values())\n",
    "    experiment_labels.append(\n",
    "        np.array(map(lambda key: key_to_normalized[key] > median, key_to_seq.keys())).reshape(-1, 1)\n",
    "    )\n",
    "\n",
    "y = np.hstack(experiment_labels)"
   ]
  },
  {
   "cell_type": "code",
   "execution_count": 8,
   "metadata": {
    "collapsed": false
   },
   "outputs": [
    {
     "data": {
      "text/plain": [
       "(487137, 4)"
      ]
     },
     "execution_count": 8,
     "metadata": {},
     "output_type": "execute_result"
    }
   ],
   "source": [
    "y.shape"
   ]
  },
  {
   "cell_type": "code",
   "execution_count": 9,
   "metadata": {
    "collapsed": false
   },
   "outputs": [
    {
     "data": {
      "text/plain": [
       "array([[[[ 0.,  0.,  0., ...,  0.,  1.,  0.],\n",
       "         [ 0.,  0.,  0., ...,  0.,  0.,  0.],\n",
       "         [ 0.,  0.,  0., ...,  1.,  0.,  1.],\n",
       "         [ 1.,  1.,  1., ...,  0.,  0.,  0.]]],\n",
       "\n",
       "\n",
       "       [[[ 0.,  0.,  0., ...,  0.,  0.,  0.],\n",
       "         [ 0.,  0.,  0., ...,  0.,  0.,  0.],\n",
       "         [ 1.,  1.,  1., ...,  1.,  1.,  1.],\n",
       "         [ 0.,  0.,  0., ...,  0.,  0.,  0.]]],\n",
       "\n",
       "\n",
       "       [[[ 1.,  1.,  0., ...,  0.,  0.,  0.],\n",
       "         [ 0.,  0.,  0., ...,  0.,  0.,  0.],\n",
       "         [ 0.,  0.,  0., ...,  0.,  0.,  1.],\n",
       "         [ 0.,  0.,  1., ...,  1.,  1.,  0.]]],\n",
       "\n",
       "\n",
       "       [[[ 0.,  1.,  0., ...,  0.,  0.,  0.],\n",
       "         [ 0.,  0.,  0., ...,  1.,  0.,  0.],\n",
       "         [ 0.,  0.,  1., ...,  0.,  1.,  1.],\n",
       "         [ 1.,  0.,  0., ...,  0.,  0.,  0.]]],\n",
       "\n",
       "\n",
       "       [[[ 1.,  0.,  0., ...,  0.,  0.,  0.],\n",
       "         [ 0.,  0.,  0., ...,  0.,  1.,  0.],\n",
       "         [ 0.,  0.,  0., ...,  1.,  0.,  1.],\n",
       "         [ 0.,  1.,  1., ...,  0.,  0.,  0.]]]])"
      ]
     },
     "execution_count": 9,
     "metadata": {},
     "output_type": "execute_result"
    }
   ],
   "source": [
    "X[:5, :, :, :]"
   ]
  },
  {
   "cell_type": "code",
   "execution_count": 10,
   "metadata": {
    "collapsed": false
   },
   "outputs": [
    {
     "data": {
      "text/plain": [
       "array([[ True, False, False, False],\n",
       "       [ True,  True, False,  True],\n",
       "       [ True,  True, False, False],\n",
       "       [ True,  True, False, False],\n",
       "       [ True,  True, False, False]], dtype=bool)"
      ]
     },
     "execution_count": 10,
     "metadata": {},
     "output_type": "execute_result"
    }
   ],
   "source": [
    "y[:5, :]"
   ]
  },
  {
   "cell_type": "code",
   "execution_count": 11,
   "metadata": {
    "collapsed": true
   },
   "outputs": [],
   "source": [
    "n_valid = 100\n",
    "X_train = X[:-n_valid,:,:,:]\n",
    "y_train = y[:-n_valid,:]\n",
    "\n",
    "X_valid = X[-n_valid:,:,:,:]\n",
    "y_valid = y[-n_valid:,:]"
   ]
  },
  {
   "cell_type": "markdown",
   "metadata": {},
   "source": [
    "Start with the model used in the Dragonn tutorial. Train and plot the train and validation loss."
   ]
  },
  {
   "cell_type": "code",
   "execution_count": 12,
   "metadata": {
    "collapsed": false
   },
   "outputs": [],
   "source": [
    "model = models.SequenceDNN(\n",
    "    seq_length=X_train.shape[3],\n",
    "    num_filters=[1],\n",
    "    conv_width=[45],\n",
    "    pool_width=45,\n",
    "    num_tasks=y_train.shape[1]\n",
    ")"
   ]
  },
  {
   "cell_type": "code",
   "execution_count": 13,
   "metadata": {
    "collapsed": false
   },
   "outputs": [
    {
     "name": "stdout",
     "output_type": "stream",
     "text": [
      "Training model (* indicates new best result)...\n",
      "Epoch 1:\n",
      "Train Task 0: Loss: 0.6578\tBalanced Accuracy: 61.13%\t auROC: 0.635\t auPRC: 0.653\t auPRG: 0.244\n",
      "\tRecall at 5%|10%|20% FDR: 0.1%|1.1%|12.1%\t Num Positives: 243504\t Num Negatives: 243533\n",
      "Task 1: Loss: 0.6618\tBalanced Accuracy: 60.39%\t auROC: 0.624\t auPRC: 0.646\t auPRG: 0.216\n",
      "\tRecall at 5%|10%|20% FDR: 0.1%|1.1%|11.3%\t Num Positives: 243508\t Num Negatives: 243529\n",
      "Task 2: Loss: 0.3716\tBalanced Accuracy: 50.00%\t auROC: 0.632\t auPRC: 0.207\t auPRG: 0.328\n",
      "\tRecall at 5%|10%|20% FDR: 0.0%|0.0%|0.0%\t Num Positives: 62968\t Num Negatives: 424069\n",
      "Task 3: Loss: 0.4235\tBalanced Accuracy: 50.00%\t auROC: 0.651\t auPRC: 0.402\t auPRG: 0.363\n",
      "\tRecall at 5%|10%|20% FDR: 0.0%|0.0%|0.0%\t Num Positives: 79818\t Num Negatives: 407219\n",
      "Valid Task 0: Loss: 0.7665\tBalanced Accuracy: 47.92%\t auROC: 0.472\t auPRC: 0.619\t auPRG: -0.036\n",
      "\tRecall at 5%|10%|20% FDR: 1.6%|1.6%|1.6%\t Num Positives: 64\t Num Negatives: 36\n",
      "Task 1: Loss: 0.7331\tBalanced Accuracy: 49.17%\t auROC: 0.501\t auPRC: 0.630\t auPRG: -0.033\n",
      "\tRecall at 5%|10%|20% FDR: 3.3%|3.3%|6.7%\t Num Positives: 60\t Num Negatives: 40\n",
      "Task 2: Loss: 0.6652\tBalanced Accuracy: 50.00%\t auROC: 0.638\t auPRC: 0.266\t auPRG: 0.280\n",
      "\tRecall at 5%|10%|20% FDR: 0.0%|0.0%|0.0%\t Num Positives: 33\t Num Negatives: 67\n",
      "Task 3: Loss: 0.7317\tBalanced Accuracy: 50.00%\t auROC: 0.715\t auPRC: 0.736\t auPRG: 0.451\n",
      "\tRecall at 5%|10%|20% FDR: 0.0%|0.0%|0.0%\t Num Positives: 43\t Num Negatives: 57 *\n",
      "Epoch 2:\n",
      "Train Task 0: Loss: 0.6570\tBalanced Accuracy: 61.14%\t auROC: 0.633\t auPRC: 0.654\t auPRG: 0.240\n",
      "\tRecall at 5%|10%|20% FDR: 0.1%|1.5%|13.1%\t Num Positives: 243504\t Num Negatives: 243533\n",
      "Task 1: Loss: 0.6606\tBalanced Accuracy: 60.41%\t auROC: 0.627\t auPRC: 0.649\t auPRG: 0.222\n",
      "\tRecall at 5%|10%|20% FDR: 0.1%|1.4%|12.1%\t Num Positives: 243508\t Num Negatives: 243529\n",
      "Task 2: Loss: 0.3707\tBalanced Accuracy: 50.00%\t auROC: 0.632\t auPRC: 0.360\t auPRG: 0.332\n",
      "\tRecall at 5%|10%|20% FDR: 0.0%|0.0%|0.0%\t Num Positives: 62968\t Num Negatives: 424069\n",
      "Task 3: Loss: 0.4226\tBalanced Accuracy: 50.00%\t auROC: 0.652\t auPRC: 0.406\t auPRG: 0.365\n",
      "\tRecall at 5%|10%|20% FDR: 0.0%|0.0%|0.0%\t Num Positives: 79818\t Num Negatives: 407219\n",
      "Valid Task 0: Loss: 0.7551\tBalanced Accuracy: 48.26%\t auROC: 0.468\t auPRC: 0.609\t auPRG: -0.024\n",
      "\tRecall at 5%|10%|20% FDR: 1.6%|1.6%|1.6%\t Num Positives: 64\t Num Negatives: 36\n",
      "Task 1: Loss: 0.7305\tBalanced Accuracy: 52.08%\t auROC: 0.492\t auPRC: 0.620\t auPRG: -0.033\n",
      "\tRecall at 5%|10%|20% FDR: 3.3%|3.3%|6.7%\t Num Positives: 60\t Num Negatives: 40\n",
      "Task 2: Loss: 0.6953\tBalanced Accuracy: 50.00%\t auROC: 0.646\t auPRC: 0.616\t auPRG: 0.295\n",
      "\tRecall at 5%|10%|20% FDR: 0.0%|0.0%|0.0%\t Num Positives: 33\t Num Negatives: 67\n",
      "Task 3: Loss: 0.7639\tBalanced Accuracy: 50.00%\t auROC: 0.709\t auPRC: 0.734\t auPRG: 0.446\n",
      "\tRecall at 5%|10%|20% FDR: 0.0%|0.0%|0.0%\t Num Positives: 43\t Num Negatives: 57\n",
      "Epoch 3:\n",
      "Train Task 0: Loss: 0.6568\tBalanced Accuracy: 61.20%\t auROC: 0.636\t auPRC: 0.655\t auPRG: 0.245\n",
      "\tRecall at 5%|10%|20% FDR: 0.2%|1.1%|13.2%\t Num Positives: 243504\t Num Negatives: 243533\n",
      "Task 1: Loss: 0.6603\tBalanced Accuracy: 60.54%\t auROC: 0.626\t auPRC: 0.648\t auPRG: 0.220\n",
      "\tRecall at 5%|10%|20% FDR: 0.1%|1.0%|12.4%\t Num Positives: 243508\t Num Negatives: 243529\n",
      "Task 2: Loss: 0.3706\tBalanced Accuracy: 50.00%\t auROC: 0.632\t auPRC: 0.363\t auPRG: 0.331\n",
      "\tRecall at 5%|10%|20% FDR: 0.0%|0.0%|0.0%\t Num Positives: 62968\t Num Negatives: 424069\n",
      "Task 3: Loss: 0.4225\tBalanced Accuracy: 50.00%\t auROC: 0.653\t auPRC: 0.404\t auPRG: 0.373\n",
      "\tRecall at 5%|10%|20% FDR: 0.0%|0.0%|0.0%\t Num Positives: 79818\t Num Negatives: 407219\n",
      "Valid Task 0: Loss: 0.7655\tBalanced Accuracy: 45.49%\t auROC: 0.435\t auPRC: 0.586\t auPRG: -0.031\n",
      "\tRecall at 5%|10%|20% FDR: 1.6%|1.6%|1.6%\t Num Positives: 64\t Num Negatives: 36\n",
      "Task 1: Loss: 0.7431\tBalanced Accuracy: 51.25%\t auROC: 0.495\t auPRC: 0.616\t auPRG: 0.084\n",
      "\tRecall at 5%|10%|20% FDR: 6.7%|6.7%|6.7%\t Num Positives: 60\t Num Negatives: 40\n",
      "Task 2: Loss: 0.6887\tBalanced Accuracy: 50.00%\t auROC: 0.678\t auPRC: 0.639\t auPRG: 0.335\n",
      "\tRecall at 5%|10%|20% FDR: 0.0%|0.0%|0.0%\t Num Positives: 33\t Num Negatives: 67\n",
      "Task 3: Loss: 0.7598\tBalanced Accuracy: 50.00%\t auROC: 0.731\t auPRC: 0.745\t auPRG: 0.470\n",
      "\tRecall at 5%|10%|20% FDR: 0.0%|0.0%|0.0%\t Num Positives: 43\t Num Negatives: 57\n",
      "Epoch 4:\n",
      "Train Task 0: Loss: 0.6568\tBalanced Accuracy: 61.16%\t auROC: 0.637\t auPRC: 0.655\t auPRG: 0.246\n",
      "\tRecall at 5%|10%|20% FDR: 0.1%|1.1%|12.8%\t Num Positives: 243504\t Num Negatives: 243533\n",
      "Task 1: Loss: 0.6602\tBalanced Accuracy: 60.52%\t auROC: 0.633\t auPRC: 0.650\t auPRG: 0.233\n",
      "\tRecall at 5%|10%|20% FDR: 0.1%|1.1%|12.1%\t Num Positives: 243508\t Num Negatives: 243529\n",
      "Task 2: Loss: 0.3706\tBalanced Accuracy: 50.00%\t auROC: 0.630\t auPRC: 0.267\t auPRG: 0.307\n",
      "\tRecall at 5%|10%|20% FDR: 0.0%|0.0%|0.0%\t Num Positives: 62968\t Num Negatives: 424069\n",
      "Task 3: Loss: 0.4225\tBalanced Accuracy: 50.00%\t auROC: 0.652\t auPRC: 0.319\t auPRG: 0.373\n",
      "\tRecall at 5%|10%|20% FDR: 0.0%|0.0%|0.0%\t Num Positives: 79818\t Num Negatives: 407219\n",
      "Valid Task 0: Loss: 0.7556\tBalanced Accuracy: 50.17%\t auROC: 0.466\t auPRC: 0.604\t auPRG: -0.007\n",
      "\tRecall at 5%|10%|20% FDR: 1.6%|1.6%|1.6%\t Num Positives: 64\t Num Negatives: 36\n",
      "Task 1: Loss: 0.7325\tBalanced Accuracy: 54.58%\t auROC: 0.510\t auPRC: 0.633\t auPRG: 0.024\n",
      "\tRecall at 5%|10%|20% FDR: 5.0%|5.0%|5.0%\t Num Positives: 60\t Num Negatives: 40\n",
      "Task 2: Loss: 0.7045\tBalanced Accuracy: 50.00%\t auROC: 0.602\t auPRC: 0.464\t auPRG: 0.171\n",
      "\tRecall at 5%|10%|20% FDR: 0.0%|0.0%|0.0%\t Num Positives: 33\t Num Negatives: 67\n",
      "Task 3: Loss: 0.7732\tBalanced Accuracy: 50.00%\t auROC: 0.681\t auPRC: 0.632\t auPRG: 0.387\n",
      "\tRecall at 5%|10%|20% FDR: 0.0%|0.0%|0.0%\t Num Positives: 43\t Num Negatives: 57\n",
      "Epoch 5:\n",
      "Train Task 0: Loss: 0.6567\tBalanced Accuracy: 61.21%\t auROC: 0.635\t auPRC: 0.655\t auPRG: 0.243\n",
      "\tRecall at 5%|10%|20% FDR: 0.1%|1.1%|13.0%\t Num Positives: 243504\t Num Negatives: 243533\n",
      "Task 1: Loss: 0.6602\tBalanced Accuracy: 60.53%\t auROC: 0.626\t auPRC: 0.648\t auPRG: 0.220\n",
      "\tRecall at 5%|10%|20% FDR: 0.2%|1.1%|12.2%\t Num Positives: 243508\t Num Negatives: 243529\n",
      "Task 2: Loss: 0.3705\tBalanced Accuracy: 50.00%\t auROC: 0.632\t auPRC: 0.374\t auPRG: 0.329\n",
      "\tRecall at 5%|10%|20% FDR: 0.0%|0.0%|0.0%\t Num Positives: 62968\t Num Negatives: 424069\n",
      "Task 3: Loss: 0.4225\tBalanced Accuracy: 50.00%\t auROC: 0.651\t auPRC: 0.419\t auPRG: 0.362\n",
      "\tRecall at 5%|10%|20% FDR: 0.0%|0.0%|0.0%\t Num Positives: 79818\t Num Negatives: 407219\n",
      "Valid Task 0: Loss: 0.7555\tBalanced Accuracy: 48.87%\t auROC: 0.475\t auPRC: 0.622\t auPRG: -0.031\n",
      "\tRecall at 5%|10%|20% FDR: 1.6%|1.6%|1.6%\t Num Positives: 64\t Num Negatives: 36\n",
      "Task 1: Loss: 0.7337\tBalanced Accuracy: 50.42%\t auROC: 0.495\t auPRC: 0.637\t auPRG: -0.042\n",
      "\tRecall at 5%|10%|20% FDR: 6.7%|6.7%|8.3%\t Num Positives: 60\t Num Negatives: 40\n",
      "Task 2: Loss: 0.6977\tBalanced Accuracy: 50.00%\t auROC: 0.632\t auPRC: 0.621\t auPRG: 0.300\n",
      "\tRecall at 5%|10%|20% FDR: 0.0%|0.0%|0.0%\t Num Positives: 33\t Num Negatives: 67\n",
      "Task 3: Loss: 0.7633\tBalanced Accuracy: 50.00%\t auROC: 0.693\t auPRC: 0.726\t auPRG: 0.416\n",
      "\tRecall at 5%|10%|20% FDR: 0.0%|0.0%|0.0%\t Num Positives: 43\t Num Negatives: 57\n",
      "Epoch 6:\n",
      "Train Task 0: Loss: 0.6567\tBalanced Accuracy: 61.19%\t auROC: 0.635\t auPRC: 0.655\t auPRG: 0.243\n",
      "\tRecall at 5%|10%|20% FDR: 0.1%|1.1%|13.2%\t Num Positives: 243504\t Num Negatives: 243533\n",
      "Task 1: Loss: 0.6602\tBalanced Accuracy: 60.46%\t auROC: 0.626\t auPRC: 0.648\t auPRG: 0.219\n",
      "\tRecall at 5%|10%|20% FDR: 0.1%|1.1%|12.3%\t Num Positives: 243508\t Num Negatives: 243529\n",
      "Task 2: Loss: 0.3706\tBalanced Accuracy: 50.00%\t auROC: 0.631\t auPRC: 0.258\t auPRG: 0.313\n",
      "\tRecall at 5%|10%|20% FDR: 0.0%|0.0%|0.0%\t Num Positives: 62968\t Num Negatives: 424069\n",
      "Task 3: Loss: 0.4224\tBalanced Accuracy: 50.00%\t auROC: 0.652\t auPRC: 0.284\t auPRG: 0.361\n",
      "\tRecall at 5%|10%|20% FDR: 0.0%|0.0%|0.0%\t Num Positives: 79818\t Num Negatives: 407219\n",
      "Valid Task 0: Loss: 0.7586\tBalanced Accuracy: 52.17%\t auROC: 0.465\t auPRC: 0.605\t auPRG: -0.031\n",
      "\tRecall at 5%|10%|20% FDR: 0.0%|0.0%|0.0%\t Num Positives: 64\t Num Negatives: 36\n",
      "Task 1: Loss: 0.7293\tBalanced Accuracy: 56.25%\t auROC: 0.491\t auPRC: 0.623\t auPRG: -0.042\n",
      "\tRecall at 5%|10%|20% FDR: 3.3%|3.3%|6.7%\t Num Positives: 60\t Num Negatives: 40\n",
      "Task 2: Loss: 0.7060\tBalanced Accuracy: 50.00%\t auROC: 0.595\t auPRC: 0.306\t auPRG: 0.230\n",
      "\tRecall at 5%|10%|20% FDR: 0.0%|0.0%|0.0%\t Num Positives: 33\t Num Negatives: 67\n",
      "Task 3: Loss: 0.7667\tBalanced Accuracy: 50.00%\t auROC: 0.694\t auPRC: 0.727\t auPRG: 0.418\n",
      "\tRecall at 5%|10%|20% FDR: 0.0%|0.0%|0.0%\t Num Positives: 43\t Num Negatives: 57\n",
      "Epoch 7:\n",
      "Train Task 0: Loss: 0.6567\tBalanced Accuracy: 61.24%\t auROC: 0.635\t auPRC: 0.655\t auPRG: 0.244\n",
      "\tRecall at 5%|10%|20% FDR: 0.1%|1.3%|13.1%\t Num Positives: 243504\t Num Negatives: 243533\n",
      "Task 1: Loss: 0.6602\tBalanced Accuracy: 60.54%\t auROC: 0.622\t auPRC: 0.647\t auPRG: 0.215\n",
      "\tRecall at 5%|10%|20% FDR: 0.1%|1.3%|12.2%\t Num Positives: 243508\t Num Negatives: 243529\n",
      "Task 2: Loss: 0.3704\tBalanced Accuracy: 50.00%\t auROC: 0.633\t auPRC: 0.360\t auPRG: 0.332\n",
      "\tRecall at 5%|10%|20% FDR: 0.0%|0.0%|0.0%\t Num Positives: 62968\t Num Negatives: 424069\n",
      "Task 3: Loss: 0.4225\tBalanced Accuracy: 50.00%\t auROC: 0.650\t auPRC: 0.216\t auPRG: 0.350\n",
      "\tRecall at 5%|10%|20% FDR: 0.0%|0.0%|0.0%\t Num Positives: 79818\t Num Negatives: 407219\n",
      "Valid Task 0: Loss: 0.7545\tBalanced Accuracy: 50.78%\t auROC: 0.467\t auPRC: 0.609\t auPRG: -0.024\n",
      "\tRecall at 5%|10%|20% FDR: 1.6%|1.6%|1.6%\t Num Positives: 64\t Num Negatives: 36\n",
      "Task 1: Loss: 0.7317\tBalanced Accuracy: 55.00%\t auROC: 0.476\t auPRC: 0.625\t auPRG: -0.065\n",
      "\tRecall at 5%|10%|20% FDR: 5.0%|5.0%|8.3%\t Num Positives: 60\t Num Negatives: 40\n",
      "Task 2: Loss: 0.7020\tBalanced Accuracy: 50.00%\t auROC: 0.651\t auPRC: 0.621\t auPRG: 0.339\n",
      "\tRecall at 5%|10%|20% FDR: 0.0%|0.0%|0.0%\t Num Positives: 33\t Num Negatives: 67\n",
      "Task 3: Loss: 0.7751\tBalanced Accuracy: 50.00%\t auROC: 0.704\t auPRC: 0.548\t auPRG: 0.437\n",
      "\tRecall at 5%|10%|20% FDR: 0.0%|0.0%|0.0%\t Num Positives: 43\t Num Negatives: 57\n",
      "Finished training after 7 epochs.\n"
     ]
    }
   ],
   "source": [
    "model.train(X_train, y_train, (X_valid, y_valid))"
   ]
  },
  {
   "cell_type": "code",
   "execution_count": 14,
   "metadata": {
    "collapsed": false
   },
   "outputs": [],
   "source": [
    "def print_loss(model):\n",
    "    train_losses, valid_losses = [np.array([epoch_metrics['Loss'] for epoch_metrics in metrics])\n",
    "                                  for metrics in (model.train_metrics, model.valid_metrics)]\n",
    "\n",
    "    # Pretty sure early stopping works by taking the mean of losses, might want to double check\n",
    "    train_losses = train_losses.mean(axis=1)\n",
    "    valid_losses = valid_losses.mean(axis=1)\n",
    "\n",
    "    f = plt.figure(figsize=(10, 4))\n",
    "    ax = f.add_subplot(1, 1, 1)\n",
    "    \n",
    "    ax.plot(range(len(train_losses)), train_losses, label='Training',lw=4)\n",
    "    ax.plot(range(len(train_losses)), valid_losses, label='Validation', lw=4)\n",
    "    \n",
    "    min_loss_indx = min(enumerate(valid_losses), key=lambda x: x[1])[0]\n",
    "    ax.plot([min_loss_indx, min_loss_indx], [0, 1.0], 'k--', label='Early Stop')\n",
    "    ax.legend(loc=\"upper right\")\n",
    "    ax.set_ylabel(\"Loss\")\n",
    "    ax.set_ylim((0.0,1.0))\n",
    "    ax.set_xlabel(\"Epoch\")\n",
    "    plt.show()"
   ]
  },
  {
   "cell_type": "code",
   "execution_count": 15,
   "metadata": {
    "collapsed": false
   },
   "outputs": [
    {
     "data": {
      "image/png": "[encoded data removed]",
      "text/plain": [
       "<matplotlib.figure.Figure at 0x11dc49f10>"
      ]
     },
     "metadata": {},
     "output_type": "display_data"
    }
   ],
   "source": [
    "print_loss(model)"
   ]
  },
  {
   "cell_type": "markdown",
   "metadata": {},
   "source": [
    "Train and test on a multi-filter model (not a lot of filters)."
   ]
  },
  {
   "cell_type": "code",
   "execution_count": 18,
   "metadata": {
    "collapsed": false
   },
   "outputs": [],
   "source": [
    "multi_filter_model = models.SequenceDNN(\n",
    "    seq_length=X_train.shape[3],\n",
    "    num_filters=[2],\n",
    "    conv_width=[45],\n",
    "    pool_width=45,\n",
    "    dropout=0.1,\n",
    "    num_tasks=y_train.shape[1]\n",
    ")"
   ]
  },
  {
   "cell_type": "code",
   "execution_count": 19,
   "metadata": {
    "collapsed": false
   },
   "outputs": [
    {
     "name": "stdout",
     "output_type": "stream",
     "text": [
      "Training model (* indicates new best result)...\n",
      "Epoch 1:\n",
      "Train Task 0: Loss: 0.6554\tBalanced Accuracy: 60.95%\t auROC: 0.649\t auPRC: 0.658\t auPRG: 0.273\n",
      "\tRecall at 5%|10%|20% FDR: 0.0%|0.7%|12.4%\t Num Positives: 243504\t Num Negatives: 243533\n",
      "Task 1: Loss: 0.6628\tBalanced Accuracy: 60.40%\t auROC: 0.621\t auPRC: 0.645\t auPRG: 0.214\n",
      "\tRecall at 5%|10%|20% FDR: 0.1%|0.9%|11.9%\t Num Positives: 243508\t Num Negatives: 243529\n",
      "Task 2: Loss: 0.3734\tBalanced Accuracy: 50.00%\t auROC: 0.631\t auPRC: 0.173\t auPRG: 0.351\n",
      "\tRecall at 5%|10%|20% FDR: 0.0%|0.0%|0.0%\t Num Positives: 62968\t Num Negatives: 424069\n",
      "Task 3: Loss: 0.4235\tBalanced Accuracy: 50.00%\t auROC: 0.650\t auPRC: 0.219\t auPRG: 0.339\n",
      "\tRecall at 5%|10%|20% FDR: 0.0%|0.0%|0.0%\t Num Positives: 79818\t Num Negatives: 407219\n",
      "Valid Task 0: Loss: 0.7613\tBalanced Accuracy: 45.75%\t auROC: 0.476\t auPRC: 0.617\t auPRG: 0.075\n",
      "\tRecall at 5%|10%|20% FDR: 3.1%|3.1%|3.1%\t Num Positives: 64\t Num Negatives: 36\n",
      "Task 1: Loss: 0.7455\tBalanced Accuracy: 49.17%\t auROC: 0.461\t auPRC: 0.605\t auPRG: -0.057\n",
      "\tRecall at 5%|10%|20% FDR: 6.7%|6.7%|6.7%\t Num Positives: 60\t Num Negatives: 40\n",
      "Task 2: Loss: 0.6827\tBalanced Accuracy: 50.00%\t auROC: 0.636\t auPRC: 0.392\t auPRG: 0.324\n",
      "\tRecall at 5%|10%|20% FDR: 0.0%|0.0%|0.0%\t Num Positives: 33\t Num Negatives: 67\n",
      "Task 3: Loss: 0.7447\tBalanced Accuracy: 50.00%\t auROC: 0.724\t auPRC: 0.582\t auPRG: 0.499\n",
      "\tRecall at 5%|10%|20% FDR: 0.0%|0.0%|0.0%\t Num Positives: 43\t Num Negatives: 57 *\n",
      "Epoch 2:\n",
      "Train Task 0: Loss: 0.6533\tBalanced Accuracy: 61.10%\t auROC: 0.656\t auPRC: 0.662\t auPRG: 0.291\n",
      "\tRecall at 5%|10%|20% FDR: 0.0%|1.3%|12.7%\t Num Positives: 243504\t Num Negatives: 243533\n",
      "Task 1: Loss: 0.6598\tBalanced Accuracy: 60.52%\t auROC: 0.634\t auPRC: 0.650\t auPRG: 0.234\n",
      "\tRecall at 5%|10%|20% FDR: 0.1%|1.1%|12.2%\t Num Positives: 243508\t Num Negatives: 243529\n",
      "Task 2: Loss: 0.3711\tBalanced Accuracy: 50.00%\t auROC: 0.639\t auPRC: 0.177\t auPRG: 0.371\n",
      "\tRecall at 5%|10%|20% FDR: 0.0%|0.0%|0.0%\t Num Positives: 62968\t Num Negatives: 424069\n",
      "Task 3: Loss: 0.4233\tBalanced Accuracy: 50.00%\t auROC: 0.649\t auPRC: 0.218\t auPRG: 0.339\n",
      "\tRecall at 5%|10%|20% FDR: 0.0%|0.0%|0.0%\t Num Positives: 79818\t Num Negatives: 407219\n",
      "Valid Task 0: Loss: 0.7250\tBalanced Accuracy: 48.87%\t auROC: 0.662\t auPRC: 0.718\t auPRG: 0.334\n",
      "\tRecall at 5%|10%|20% FDR: 3.1%|3.1%|64.1%\t Num Positives: 64\t Num Negatives: 36\n",
      "Task 1: Loss: 0.7297\tBalanced Accuracy: 47.92%\t auROC: 0.533\t auPRC: 0.643\t auPRG: 0.066\n",
      "\tRecall at 5%|10%|20% FDR: 5.0%|5.0%|6.7%\t Num Positives: 60\t Num Negatives: 40\n",
      "Task 2: Loss: 0.6582\tBalanced Accuracy: 50.00%\t auROC: 0.746\t auPRC: 0.519\t auPRG: 0.632\n",
      "\tRecall at 5%|10%|20% FDR: 0.0%|0.0%|0.0%\t Num Positives: 33\t Num Negatives: 67\n",
      "Task 3: Loss: 0.7418\tBalanced Accuracy: 50.00%\t auROC: 0.760\t auPRC: 0.618\t auPRG: 0.631\n",
      "\tRecall at 5%|10%|20% FDR: 0.0%|0.0%|0.0%\t Num Positives: 43\t Num Negatives: 57 *\n",
      "Epoch 3:\n",
      "Train Task 0: Loss: 0.6508\tBalanced Accuracy: 62.27%\t auROC: 0.663\t auPRC: 0.667\t auPRG: 0.318\n",
      "\tRecall at 5%|10%|20% FDR: 0.2%|1.1%|12.7%\t Num Positives: 243504\t Num Negatives: 243533\n",
      "Task 1: Loss: 0.6566\tBalanced Accuracy: 60.53%\t auROC: 0.649\t auPRC: 0.657\t auPRG: 0.275\n",
      "\tRecall at 5%|10%|20% FDR: 0.1%|1.1%|12.4%\t Num Positives: 243508\t Num Negatives: 243529\n",
      "Task 2: Loss: 0.3726\tBalanced Accuracy: 50.00%\t auROC: 0.637\t auPRC: 0.175\t auPRG: 0.358\n",
      "\tRecall at 5%|10%|20% FDR: 0.0%|0.0%|0.0%\t Num Positives: 62968\t Num Negatives: 424069\n",
      "Task 3: Loss: 0.4233\tBalanced Accuracy: 50.00%\t auROC: 0.648\t auPRC: 0.216\t auPRG: 0.326\n",
      "\tRecall at 5%|10%|20% FDR: 0.0%|0.0%|0.0%\t Num Positives: 79818\t Num Negatives: 407219\n",
      "Valid Task 0: Loss: 0.7123\tBalanced Accuracy: 50.43%\t auROC: 0.608\t auPRC: 0.699\t auPRG: 0.185\n",
      "\tRecall at 5%|10%|20% FDR: 0.0%|0.0%|0.0%\t Num Positives: 64\t Num Negatives: 36\n",
      "Task 1: Loss: 0.7205\tBalanced Accuracy: 53.75%\t auROC: 0.547\t auPRC: 0.664\t auPRG: 0.054\n",
      "\tRecall at 5%|10%|20% FDR: 3.3%|3.3%|3.3%\t Num Positives: 60\t Num Negatives: 40\n",
      "Task 2: Loss: 0.6605\tBalanced Accuracy: 50.00%\t auROC: 0.689\t auPRC: 0.469\t auPRG: 0.514\n",
      "\tRecall at 5%|10%|20% FDR: 0.0%|0.0%|0.0%\t Num Positives: 33\t Num Negatives: 67\n",
      "Task 3: Loss: 0.7527\tBalanced Accuracy: 50.00%\t auROC: 0.740\t auPRC: 0.612\t auPRG: 0.606\n",
      "\tRecall at 5%|10%|20% FDR: 0.0%|0.0%|0.0%\t Num Positives: 43\t Num Negatives: 57 *\n",
      "Epoch 4:\n",
      "Train Task 0: Loss: 0.6482\tBalanced Accuracy: 62.72%\t auROC: 0.668\t auPRC: 0.670\t auPRG: 0.328\n",
      "\tRecall at 5%|10%|20% FDR: 0.1%|0.9%|12.2%\t Num Positives: 243504\t Num Negatives: 243533\n",
      "Task 1: Loss: 0.6536\tBalanced Accuracy: 61.88%\t auROC: 0.656\t auPRC: 0.661\t auPRG: 0.302\n",
      "\tRecall at 5%|10%|20% FDR: 0.1%|0.8%|12.0%\t Num Positives: 243508\t Num Negatives: 243529\n",
      "Task 2: Loss: 0.3728\tBalanced Accuracy: 50.00%\t auROC: 0.635\t auPRC: 0.173\t auPRG: 0.348\n",
      "\tRecall at 5%|10%|20% FDR: 0.0%|0.0%|0.0%\t Num Positives: 62968\t Num Negatives: 424069\n",
      "Task 3: Loss: 0.4228\tBalanced Accuracy: 50.00%\t auROC: 0.657\t auPRC: 0.235\t auPRG: 0.401\n",
      "\tRecall at 5%|10%|20% FDR: 0.0%|0.0%|0.0%\t Num Positives: 79818\t Num Negatives: 407219\n",
      "Valid Task 0: Loss: 0.7123\tBalanced Accuracy: 55.38%\t auROC: 0.656\t auPRC: 0.756\t auPRG: 0.177\n",
      "\tRecall at 5%|10%|20% FDR: 0.0%|0.0%|48.4%\t Num Positives: 64\t Num Negatives: 36\n",
      "Task 1: Loss: 0.7099\tBalanced Accuracy: 54.58%\t auROC: 0.604\t auPRC: 0.704\t auPRG: 0.072\n",
      "\tRecall at 5%|10%|20% FDR: 0.0%|0.0%|15.0%\t Num Positives: 60\t Num Negatives: 40\n",
      "Task 2: Loss: 0.6768\tBalanced Accuracy: 50.00%\t auROC: 0.652\t auPRC: 0.428\t auPRG: 0.402\n",
      "\tRecall at 5%|10%|20% FDR: 0.0%|0.0%|0.0%\t Num Positives: 33\t Num Negatives: 67\n",
      "Task 3: Loss: 0.7629\tBalanced Accuracy: 50.00%\t auROC: 0.689\t auPRC: 0.647\t auPRG: 0.425\n",
      "\tRecall at 5%|10%|20% FDR: 16.3%|16.3%|18.6%\t Num Positives: 43\t Num Negatives: 57\n",
      "Epoch 5:\n",
      "Train Task 0: Loss: 0.6471\tBalanced Accuracy: 62.87%\t auROC: 0.670\t auPRC: 0.671\t auPRG: 0.333\n",
      "\tRecall at 5%|10%|20% FDR: 0.1%|1.2%|12.4%\t Num Positives: 243504\t Num Negatives: 243533\n",
      "Task 1: Loss: 0.6518\tBalanced Accuracy: 62.24%\t auROC: 0.659\t auPRC: 0.664\t auPRG: 0.310\n",
      "\tRecall at 5%|10%|20% FDR: 0.1%|1.1%|11.7%\t Num Positives: 243508\t Num Negatives: 243529\n",
      "Task 2: Loss: 0.3713\tBalanced Accuracy: 50.00%\t auROC: 0.633\t auPRC: 0.172\t auPRG: 0.339\n",
      "\tRecall at 5%|10%|20% FDR: 0.0%|0.0%|0.0%\t Num Positives: 62968\t Num Negatives: 424069\n",
      "Task 3: Loss: 0.4219\tBalanced Accuracy: 50.00%\t auROC: 0.660\t auPRC: 0.240\t auPRG: 0.418\n",
      "\tRecall at 5%|10%|20% FDR: 0.0%|0.0%|0.0%\t Num Positives: 79818\t Num Negatives: 407219\n",
      "Valid Task 0: Loss: 0.7326\tBalanced Accuracy: 56.60%\t auROC: 0.575\t auPRC: 0.706\t auPRG: 0.054\n",
      "\tRecall at 5%|10%|20% FDR: 0.0%|0.0%|20.3%\t Num Positives: 64\t Num Negatives: 36\n",
      "Task 1: Loss: 0.7194\tBalanced Accuracy: 56.67%\t auROC: 0.592\t auPRC: 0.696\t auPRG: 0.061\n",
      "\tRecall at 5%|10%|20% FDR: 0.0%|18.3%|20.0%\t Num Positives: 60\t Num Negatives: 40\n",
      "Task 2: Loss: 0.6974\tBalanced Accuracy: 50.00%\t auROC: 0.574\t auPRC: 0.343\t auPRG: 0.266\n",
      "\tRecall at 5%|10%|20% FDR: 0.0%|0.0%|0.0%\t Num Positives: 33\t Num Negatives: 67\n",
      "Task 3: Loss: 0.7677\tBalanced Accuracy: 50.00%\t auROC: 0.672\t auPRC: 0.555\t auPRG: 0.416\n",
      "\tRecall at 5%|10%|20% FDR: 2.3%|2.3%|2.3%\t Num Positives: 43\t Num Negatives: 57\n",
      "Epoch 6:\n",
      "Train Task 0: Loss: 0.6465\tBalanced Accuracy: 62.95%\t auROC: 0.671\t auPRC: 0.673\t auPRG: 0.334\n",
      "\tRecall at 5%|10%|20% FDR: 0.1%|1.1%|12.2%\t Num Positives: 243504\t Num Negatives: 243533\n",
      "Task 1: Loss: 0.6514\tBalanced Accuracy: 62.30%\t auROC: 0.661\t auPRC: 0.666\t auPRG: 0.310\n",
      "\tRecall at 5%|10%|20% FDR: 0.1%|1.0%|11.7%\t Num Positives: 243508\t Num Negatives: 243529\n",
      "Task 2: Loss: 0.3712\tBalanced Accuracy: 50.00%\t auROC: 0.633\t auPRC: 0.178\t auPRG: 0.347\n",
      "\tRecall at 5%|10%|20% FDR: 0.0%|0.0%|0.0%\t Num Positives: 62968\t Num Negatives: 424069\n",
      "Task 3: Loss: 0.4214\tBalanced Accuracy: 50.00%\t auROC: 0.663\t auPRC: 0.242\t auPRG: 0.424\n",
      "\tRecall at 5%|10%|20% FDR: 0.0%|0.0%|0.0%\t Num Positives: 79818\t Num Negatives: 407219\n",
      "Valid Task 0: Loss: 0.7439\tBalanced Accuracy: 53.04%\t auROC: 0.548\t auPRC: 0.688\t auPRG: 0.026\n",
      "\tRecall at 5%|10%|20% FDR: 0.0%|0.0%|9.4%\t Num Positives: 64\t Num Negatives: 36\n",
      "Task 1: Loss: 0.7332\tBalanced Accuracy: 55.83%\t auROC: 0.534\t auPRC: 0.659\t auPRG: -0.058\n",
      "\tRecall at 5%|10%|20% FDR: 0.0%|0.0%|16.7%\t Num Positives: 60\t Num Negatives: 40\n",
      "Task 2: Loss: 0.7054\tBalanced Accuracy: 50.00%\t auROC: 0.568\t auPRC: 0.352\t auPRG: 0.214\n",
      "\tRecall at 5%|10%|20% FDR: 0.0%|0.0%|0.0%\t Num Positives: 33\t Num Negatives: 67\n",
      "Task 3: Loss: 0.7670\tBalanced Accuracy: 50.00%\t auROC: 0.661\t auPRC: 0.572\t auPRG: 0.409\n",
      "\tRecall at 5%|10%|20% FDR: 2.3%|2.3%|2.3%\t Num Positives: 43\t Num Negatives: 57\n",
      "Epoch 7:\n",
      "Train Task 0: Loss: 0.6507\tBalanced Accuracy: 62.11%\t auROC: 0.670\t auPRC: 0.672\t auPRG: 0.335\n",
      "\tRecall at 5%|10%|20% FDR: 0.1%|1.5%|12.6%\t Num Positives: 243504\t Num Negatives: 243533\n",
      "Task 1: Loss: 0.6555\tBalanced Accuracy: 61.17%\t auROC: 0.660\t auPRC: 0.665\t auPRG: 0.310\n",
      "\tRecall at 5%|10%|20% FDR: 0.1%|1.3%|12.0%\t Num Positives: 243508\t Num Negatives: 243529\n",
      "Task 2: Loss: 0.3711\tBalanced Accuracy: 50.00%\t auROC: 0.636\t auPRC: 0.179\t auPRG: 0.361\n",
      "\tRecall at 5%|10%|20% FDR: 0.0%|0.0%|0.0%\t Num Positives: 62968\t Num Negatives: 424069\n",
      "Task 3: Loss: 0.4212\tBalanced Accuracy: 50.00%\t auROC: 0.664\t auPRC: 0.243\t auPRG: 0.427\n",
      "\tRecall at 5%|10%|20% FDR: 0.0%|0.0%|0.0%\t Num Positives: 79818\t Num Negatives: 407219\n",
      "Valid Task 0: Loss: 0.7274\tBalanced Accuracy: 49.13%\t auROC: 0.529\t auPRC: 0.675\t auPRG: 0.074\n",
      "\tRecall at 5%|10%|20% FDR: 0.0%|0.0%|20.3%\t Num Positives: 64\t Num Negatives: 36\n",
      "Task 1: Loss: 0.7184\tBalanced Accuracy: 54.17%\t auROC: 0.502\t auPRC: 0.659\t auPRG: -0.112\n",
      "\tRecall at 5%|10%|20% FDR: 0.0%|23.3%|25.0%\t Num Positives: 60\t Num Negatives: 40\n",
      "Task 2: Loss: 0.6967\tBalanced Accuracy: 50.00%\t auROC: 0.546\t auPRC: 0.328\t auPRG: 0.152\n",
      "\tRecall at 5%|10%|20% FDR: 0.0%|0.0%|0.0%\t Num Positives: 33\t Num Negatives: 67\n",
      "Task 3: Loss: 0.7761\tBalanced Accuracy: 50.00%\t auROC: 0.636\t auPRC: 0.504\t auPRG: 0.379\n",
      "\tRecall at 5%|10%|20% FDR: 0.0%|0.0%|0.0%\t Num Positives: 43\t Num Negatives: 57\n",
      "Epoch 8:\n",
      "Train Task 0: Loss: 0.6471\tBalanced Accuracy: 62.74%\t auROC: 0.671\t auPRC: 0.674\t auPRG: 0.335\n",
      "\tRecall at 5%|10%|20% FDR: 0.2%|1.4%|12.6%\t Num Positives: 243504\t Num Negatives: 243533\n",
      "Task 1: Loss: 0.6522\tBalanced Accuracy: 61.87%\t auROC: 0.661\t auPRC: 0.667\t auPRG: 0.311\n",
      "\tRecall at 5%|10%|20% FDR: 0.1%|1.1%|11.9%\t Num Positives: 243508\t Num Negatives: 243529\n",
      "Task 2: Loss: 0.3707\tBalanced Accuracy: 50.00%\t auROC: 0.636\t auPRC: 0.179\t auPRG: 0.359\n",
      "\tRecall at 5%|10%|20% FDR: 0.0%|0.0%|0.0%\t Num Positives: 62968\t Num Negatives: 424069\n",
      "Task 3: Loss: 0.4215\tBalanced Accuracy: 50.00%\t auROC: 0.665\t auPRC: 0.244\t auPRG: 0.430\n",
      "\tRecall at 5%|10%|20% FDR: 0.0%|0.0%|0.0%\t Num Positives: 79818\t Num Negatives: 407219\n",
      "Valid Task 0: Loss: 0.7375\tBalanced Accuracy: 50.17%\t auROC: 0.513\t auPRC: 0.643\t auPRG: 0.065\n",
      "\tRecall at 5%|10%|20% FDR: 0.0%|0.0%|0.0%\t Num Positives: 64\t Num Negatives: 36\n",
      "Task 1: Loss: 0.7259\tBalanced Accuracy: 54.58%\t auROC: 0.482\t auPRC: 0.615\t auPRG: -0.105\n",
      "\tRecall at 5%|10%|20% FDR: 0.0%|0.0%|0.0%\t Num Positives: 60\t Num Negatives: 40\n",
      "Task 2: Loss: 0.7059\tBalanced Accuracy: 50.00%\t auROC: 0.568\t auPRC: 0.345\t auPRG: 0.156\n",
      "\tRecall at 5%|10%|20% FDR: 0.0%|0.0%|0.0%\t Num Positives: 33\t Num Negatives: 67\n",
      "Task 3: Loss: 0.7866\tBalanced Accuracy: 50.00%\t auROC: 0.661\t auPRC: 0.536\t auPRG: 0.425\n",
      "\tRecall at 5%|10%|20% FDR: 2.3%|2.3%|2.3%\t Num Positives: 43\t Num Negatives: 57\n",
      "Epoch 9:\n",
      "Train Task 0: Loss: 0.6470\tBalanced Accuracy: 62.64%\t auROC: 0.672\t auPRC: 0.674\t auPRG: 0.335\n",
      "\tRecall at 5%|10%|20% FDR: 0.1%|1.1%|12.3%\t Num Positives: 243504\t Num Negatives: 243533\n",
      "Task 1: Loss: 0.6518\tBalanced Accuracy: 61.90%\t auROC: 0.661\t auPRC: 0.667\t auPRG: 0.311\n",
      "\tRecall at 5%|10%|20% FDR: 0.1%|1.0%|11.6%\t Num Positives: 243508\t Num Negatives: 243529\n",
      "Task 2: Loss: 0.3707\tBalanced Accuracy: 50.00%\t auROC: 0.637\t auPRC: 0.179\t auPRG: 0.359\n",
      "\tRecall at 5%|10%|20% FDR: 0.0%|0.0%|0.0%\t Num Positives: 62968\t Num Negatives: 424069\n",
      "Task 3: Loss: 0.4216\tBalanced Accuracy: 50.00%\t auROC: 0.666\t auPRC: 0.244\t auPRG: 0.430\n",
      "\tRecall at 5%|10%|20% FDR: 0.0%|0.0%|0.0%\t Num Positives: 79818\t Num Negatives: 407219\n",
      "Valid Task 0: Loss: 0.7402\tBalanced Accuracy: 49.22%\t auROC: 0.520\t auPRC: 0.646\t auPRG: 0.064\n",
      "\tRecall at 5%|10%|20% FDR: 0.0%|0.0%|0.0%\t Num Positives: 64\t Num Negatives: 36\n",
      "Task 1: Loss: 0.7287\tBalanced Accuracy: 55.42%\t auROC: 0.498\t auPRC: 0.633\t auPRG: -0.086\n",
      "\tRecall at 5%|10%|20% FDR: 0.0%|0.0%|0.0%\t Num Positives: 60\t Num Negatives: 40\n",
      "Task 2: Loss: 0.7094\tBalanced Accuracy: 50.00%\t auROC: 0.577\t auPRC: 0.399\t auPRG: 0.172\n",
      "\tRecall at 5%|10%|20% FDR: 6.1%|6.1%|6.1%\t Num Positives: 33\t Num Negatives: 67\n",
      "Task 3: Loss: 0.7886\tBalanced Accuracy: 50.00%\t auROC: 0.664\t auPRC: 0.531\t auPRG: 0.411\n",
      "\tRecall at 5%|10%|20% FDR: 0.0%|0.0%|0.0%\t Num Positives: 43\t Num Negatives: 57\n",
      "Finished training after 9 epochs.\n"
     ]
    }
   ],
   "source": [
    "multi_filter_model.train(X_train, y_train, (X_valid, y_valid))"
   ]
  },
  {
   "cell_type": "code",
   "execution_count": 20,
   "metadata": {
    "collapsed": false
   },
   "outputs": [
    {
     "data": {
      "image/png": "[encoded data removed]",
      "text/plain": [
       "<matplotlib.figure.Figure at 0x12f4c9090>"
      ]
     },
     "metadata": {},
     "output_type": "display_data"
    }
   ],
   "source": [
    "print_loss(multi_filter_model)"
   ]
  },
  {
   "cell_type": "code",
   "execution_count": null,
   "metadata": {
    "collapsed": true
   },
   "outputs": [],
   "source": []
  }
 ],
 "metadata": {
  "kernelspec": {
   "display_name": "Python 2",
   "language": "python",
   "name": "python2"
  },
  "language_info": {
   "codemirror_mode": {
    "name": "ipython",
    "version": 2
   },
   "file_extension": ".py",
   "mimetype": "text/x-python",
   "name": "python",
   "nbconvert_exporter": "python",
   "pygments_lexer": "ipython2",
   "version": "2.7.10"
  }
 },
 "nbformat": 4,
 "nbformat_minor": 0
}
