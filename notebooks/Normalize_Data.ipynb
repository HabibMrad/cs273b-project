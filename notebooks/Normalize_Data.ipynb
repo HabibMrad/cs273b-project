{
 "cells": [
  {
   "cell_type": "code",
   "execution_count": 1,
   "metadata": {
    "collapsed": true
   },
   "outputs": [],
   "source": [
    "import os"
   ]
  },
  {
   "cell_type": "code",
   "execution_count": null,
   "metadata": {
    "collapsed": false
   },
   "outputs": [
    {
     "name": "stdout",
     "output_type": "stream",
     "text": [
      "Running command: java -jar ~/Downloads/SHARPR/SHARPR.jar Normalize ../data/Scaleup_counts_sequences/HEPG2/HepG2_ScaleUpDesign1_minP_mRNA_Rep1.counts ../data/Scaleup_counts_sequences/DNACOUNTS/ScaleUpDesign1_minP_Plasmid.counts ../data/Scaleup_normalized/HepG2_ScaleUpDesign1_minP_mRNA_Rep1.normalized\n",
      "Running command: java -jar ~/Downloads/SHARPR/SHARPR.jar Normalize ../data/Scaleup_counts_sequences/HEPG2/HepG2_ScaleUpDesign1_minP_mRNA_Rep2.counts ../data/Scaleup_counts_sequences/DNACOUNTS/ScaleUpDesign1_minP_Plasmid.counts ../data/Scaleup_normalized/HepG2_ScaleUpDesign1_minP_mRNA_Rep2.normalized\n",
      "Running command: java -jar ~/Downloads/SHARPR/SHARPR.jar Normalize ../data/Scaleup_counts_sequences/HEPG2/HepG2_ScaleUpDesign1_SV40P_mRNA_Rep1.counts ../data/Scaleup_counts_sequences/DNACOUNTS/ScaleUpDesign1_SV40P_Plasmid.counts ../data/Scaleup_normalized/HepG2_ScaleUpDesign1_SV40P_mRNA_Rep1.normalized\n",
      "Running command: java -jar ~/Downloads/SHARPR/SHARPR.jar Normalize ../data/Scaleup_counts_sequences/HEPG2/HepG2_ScaleUpDesign1_SV40P_mRNA_Rep2.counts ../data/Scaleup_counts_sequences/DNACOUNTS/ScaleUpDesign1_SV40P_Plasmid.counts ../data/Scaleup_normalized/HepG2_ScaleUpDesign1_SV40P_mRNA_Rep2.normalized"
     ]
    }
   ],
   "source": [
    "rna_dirs = [\n",
    "    \"../data/Scaleup_counts_sequences/HEPG2\",\n",
    "    \"../data/Scaleup_counts_sequences/K562\"\n",
    "]\n",
    "\n",
    "for rna_dir in rna_dirs:\n",
    "    for count_file in os.listdir(rna_dir):\n",
    "        parts = count_file.rstrip(\".counts\").split(\"_\")\n",
    "        design_name = parts[1]\n",
    "        promoter = parts[2]\n",
    "        cell_name = os.path.basename(rna_dir)\n",
    "        dna_file = \"../data/Scaleup_counts_sequences/DNACOUNTS/{}_{}_Plasmid.counts\".format(\n",
    "            design_name, promoter\n",
    "        )\n",
    "        rna_file = os.path.join(rna_dir, count_file)\n",
    "        out_file = \"../data/Scaleup_normalized/{}\".format(\n",
    "            count_file.replace(\".counts\", \".normalized\")\n",
    "        )\n",
    "        \n",
    "        command = \"java -jar {} Normalize {} {} {}\".format(\n",
    "                \"~/Downloads/SHARPR/SHARPR.jar\",\n",
    "                rna_file,\n",
    "                dna_file,\n",
    "                out_file\n",
    "            )\n",
    "        \n",
    "        print \"Running command: {}\".format(command)\n",
    "        \n",
    "        os.system(command)"
   ]
  },
  {
   "cell_type": "code",
   "execution_count": null,
   "metadata": {
    "collapsed": true
   },
   "outputs": [],
   "source": []
  }
 ],
 "metadata": {
  "anaconda-cloud": {},
  "kernelspec": {
   "display_name": "Python [default]",
   "language": "python",
   "name": "python2"
  },
  "language_info": {
   "codemirror_mode": {
    "name": "ipython",
    "version": 2
   },
   "file_extension": ".py",
   "mimetype": "text/x-python",
   "name": "python",
   "nbconvert_exporter": "python",
   "pygments_lexer": "ipython2",
   "version": "2.7.12"
  }
 },
 "nbformat": 4,
 "nbformat_minor": 0
}
