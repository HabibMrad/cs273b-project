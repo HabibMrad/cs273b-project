{
 "cells": [
  {
   "cell_type": "markdown",
   "metadata": {},
   "source": [
    "# Nucleotide level interpretation of model at DNase HS sites\n",
    "\n",
    "1. Comparison to SHARPR\n",
    "2. Overlap with SiPhy conserved regions\n",
    "3. Overlap with CENTIPEDE motifs\n",
    "4. Average activities at motif instances, comparing cell types."
   ]
  },
  {
   "cell_type": "code",
   "execution_count": 23,
   "metadata": {
    "collapsed": true
   },
   "outputs": [],
   "source": [
    "import numpy as np\n",
    "from glob import glob\n",
    "import gzip\n",
    "from sklearn.metrics import r2_score\n",
    "from scipy.stats import spearmanr\n",
    "import matplotlib.pyplot as plt"
   ]
  },
  {
   "cell_type": "code",
   "execution_count": 21,
   "metadata": {
    "collapsed": true
   },
   "outputs": [],
   "source": [
    "def quantile_plot(data_pairs, quantiles = 5000):\n",
    "    data_pairs = sorted(data_pairs, key = lambda x: x[0])\n",
    "    avg_activity, avg_score = [], []\n",
    "    for i in range(0, len(data_pairs), len(data_pairs) / quantiles):\n",
    "        index = range(i, min(i + (len(data_pairs) / quantiles), len(data_pairs)))\n",
    "        activities = [data_pairs[j][0] for j in index]\n",
    "        scores  = [data_pairs[j][1] for j in index]\n",
    "        avg_activity.append(sum(activities) / float(len(activities)))\n",
    "        avg_score.append(sum(scores) / float(len(scores)))\n",
    "    i = 0\n",
    "    while avg_activity[i] < 0: i += 1\n",
    "    rho, pval = spearmanr(avg_activity[i:], avg_score[i:])\n",
    "    print rho, pval\n",
    "    plt.scatter(avg_activity, avg_score)\n",
    "    plt.show()"
   ]
  },
  {
   "cell_type": "markdown",
   "metadata": {},
   "source": [
    "# Load in importance scores"
   ]
  },
  {
   "cell_type": "code",
   "execution_count": 25,
   "metadata": {
    "collapsed": false
   },
   "outputs": [],
   "source": [
    "deep = {} # chrom -> position -> score\n",
    "files = glob('../../data/dnase/hepg2_deeplift*')\n",
    "for fn in files[:1]:\n",
    "    with gzip.open(fn) as fp:\n",
    "        for line in fp:\n",
    "            chrom, pos, score = line.strip().split()\n",
    "            if chrom not in deep:\n",
    "                deep[chrom] = {}\n",
    "            deep[chrom][int(pos)] = float(score)"
   ]
  },
  {
   "cell_type": "markdown",
   "metadata": {},
   "source": [
    "# Comparison to SHARPR"
   ]
  },
  {
   "cell_type": "markdown",
   "metadata": {},
   "source": [
    "# SiPhy Conservation"
   ]
  },
  {
   "cell_type": "code",
   "execution_count": 26,
   "metadata": {
    "collapsed": false
   },
   "outputs": [],
   "source": [
    "# Load in the data.\n",
    "si_phi = {} # chrom, position, LOR (no entry implies not signiticant)\n",
    "with gzip.open('../../data/conservation/hg19_29way_pi_lods_elements_12mers.chr_specific.fdr_0.1_with_scores.txt.gz') as conservation:\n",
    "    for line in conservation:\n",
    "        chrom, start, end, lor, branch = line.strip().split()\n",
    "        start, end, lor = int(start), int(end), float(lor)\n",
    "        if chrom not in deep: continue\n",
    "        if chrom not in si_phi: si_phi[chrom] = {}\n",
    "        if (start not in deep[chrom]\n",
    "            and end not in deep[chrom]): continue\n",
    "        for pos in range(start, end):\n",
    "            si_phi[chrom][pos] = 1"
   ]
  },
  {
   "cell_type": "code",
   "execution_count": 36,
   "metadata": {
    "collapsed": false
   },
   "outputs": [],
   "source": [
    "deep_conserve = []\n",
    "for chrom, positions in deep.items():\n",
    "    for pos, score in positions.items():\n",
    "        if chrom == 'chrY': continue\n",
    "        deep_conserve.append((score, si_phi[chrom][pos] if pos in si_phi[chrom] else 0))"
   ]
  },
  {
   "cell_type": "code",
   "execution_count": 38,
   "metadata": {
    "collapsed": false
   },
   "outputs": [
    {
     "name": "stdout",
     "output_type": "stream",
     "text": [
      "0.703668853092 1.62602755533e-185\n"
     ]
    },
    {
     "data": {
      "image/png": "[encoded data removed]",
      "text/plain": [
       "<matplotlib.figure.Figure at 0x7fb2bf2eb3d0>"
      ]
     },
     "metadata": {},
     "output_type": "display_data"
    }
   ],
   "source": [
    "quantile_plot(deep_conserve, 2500)"
   ]
  },
  {
   "cell_type": "markdown",
   "metadata": {},
   "source": [
    "# Comparison to CENTIPEDE motifs"
   ]
  },
  {
   "cell_type": "code",
   "execution_count": 30,
   "metadata": {
    "collapsed": false
   },
   "outputs": [],
   "source": [
    "hepG2_centipede = {}\n",
    "with gzip.open('../../data/centipede/HEPG2_liftover.bed.gz') as regions:\n",
    "    regions.readline()\n",
    "    for line in regions:\n",
    "        chrom, start, end, motif = line.strip().split()[:4]\n",
    "        start, end = int(start), int(end)\n",
    "        if chrom not in hepG2_centipede: hepG2_centipede[chrom] = {}\n",
    "        for pos in range(start, end):\n",
    "            hepG2_centipede[chrom][pos] = motif"
   ]
  },
  {
   "cell_type": "code",
   "execution_count": 33,
   "metadata": {
    "collapsed": false
   },
   "outputs": [],
   "source": [
    "deep_centipede = []\n",
    "for chrom, positions in deep.items():\n",
    "    for pos, score in positions.items():\n",
    "        motif = 1 if pos in hepG2_centipede[chrom] else 0\n",
    "        deep_centipede.append((score, motif))"
   ]
  },
  {
   "cell_type": "code",
   "execution_count": 39,
   "metadata": {
    "collapsed": false
   },
   "outputs": [
    {
     "name": "stdout",
     "output_type": "stream",
     "text": [
      "0.774619540297 0.0\n"
     ]
    },
    {
     "data": {
      "image/png": "[encoded data removed]",
      "text/plain": [
       "<matplotlib.figure.Figure at 0x7fb27e6185d0>"
      ]
     },
     "metadata": {},
     "output_type": "display_data"
    }
   ],
   "source": [
    "quantile_plot(deep_centipede, 5000)"
   ]
  },
  {
   "cell_type": "markdown",
   "metadata": {},
   "source": [
    "# Differential motif analysis\n",
    "\n",
    "Will need to rerun deeplift on k562 promoter! Probably should use minP...."
   ]
  },
  {
   "cell_type": "code",
   "execution_count": null,
   "metadata": {
    "collapsed": true
   },
   "outputs": [],
   "source": [
    "print deep_motif_scores.keys()\n",
    "hepG2, k562 = [], []\n",
    "exp1, exp2 = ('SV40P', 'HepG2'), ('SV40P', 'K562')\n",
    "print len(deep_motif_scores[exp1].keys())\n",
    "for motif, h in deep_motif_scores[exp1].items():\n",
    "    if not motif in deep_motif_scores[exp2]: continue\n",
    "    k = deep_motif_scores[exp2][motif]\n",
    "    \n",
    "    hepG2 += [sum(h) / float(len(h))]\n",
    "    k562 += [sum(k) / float(len(k))]\n",
    "plt.scatter(hepG2, k562)\n",
    "plt.show()"
   ]
  },
  {
   "cell_type": "code",
   "execution_count": null,
   "metadata": {
    "collapsed": true
   },
   "outputs": [],
   "source": [
    "encode = {}\n",
    "with open('../data/encode/matches.txt') as regions:\n",
    "    for i, line in enumerate(regions):\n",
    "        motif, chrom, start, end, strand = line.strip().split()\n",
    "        start, end = int(start), int(end)\n",
    "        if chrom not in encode: encode[chrom] = {}\n",
    "        if start not in sharpr.values()[0][chrom]: continue\n",
    "        for pos in range(start, end):\n",
    "            if pos not in encode[chrom]: encode[chrom][pos] = set()\n",
    "            encode[chrom][pos].add(motif)"
   ]
  }
 ],
 "metadata": {
  "anaconda-cloud": {},
  "kernelspec": {
   "display_name": "Python [conda env:regression_dragonn_new]",
   "language": "python",
   "name": "conda-env-regression_dragonn_new-py"
  },
  "language_info": {
   "codemirror_mode": {
    "name": "ipython",
    "version": 2
   },
   "file_extension": ".py",
   "mimetype": "text/x-python",
   "name": "python",
   "nbconvert_exporter": "python",
   "pygments_lexer": "ipython2",
   "version": "2.7.12"
  }
 },
 "nbformat": 4,
 "nbformat_minor": 1
}
