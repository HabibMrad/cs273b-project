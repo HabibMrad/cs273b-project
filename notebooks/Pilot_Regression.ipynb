{
 "cells": [
  {
   "cell_type": "markdown",
   "metadata": {},
   "source": [
    "Runs two basic convolutional networks on the pilot dataset.\n",
    "\n",
    "The regression modules are implemented in cs273b-project/dragonn\n",
    "\n",
    "To make changes to this dragonn-\n",
    "\n",
    "\\$ sudo su\n",
    "\n",
    "\\$ source activate regression_dragonn\n",
    "\n",
    "\\$ cd cs273b-project/dragonn\n",
    "\n",
    "\\$ python setup.py install"
   ]
  },
  {
   "cell_type": "code",
   "execution_count": 1,
   "metadata": {
    "collapsed": false
   },
   "outputs": [
    {
     "name": "stderr",
     "output_type": "stream",
     "text": [
      "Using Theano backend.\n",
      "Using gpu device 0: Tesla K80 (CNMeM is disabled, cuDNN 5005)\n",
      "/usr/local/anaconda3/envs/regression_dragonn/lib/python2.7/site-packages/theano/tensor/signal/downsample.py:6: UserWarning: downsample module has been moved to the theano.tensor.signal.pool module.\n",
      "  \"downsample module has been moved to the theano.tensor.signal.pool module.\")\n"
     ]
    }
   ],
   "source": [
    "from dragonn import models\n",
    "\n",
    "from collections import OrderedDict\n",
    "from pprint import pprint\n",
    "\n",
    "import numpy as np\n",
    "import matplotlib.pyplot as plt\n",
    "from dragonn.hyperparameter_search import HyperparameterSearcher, RandomSearch\n",
    "\n",
    "%matplotlib inline"
   ]
  },
  {
   "cell_type": "markdown",
   "metadata": {},
   "source": [
    "Read in the pilot data.\n",
    "- Samples are sequences that will be one hot encoded\n",
    "- Try and predict the normalized values. **I couldn't figure out how to do regression with Dragonn, so I just rounded the values to 0 or 1 based on the median.**"
   ]
  },
  {
   "cell_type": "code",
   "execution_count": 2,
   "metadata": {
    "collapsed": false
   },
   "outputs": [],
   "source": [
    "key_to_seq = OrderedDict()\n",
    "\n",
    "with open(\"../data/Pilot_counts_sequences/PilotDesign.sequences.txt\") as f:\n",
    "    for line in f:\n",
    "        key, seq = line.strip().split()\n",
    "        key_to_seq[key] = seq"
   ]
  },
  {
   "cell_type": "code",
   "execution_count": 3,
   "metadata": {
    "collapsed": false
   },
   "outputs": [],
   "source": [
    "key_to_normalized_K562_Rep1 = {}\n",
    "key_to_normalized_K562_Rep2 = {}\n",
    "\n",
    "with open(\"../data/Pilot_normalized/K562/tablenorm_recenterends_K562_Rep1_20.txt\") as f:\n",
    "    for line in f:\n",
    "        parts = line.strip().split()\n",
    "        \n",
    "        for i, norm in enumerate(parts[1:]):\n",
    "            key = \"{}_{}\".format(parts[0], i)\n",
    "            val = float(norm)\n",
    "            key_to_normalized_K562_Rep1[key] = val\n",
    "            \n",
    "with open(\"../data/Pilot_normalized/K562/tablenorm_recenterends_K562_Rep2_20.txt\") as f:\n",
    "    for line in f:\n",
    "        parts = line.strip().split()\n",
    "        \n",
    "        for i, norm in enumerate(parts[1:]):\n",
    "            key = \"{}_{}\".format(parts[0], i)\n",
    "            val = float(norm)\n",
    "            key_to_normalized_K562_Rep2[key] = val\n",
    "\n",
    "# Check that the sequence and value keys line up.\n",
    "assert set(key_to_normalized_K562_Rep1.keys()) == set(key_to_seq.keys())\n",
    "assert set(key_to_normalized_K562_Rep2.keys()) == set(key_to_seq.keys())"
   ]
  },
  {
   "cell_type": "code",
   "execution_count": 4,
   "metadata": {
    "collapsed": false
   },
   "outputs": [],
   "source": [
    "# One hot encode DNA sequences the standard way.\n",
    "def one_hot_encode_seq(seq):\n",
    "    bases = ['A', 'T', 'C', 'G']\n",
    "    # Gotta be ready for when we discover a new base.\n",
    "    result = np.zeros((4, len(seq)))\n",
    "    \n",
    "    for i, base in enumerate(seq):\n",
    "        result[bases.index(base), i] = 1\n",
    "\n",
    "    return result\n",
    "\n",
    "def seqs_to_encoded_matrix(seqs):\n",
    "    # Wrangle the data into a shape that Dragonn wants.\n",
    "    result = np.concatenate(\n",
    "        map(one_hot_encode_seq, seqs)\n",
    "    ).reshape(\n",
    "        len(seqs), 1, 4, len(seqs[0])\n",
    "    )\n",
    "    \n",
    "    # Check we actually did the encoding right.\n",
    "    for i in range(len(seqs)):\n",
    "        for j in range(len(seqs[0])):\n",
    "            assert sum(result[i, 0, :, j]) == 1\n",
    "    \n",
    "    return result"
   ]
  },
  {
   "cell_type": "code",
   "execution_count": 5,
   "metadata": {
    "collapsed": false
   },
   "outputs": [],
   "source": [
    "X = seqs_to_encoded_matrix(key_to_seq.values())"
   ]
  },
  {
   "cell_type": "code",
   "execution_count": 6,
   "metadata": {
    "collapsed": false
   },
   "outputs": [],
   "source": [
    "K562_Rep1_y = np.array(\n",
    "    map(\n",
    "        lambda key: key_to_normalized_K562_Rep1[key], \n",
    "        key_to_seq.keys()\n",
    "    )\n",
    ").reshape(-1, 1)\n",
    "\n",
    "K562_Rep2_y = np.array(\n",
    "    map(\n",
    "        lambda key: key_to_normalized_K562_Rep2[key], \n",
    "        key_to_seq.keys()\n",
    "    )\n",
    ").reshape(-1, 1)\n",
    "\n",
    "y = (K562_Rep1_y + K562_Rep2_y)/2"
   ]
  },
  {
   "cell_type": "code",
   "execution_count": 7,
   "metadata": {
    "collapsed": true
   },
   "outputs": [],
   "source": [
    "# Just take the last 100 to be the validation set.\n",
    "X_train = X[:-100,:,:,:]\n",
    "y_train = y[:-100,:]\n",
    "\n",
    "X_valid = X[-100:,:,:,:]\n",
    "y_valid = y[-100:,:]"
   ]
  },
  {
   "cell_type": "markdown",
   "metadata": {},
   "source": [
    "Basic regression model that optimizes for RMS error using RMSProp. Train and plot the train and validation loss."
   ]
  },
  {
   "cell_type": "code",
   "execution_count": 8,
   "metadata": {
    "collapsed": false
   },
   "outputs": [
    {
     "name": "stdout",
     "output_type": "stream",
     "text": [
      "Trial 1\n",
      "Hyperparameters:  {'dropout': 0, 'num_filters': array([73, 29, 91]), 'pool_width': 20, 'conv_width': array([15, 18, 16])} \n",
      "\n",
      "Trial 2\n",
      "Hyperparameters:  {'dropout': 0, 'num_filters': array([33, 47, 91]), 'pool_width': 24, 'conv_width': array([15,  6,  9])} \n",
      "\n",
      "Best hyperparameters: {'dropout': 0, 'num_filters': array([73, 29, 91]), 'pool_width': 20, 'conv_width': array([15, 18, 16])}\n"
     ]
    }
   ],
   "source": [
    "hyperparameter_search = True\n",
    "multi_filter = False\n",
    "\n",
    "if hyperparameter_search:\n",
    "    seq_length = 145\n",
    "    num_epochs = 100\n",
    "    num_hyperparameter_trials = 2\n",
    "\n",
    "    fixed_hyperparameters = {'seq_length': seq_length, 'num_epochs': num_epochs, 'verbose':0}\n",
    "\n",
    "    grid = {'num_filters': ((5, 100), (5, 100), (5, 100)), 'pool_width': (5, 40),\n",
    "            'conv_width': ((6, 20), (6, 20), (6, 20)), 'dropout': (0, 0.5)}\n",
    "    \n",
    "    searcher = HyperparameterSearcher(models.SequenceDNN_Regression, fixed_hyperparameters, grid, \n",
    "                                      X_train, y_train, validation_data=(X_valid, y_valid),\n",
    "                                      metric='Mean Squared Error', backend=RandomSearch)\n",
    "    \n",
    "    searcher.search(num_hyperparameter_trials)\n",
    "    print('Best hyperparameters: {}'.format(searcher.best_hyperparameters))\n",
    "    model = searcher.best_model\n",
    "    \n",
    "elif multi_filter:\n",
    "    model = models.SequenceDNN_Regression(\n",
    "        seq_length=X_train.shape[3],\n",
    "        num_filters=[50],\n",
    "        conv_width=[60],\n",
    "        pool_width=45,\n",
    "        num_epochs=1000,\n",
    "        dropout=0.1,\n",
    "        num_tasks=y_train.shape[1]\n",
    "    )\n",
    "    \n",
    "else:\n",
    "    model = models.SequenceDNN_Regression(\n",
    "        seq_length=X_train.shape[3],\n",
    "        num_filters=[1],\n",
    "        conv_width=[45],\n",
    "        pool_width=45,\n",
    "        num_tasks=y_train.shape[1]\n",
    "    )"
   ]
  },
  {
   "cell_type": "code",
   "execution_count": 9,
   "metadata": {
    "collapsed": false
   },
   "outputs": [],
   "source": [
    "model.plot_architecture(output_file='pilot_regression_arch.png')"
   ]
  },
  {
   "cell_type": "code",
   "execution_count": 10,
   "metadata": {
    "collapsed": false
   },
   "outputs": [],
   "source": [
    "model.train(X_train, y_train, (X_valid, y_valid))"
   ]
  },
  {
   "cell_type": "code",
   "execution_count": 11,
   "metadata": {
    "collapsed": false
   },
   "outputs": [],
   "source": [
    "def print_loss(model, metric):\n",
    "    train_losses, valid_losses = [np.array([epoch_metrics[metric] for epoch_metrics in metrics])\n",
    "                                  for metrics in (model.train_metrics, model.valid_metrics)]\n",
    "\n",
    "    # Pretty sure early stopping works by taking the mean of losses, might want to double check\n",
    "    train_losses = train_losses.mean(axis=1)\n",
    "    valid_losses = valid_losses.mean(axis=1)\n",
    "\n",
    "    f = plt.figure(figsize=(10, 4))\n",
    "    ax = f.add_subplot(1, 1, 1)\n",
    "    \n",
    "    ax.plot(range(len(train_losses)), train_losses, label='Training',lw=4)\n",
    "    ax.plot(range(len(train_losses)), valid_losses, label='Validation', lw=4)\n",
    "    \n",
    "    min_loss_indx = min(enumerate(valid_losses), key=lambda x: x[1])[0]\n",
    "#     ax.plot([min_loss_indx, min_loss_indx], [0, 1.0], 'k--', label='Early Stop')\n",
    "    ax.legend(loc=\"best\")\n",
    "    ax.set_ylabel(metric)\n",
    "#     ax.set_ylim((-1.0,1.0))\n",
    "    ax.set_xlabel(\"Epoch\")\n",
    "    plt.show()"
   ]
  },
  {
   "cell_type": "code",
   "execution_count": 12,
   "metadata": {
    "collapsed": false
   },
   "outputs": [
    {
     "data": {
      "image/png": "[encoded data removed]",
      "text/plain": [
       "<matplotlib.figure.Figure at 0x7f0899943a10>"
      ]
     },
     "metadata": {},
     "output_type": "display_data"
    }
   ],
   "source": [
    "metric = \"Mean Squared Error\"\n",
    "print_loss(model, metric)"
   ]
  }
 ],
 "metadata": {
  "anaconda-cloud": {},
  "kernelspec": {
   "display_name": "Python [conda env:regression_dragonn]",
   "language": "python",
   "name": "conda-env-regression_dragonn-py"
  },
  "language_info": {
   "codemirror_mode": {
    "name": "ipython",
    "version": 2
   },
   "file_extension": ".py",
   "mimetype": "text/x-python",
   "name": "python",
   "nbconvert_exporter": "python",
   "pygments_lexer": "ipython2",
   "version": "2.7.12"
  }
 },
 "nbformat": 4,
 "nbformat_minor": 0
}
