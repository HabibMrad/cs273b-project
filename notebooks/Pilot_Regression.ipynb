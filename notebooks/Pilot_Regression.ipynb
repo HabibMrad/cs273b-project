{
 "cells": [
  {
   "cell_type": "markdown",
   "metadata": {},
   "source": [
    "Runs two basic convolutional networks on the pilot dataset.\n",
    "\n",
    "The regression modules are implemented in cs273b-project/dragonn\n",
    "\n",
    "To make changes to this dragonn-\n",
    "\n",
    "\\$ sudo su\n",
    "\n",
    "\\$ source activate regression_dragonn\n",
    "\n",
    "\\$ cd cs273b-project/dragonn\n",
    "\n",
    "\\$ python setup.py install"
   ]
  },
  {
   "cell_type": "code",
   "execution_count": 1,
   "metadata": {
    "collapsed": false
   },
   "outputs": [
    {
     "name": "stderr",
     "output_type": "stream",
     "text": [
      "Using Theano backend.\n",
      "Using gpu device 0: Tesla K80 (CNMeM is disabled, cuDNN 5005)\n",
      "/usr/local/anaconda3/envs/regression_dragonn/lib/python2.7/site-packages/theano/tensor/signal/downsample.py:6: UserWarning: downsample module has been moved to the theano.tensor.signal.pool module.\n",
      "  \"downsample module has been moved to the theano.tensor.signal.pool module.\")\n"
     ]
    }
   ],
   "source": [
    "from dragonn import models\n",
    "\n",
    "from collections import OrderedDict\n",
    "from pprint import pprint\n",
    "\n",
    "import numpy as np\n",
    "import matplotlib.pyplot as plt\n",
    "\n",
    "%matplotlib inline"
   ]
  },
  {
   "cell_type": "markdown",
   "metadata": {},
   "source": [
    "Read in the pilot data.\n",
    "- Samples are sequences that will be one hot encoded\n",
    "- Try and predict the normalized values. **I couldn't figure out how to do regression with Dragonn, so I just rounded the values to 0 or 1 based on the median.**"
   ]
  },
  {
   "cell_type": "code",
   "execution_count": 2,
   "metadata": {
    "collapsed": false
   },
   "outputs": [],
   "source": [
    "key_to_seq = OrderedDict()\n",
    "\n",
    "with open(\"../data/Pilot_counts_sequences/PilotDesign.sequences.txt\") as f:\n",
    "    for line in f:\n",
    "        key, seq = line.strip().split()\n",
    "        key_to_seq[key] = seq"
   ]
  },
  {
   "cell_type": "code",
   "execution_count": 3,
   "metadata": {
    "collapsed": false
   },
   "outputs": [],
   "source": [
    "key_to_normalized_K562_Rep1 = {}\n",
    "key_to_normalized_K562_Rep2 = {}\n",
    "\n",
    "with open(\"../data/Pilot_normalized/K562/tablenorm_recenterends_K562_Rep1_20.txt\") as f:\n",
    "    for line in f:\n",
    "        parts = line.strip().split()\n",
    "        \n",
    "        for i, norm in enumerate(parts[1:]):\n",
    "            key = \"{}_{}\".format(parts[0], i)\n",
    "            val = float(norm)\n",
    "            key_to_normalized_K562_Rep1[key] = val\n",
    "            \n",
    "with open(\"../data/Pilot_normalized/K562/tablenorm_recenterends_K562_Rep2_20.txt\") as f:\n",
    "    for line in f:\n",
    "        parts = line.strip().split()\n",
    "        \n",
    "        for i, norm in enumerate(parts[1:]):\n",
    "            key = \"{}_{}\".format(parts[0], i)\n",
    "            val = float(norm)\n",
    "            key_to_normalized_K562_Rep2[key] = val\n",
    "\n",
    "# Check that the sequence and value keys line up.\n",
    "assert set(key_to_normalized_K562_Rep1.keys()) == set(key_to_seq.keys())\n",
    "assert set(key_to_normalized_K562_Rep2.keys()) == set(key_to_seq.keys())"
   ]
  },
  {
   "cell_type": "code",
   "execution_count": 4,
   "metadata": {
    "collapsed": false
   },
   "outputs": [],
   "source": [
    "# One hot encode DNA sequences the standard way.\n",
    "def one_hot_encode_seq(seq):\n",
    "    bases = ['A', 'T', 'C', 'G']\n",
    "    # Gotta be ready for when we discover a new base.\n",
    "    result = np.zeros((4, len(seq)))\n",
    "    \n",
    "    for i, base in enumerate(seq):\n",
    "        result[bases.index(base), i] = 1\n",
    "\n",
    "    return result\n",
    "\n",
    "def seqs_to_encoded_matrix(seqs):\n",
    "    # Wrangle the data into a shape that Dragonn wants.\n",
    "    result = np.concatenate(\n",
    "        map(one_hot_encode_seq, seqs)\n",
    "    ).reshape(\n",
    "        len(seqs), 1, 4, len(seqs[0])\n",
    "    )\n",
    "    \n",
    "    # Check we actually did the encoding right.\n",
    "    for i in range(len(seqs)):\n",
    "        for j in range(len(seqs[0])):\n",
    "            assert sum(result[i, 0, :, j]) == 1\n",
    "    \n",
    "    return result"
   ]
  },
  {
   "cell_type": "code",
   "execution_count": 5,
   "metadata": {
    "collapsed": false
   },
   "outputs": [],
   "source": [
    "X = seqs_to_encoded_matrix(key_to_seq.values())"
   ]
  },
  {
   "cell_type": "code",
   "execution_count": 6,
   "metadata": {
    "collapsed": false
   },
   "outputs": [],
   "source": [
    "K562_Rep1_y = np.array(\n",
    "    map(\n",
    "        lambda key: key_to_normalized_K562_Rep1[key], \n",
    "        key_to_seq.keys()\n",
    "    )\n",
    ").reshape(-1, 1)\n",
    "\n",
    "K562_Rep2_y = np.array(\n",
    "    map(\n",
    "        lambda key: key_to_normalized_K562_Rep2[key], \n",
    "        key_to_seq.keys()\n",
    "    )\n",
    ").reshape(-1, 1)\n",
    "\n",
    "y = (K562_Rep1_y + K562_Rep2_y)/2"
   ]
  },
  {
   "cell_type": "code",
   "execution_count": 7,
   "metadata": {
    "collapsed": true
   },
   "outputs": [],
   "source": [
    "# Just take the last 100 to be the validation set.\n",
    "X_train = X[:-100,:,:,:]\n",
    "y_train = y[:-100,:]\n",
    "\n",
    "X_valid = X[-100:,:,:,:]\n",
    "y_valid = y[-100:,:]"
   ]
  },
  {
   "cell_type": "markdown",
   "metadata": {},
   "source": [
    "Basic regression model that optimizes for RMS error using RMSProp. Train and plot the train and validation loss."
   ]
  },
  {
   "cell_type": "code",
   "execution_count": 8,
   "metadata": {
    "collapsed": false
   },
   "outputs": [],
   "source": [
    "model = models.SequenceDNN_Regression(\n",
    "    seq_length=X_train.shape[3],\n",
    "    num_filters=[1],\n",
    "    conv_width=[45],\n",
    "    pool_width=45,\n",
    "    num_tasks=y_train.shape[1]\n",
    ")"
   ]
  },
  {
   "cell_type": "code",
   "execution_count": 9,
   "metadata": {
    "collapsed": false
   },
   "outputs": [
    {
     "name": "stdout",
     "output_type": "stream",
     "text": [
      "Training model (* indicates new best result)...\n",
      "Epoch 1:\n",
      "Train Mean Squared Error: 1.5542\tMean Absolute Error: 0.8483\t Median Absolute Error: 0.5422\t R2 Score: 0.0007\n",
      "Valid Mean Squared Error: 2.3232\tMean Absolute Error: 1.1056\t Median Absolute Error: 0.6395\t R2 Score: -0.0169 *\n",
      "Epoch 2:\n",
      "Train Mean Squared Error: 1.5507\tMean Absolute Error: 0.8490\t Median Absolute Error: 0.5459\t R2 Score: 0.0030\n",
      "Valid Mean Squared Error: 2.3210\tMean Absolute Error: 1.1057\t Median Absolute Error: 0.6492\t R2 Score: -0.0160 *\n",
      "Epoch 3:\n",
      "Train Mean Squared Error: 1.5475\tMean Absolute Error: 0.8484\t Median Absolute Error: 0.5413\t R2 Score: 0.0050\n",
      "Valid Mean Squared Error: 2.3182\tMean Absolute Error: 1.1048\t Median Absolute Error: 0.6509\t R2 Score: -0.0148 *\n",
      "Epoch 4:\n",
      "Train Mean Squared Error: 1.5448\tMean Absolute Error: 0.8479\t Median Absolute Error: 0.5401\t R2 Score: 0.0068\n",
      "Valid Mean Squared Error: 2.3154\tMean Absolute Error: 1.1038\t Median Absolute Error: 0.6494\t R2 Score: -0.0135 *\n",
      "Epoch 5:\n",
      "Train Mean Squared Error: 1.5419\tMean Absolute Error: 0.8457\t Median Absolute Error: 0.5375\t R2 Score: 0.0087\n",
      "Valid Mean Squared Error: 2.3111\tMean Absolute Error: 1.1016\t Median Absolute Error: 0.6393\t R2 Score: -0.0116 *\n",
      "Epoch 6:\n",
      "Train Mean Squared Error: 1.5393\tMean Absolute Error: 0.8427\t Median Absolute Error: 0.5308\t R2 Score: 0.0104\n",
      "Valid Mean Squared Error: 2.3071\tMean Absolute Error: 1.0990\t Median Absolute Error: 0.6293\t R2 Score: -0.0099 *\n",
      "Epoch 7:\n",
      "Train Mean Squared Error: 1.5368\tMean Absolute Error: 0.8400\t Median Absolute Error: 0.5280\t R2 Score: 0.0119\n",
      "Valid Mean Squared Error: 2.3027\tMean Absolute Error: 1.0967\t Median Absolute Error: 0.6221\t R2 Score: -0.0079 *\n",
      "Epoch 8:\n",
      "Train Mean Squared Error: 1.5343\tMean Absolute Error: 0.8372\t Median Absolute Error: 0.5270\t R2 Score: 0.0136\n",
      "Valid Mean Squared Error: 2.2979\tMean Absolute Error: 1.0940\t Median Absolute Error: 0.6156\t R2 Score: -0.0058 *\n",
      "Epoch 9:\n",
      "Train Mean Squared Error: 1.5319\tMean Absolute Error: 0.8362\t Median Absolute Error: 0.5284\t R2 Score: 0.0151\n",
      "Valid Mean Squared Error: 2.2935\tMean Absolute Error: 1.0927\t Median Absolute Error: 0.6152\t R2 Score: -0.0039 *\n",
      "Epoch 10:\n",
      "Train Mean Squared Error: 1.5291\tMean Absolute Error: 0.8325\t Median Absolute Error: 0.5206\t R2 Score: 0.0169\n",
      "Valid Mean Squared Error: 2.2859\tMean Absolute Error: 1.0887\t Median Absolute Error: 0.6082\t R2 Score: -0.0006 *\n",
      "Epoch 11:\n",
      "Train Mean Squared Error: 1.5267\tMean Absolute Error: 0.8284\t Median Absolute Error: 0.5112\t R2 Score: 0.0184\n",
      "Valid Mean Squared Error: 2.2774\tMean Absolute Error: 1.0837\t Median Absolute Error: 0.5994\t R2 Score: 0.0031 *\n",
      "Epoch 12:\n",
      "Train Mean Squared Error: 1.5245\tMean Absolute Error: 0.8268\t Median Absolute Error: 0.5073\t R2 Score: 0.0198\n",
      "Valid Mean Squared Error: 2.2709\tMean Absolute Error: 1.0809\t Median Absolute Error: 0.5989\t R2 Score: 0.0060 *\n",
      "Epoch 13:\n",
      "Train Mean Squared Error: 1.5229\tMean Absolute Error: 0.8288\t Median Absolute Error: 0.5165\t R2 Score: 0.0209\n",
      "Valid Mean Squared Error: 2.2686\tMean Absolute Error: 1.0815\t Median Absolute Error: 0.6074\t R2 Score: 0.0070 *\n",
      "Epoch 14:\n",
      "Train Mean Squared Error: 1.5213\tMean Absolute Error: 0.8299\t Median Absolute Error: 0.5189\t R2 Score: 0.0219\n",
      "Valid Mean Squared Error: 2.2655\tMean Absolute Error: 1.0813\t Median Absolute Error: 0.6128\t R2 Score: 0.0083 *\n",
      "Epoch 15:\n",
      "Train Mean Squared Error: 1.5193\tMean Absolute Error: 0.8270\t Median Absolute Error: 0.5135\t R2 Score: 0.0232\n",
      "Valid Mean Squared Error: 2.2585\tMean Absolute Error: 1.0778\t Median Absolute Error: 0.6099\t R2 Score: 0.0114 *\n",
      "Epoch 16:\n",
      "Train Mean Squared Error: 1.5178\tMean Absolute Error: 0.8270\t Median Absolute Error: 0.5143\t R2 Score: 0.0242\n",
      "Valid Mean Squared Error: 2.2557\tMean Absolute Error: 1.0772\t Median Absolute Error: 0.6115\t R2 Score: 0.0126 *\n",
      "Epoch 17:\n",
      "Train Mean Squared Error: 1.5158\tMean Absolute Error: 0.8234\t Median Absolute Error: 0.5089\t R2 Score: 0.0254\n",
      "Valid Mean Squared Error: 2.2481\tMean Absolute Error: 1.0729\t Median Absolute Error: 0.6045\t R2 Score: 0.0159 *\n",
      "Epoch 18:\n",
      "Train Mean Squared Error: 1.5144\tMean Absolute Error: 0.8230\t Median Absolute Error: 0.5070\t R2 Score: 0.0264\n",
      "Valid Mean Squared Error: 2.2443\tMean Absolute Error: 1.0717\t Median Absolute Error: 0.6011\t R2 Score: 0.0176 *\n",
      "Epoch 19:\n",
      "Train Mean Squared Error: 1.5127\tMean Absolute Error: 0.8205\t Median Absolute Error: 0.5027\t R2 Score: 0.0275\n",
      "Valid Mean Squared Error: 2.2392\tMean Absolute Error: 1.0686\t Median Absolute Error: 0.5938\t R2 Score: 0.0198 *\n",
      "Epoch 20:\n",
      "Train Mean Squared Error: 1.5112\tMean Absolute Error: 0.8195\t Median Absolute Error: 0.4991\t R2 Score: 0.0284\n",
      "Valid Mean Squared Error: 2.2358\tMean Absolute Error: 1.0672\t Median Absolute Error: 0.5908\t R2 Score: 0.0213 *\n",
      "Epoch 21:\n",
      "Train Mean Squared Error: 1.5098\tMean Absolute Error: 0.8169\t Median Absolute Error: 0.4913\t R2 Score: 0.0293\n",
      "Valid Mean Squared Error: 2.2318\tMean Absolute Error: 1.0650\t Median Absolute Error: 0.5780\t R2 Score: 0.0231 *\n",
      "Epoch 22:\n",
      "Train Mean Squared Error: 1.5083\tMean Absolute Error: 0.8197\t Median Absolute Error: 0.4998\t R2 Score: 0.0303\n",
      "Valid Mean Squared Error: 2.2328\tMean Absolute Error: 1.0675\t Median Absolute Error: 0.5910\t R2 Score: 0.0226\n",
      "Epoch 23:\n",
      "Train Mean Squared Error: 1.5071\tMean Absolute Error: 0.8217\t Median Absolute Error: 0.5041\t R2 Score: 0.0311\n",
      "Valid Mean Squared Error: 2.2331\tMean Absolute Error: 1.0692\t Median Absolute Error: 0.5913\t R2 Score: 0.0225\n",
      "Epoch 24:\n",
      "Train Mean Squared Error: 1.5055\tMean Absolute Error: 0.8194\t Median Absolute Error: 0.4985\t R2 Score: 0.0321\n",
      "Valid Mean Squared Error: 2.2291\tMean Absolute Error: 1.0675\t Median Absolute Error: 0.5890\t R2 Score: 0.0243 *\n",
      "Epoch 25:\n",
      "Train Mean Squared Error: 1.5041\tMean Absolute Error: 0.8184\t Median Absolute Error: 0.4965\t R2 Score: 0.0330\n",
      "Valid Mean Squared Error: 2.2268\tMean Absolute Error: 1.0667\t Median Absolute Error: 0.5873\t R2 Score: 0.0253 *\n",
      "Epoch 26:\n",
      "Train Mean Squared Error: 1.5027\tMean Absolute Error: 0.8176\t Median Absolute Error: 0.4958\t R2 Score: 0.0339\n",
      "Valid Mean Squared Error: 2.2256\tMean Absolute Error: 1.0664\t Median Absolute Error: 0.5820\t R2 Score: 0.0258 *\n",
      "Epoch 27:\n",
      "Train Mean Squared Error: 1.5014\tMean Absolute Error: 0.8158\t Median Absolute Error: 0.4924\t R2 Score: 0.0347\n",
      "Valid Mean Squared Error: 2.2228\tMean Absolute Error: 1.0650\t Median Absolute Error: 0.5731\t R2 Score: 0.0270 *\n",
      "Epoch 28:\n",
      "Train Mean Squared Error: 1.5003\tMean Absolute Error: 0.8182\t Median Absolute Error: 0.4980\t R2 Score: 0.0354\n",
      "Valid Mean Squared Error: 2.2273\tMean Absolute Error: 1.0680\t Median Absolute Error: 0.5843\t R2 Score: 0.0250\n",
      "Epoch 29:\n",
      "Train Mean Squared Error: 1.4986\tMean Absolute Error: 0.8142\t Median Absolute Error: 0.4886\t R2 Score: 0.0365\n",
      "Valid Mean Squared Error: 2.2218\tMean Absolute Error: 1.0649\t Median Absolute Error: 0.5698\t R2 Score: 0.0274 *\n",
      "Epoch 30:\n",
      "Train Mean Squared Error: 1.4972\tMean Absolute Error: 0.8127\t Median Absolute Error: 0.4853\t R2 Score: 0.0374\n",
      "Valid Mean Squared Error: 2.2214\tMean Absolute Error: 1.0640\t Median Absolute Error: 0.5758\t R2 Score: 0.0276 *\n",
      "Epoch 31:\n",
      "Train Mean Squared Error: 1.4959\tMean Absolute Error: 0.8114\t Median Absolute Error: 0.4824\t R2 Score: 0.0382\n",
      "Valid Mean Squared Error: 2.2226\tMean Absolute Error: 1.0635\t Median Absolute Error: 0.5794\t R2 Score: 0.0271\n",
      "Epoch 32:\n",
      "Train Mean Squared Error: 1.4945\tMean Absolute Error: 0.8114\t Median Absolute Error: 0.4826\t R2 Score: 0.0391\n",
      "Valid Mean Squared Error: 2.2229\tMean Absolute Error: 1.0641\t Median Absolute Error: 0.5828\t R2 Score: 0.0270\n",
      "Epoch 33:\n",
      "Train Mean Squared Error: 1.4933\tMean Absolute Error: 0.8130\t Median Absolute Error: 0.4874\t R2 Score: 0.0399\n",
      "Valid Mean Squared Error: 2.2250\tMean Absolute Error: 1.0658\t Median Absolute Error: 0.5844\t R2 Score: 0.0260\n",
      "Epoch 34:\n",
      "Train Mean Squared Error: 1.4923\tMean Absolute Error: 0.8133\t Median Absolute Error: 0.4915\t R2 Score: 0.0406\n",
      "Valid Mean Squared Error: 2.2256\tMean Absolute Error: 1.0661\t Median Absolute Error: 0.5819\t R2 Score: 0.0258\n",
      "Epoch 35:\n",
      "Train Mean Squared Error: 1.4914\tMean Absolute Error: 0.8114\t Median Absolute Error: 0.4846\t R2 Score: 0.0412\n",
      "Valid Mean Squared Error: 2.2231\tMean Absolute Error: 1.0644\t Median Absolute Error: 0.5911\t R2 Score: 0.0269\n",
      "Epoch 36:\n",
      "Train Mean Squared Error: 1.4904\tMean Absolute Error: 0.8135\t Median Absolute Error: 0.4915\t R2 Score: 0.0418\n",
      "Valid Mean Squared Error: 2.2264\tMean Absolute Error: 1.0668\t Median Absolute Error: 0.5835\t R2 Score: 0.0254\n",
      "Finished training after 36 epochs.\n"
     ]
    }
   ],
   "source": [
    "model.train(X_train, y_train, (X_valid, y_valid))"
   ]
  },
  {
   "cell_type": "code",
   "execution_count": 10,
   "metadata": {
    "collapsed": false
   },
   "outputs": [],
   "source": [
    "def print_loss(model, metric):\n",
    "    train_losses, valid_losses = [np.array([epoch_metrics[metric] for epoch_metrics in metrics])\n",
    "                                  for metrics in (model.train_metrics, model.valid_metrics)]\n",
    "\n",
    "    # Pretty sure early stopping works by taking the mean of losses, might want to double check\n",
    "    train_losses = train_losses.mean(axis=1)\n",
    "    valid_losses = valid_losses.mean(axis=1)\n",
    "\n",
    "    f = plt.figure(figsize=(10, 4))\n",
    "    ax = f.add_subplot(1, 1, 1)\n",
    "    \n",
    "    ax.plot(range(len(train_losses)), train_losses, label='Training',lw=4)\n",
    "    ax.plot(range(len(train_losses)), valid_losses, label='Validation', lw=4)\n",
    "    \n",
    "    min_loss_indx = min(enumerate(valid_losses), key=lambda x: x[1])[0]\n",
    "#     ax.plot([min_loss_indx, min_loss_indx], [0, 1.0], 'k--', label='Early Stop')\n",
    "    ax.legend(loc=\"best\")\n",
    "    ax.set_ylabel(metric)\n",
    "#     ax.set_ylim((-1.0,1.0))\n",
    "    ax.set_xlabel(\"Epoch\")\n",
    "    plt.show()"
   ]
  },
  {
   "cell_type": "code",
   "execution_count": 11,
   "metadata": {
    "collapsed": false
   },
   "outputs": [
    {
     "data": {
      "image/png": "[encoded data removed]",
      "text/plain": [
       "<matplotlib.figure.Figure at 0x7fa4022dca50>"
      ]
     },
     "metadata": {},
     "output_type": "display_data"
    }
   ],
   "source": [
    "metric = \"Mean Squared Error\"\n",
    "print_loss(model, metric)"
   ]
  },
  {
   "cell_type": "markdown",
   "metadata": {},
   "source": [
    "Train and test on the multi-filter model used in the tutorial."
   ]
  },
  {
   "cell_type": "code",
   "execution_count": 12,
   "metadata": {
    "collapsed": false
   },
   "outputs": [],
   "source": [
    "multi_filter_model = models.SequenceDNN_Regression(\n",
    "    seq_length=X_train.shape[3],\n",
    "    num_filters=[50],\n",
    "    conv_width=[60],\n",
    "    pool_width=45,\n",
    "    num_epochs=1000,\n",
    "    dropout=0.1,\n",
    "    num_tasks=y_train.shape[1]\n",
    ")"
   ]
  },
  {
   "cell_type": "code",
   "execution_count": 13,
   "metadata": {
    "collapsed": false
   },
   "outputs": [
    {
     "name": "stdout",
     "output_type": "stream",
     "text": [
      "Training model (* indicates new best result)...\n",
      "Epoch 1:\n",
      "Train Mean Squared Error: 1.5305\tMean Absolute Error: 0.8389\t Median Absolute Error: 0.5293\t R2 Score: 0.0160\n",
      "Valid Mean Squared Error: 2.2759\tMean Absolute Error: 1.0870\t Median Absolute Error: 0.6291\t R2 Score: 0.0038 *\n",
      "Epoch 2:\n",
      "Train Mean Squared Error: 1.5059\tMean Absolute Error: 0.8205\t Median Absolute Error: 0.4970\t R2 Score: 0.0318\n",
      "Valid Mean Squared Error: 2.2462\tMean Absolute Error: 1.0688\t Median Absolute Error: 0.5810\t R2 Score: 0.0168 *\n",
      "Epoch 3:\n",
      "Train Mean Squared Error: 1.4858\tMean Absolute Error: 0.7975\t Median Absolute Error: 0.4446\t R2 Score: 0.0447\n",
      "Valid Mean Squared Error: 2.2140\tMean Absolute Error: 1.0424\t Median Absolute Error: 0.5237\t R2 Score: 0.0309 *\n",
      "Epoch 4:\n",
      "Train Mean Squared Error: 1.4740\tMean Absolute Error: 0.7854\t Median Absolute Error: 0.4248\t R2 Score: 0.0523\n",
      "Valid Mean Squared Error: 2.1917\tMean Absolute Error: 1.0283\t Median Absolute Error: 0.5300\t R2 Score: 0.0406 *\n",
      "Epoch 5:\n",
      "Train Mean Squared Error: 1.4548\tMean Absolute Error: 0.7808\t Median Absolute Error: 0.4243\t R2 Score: 0.0647\n",
      "Valid Mean Squared Error: 2.1861\tMean Absolute Error: 1.0264\t Median Absolute Error: 0.5158\t R2 Score: 0.0431 *\n",
      "Epoch 6:\n",
      "Train Mean Squared Error: 1.4346\tMean Absolute Error: 0.8022\t Median Absolute Error: 0.4911\t R2 Score: 0.0777\n",
      "Valid Mean Squared Error: 2.2190\tMean Absolute Error: 1.0600\t Median Absolute Error: 0.5866\t R2 Score: 0.0287\n",
      "Epoch 7:\n",
      "Train Mean Squared Error: 1.4113\tMean Absolute Error: 0.7736\t Median Absolute Error: 0.4270\t R2 Score: 0.0926\n",
      "Valid Mean Squared Error: 2.1840\tMean Absolute Error: 1.0291\t Median Absolute Error: 0.5078\t R2 Score: 0.0440 *\n",
      "Epoch 8:\n",
      "Train Mean Squared Error: 1.3951\tMean Absolute Error: 0.7806\t Median Absolute Error: 0.4561\t R2 Score: 0.1030\n",
      "Valid Mean Squared Error: 2.2006\tMean Absolute Error: 1.0448\t Median Absolute Error: 0.5545\t R2 Score: 0.0367\n",
      "Epoch 9:\n",
      "Train Mean Squared Error: 1.3793\tMean Absolute Error: 0.7682\t Median Absolute Error: 0.4284\t R2 Score: 0.1132\n",
      "Valid Mean Squared Error: 2.1890\tMean Absolute Error: 1.0337\t Median Absolute Error: 0.5108\t R2 Score: 0.0418\n",
      "Epoch 10:\n",
      "Train Mean Squared Error: 1.3664\tMean Absolute Error: 0.7621\t Median Absolute Error: 0.4232\t R2 Score: 0.1215\n",
      "Valid Mean Squared Error: 2.1852\tMean Absolute Error: 1.0304\t Median Absolute Error: 0.5036\t R2 Score: 0.0435\n",
      "Epoch 11:\n",
      "Train Mean Squared Error: 1.3558\tMean Absolute Error: 0.7551\t Median Absolute Error: 0.4124\t R2 Score: 0.1283\n",
      "Valid Mean Squared Error: 2.1818\tMean Absolute Error: 1.0259\t Median Absolute Error: 0.4941\t R2 Score: 0.0449 *\n",
      "Epoch 12:\n",
      "Train Mean Squared Error: 1.3458\tMean Absolute Error: 0.7642\t Median Absolute Error: 0.4449\t R2 Score: 0.1347\n",
      "Valid Mean Squared Error: 2.1956\tMean Absolute Error: 1.0411\t Median Absolute Error: 0.5436\t R2 Score: 0.0389\n",
      "Epoch 13:\n",
      "Train Mean Squared Error: 1.3340\tMean Absolute Error: 0.7594\t Median Absolute Error: 0.4350\t R2 Score: 0.1424\n",
      "Valid Mean Squared Error: 2.1947\tMean Absolute Error: 1.0396\t Median Absolute Error: 0.5387\t R2 Score: 0.0393\n",
      "Epoch 14:\n",
      "Train Mean Squared Error: 1.3316\tMean Absolute Error: 0.7685\t Median Absolute Error: 0.4570\t R2 Score: 0.1439\n",
      "Valid Mean Squared Error: 2.2087\tMean Absolute Error: 1.0530\t Median Absolute Error: 0.5864\t R2 Score: 0.0332\n",
      "Epoch 15:\n",
      "Train Mean Squared Error: 1.3131\tMean Absolute Error: 0.7371\t Median Absolute Error: 0.3925\t R2 Score: 0.1558\n",
      "Valid Mean Squared Error: 2.1804\tMean Absolute Error: 1.0229\t Median Absolute Error: 0.5111\t R2 Score: 0.0456 *\n",
      "Epoch 16:\n",
      "Train Mean Squared Error: 1.3103\tMean Absolute Error: 0.7582\t Median Absolute Error: 0.4526\t R2 Score: 0.1576\n",
      "Valid Mean Squared Error: 2.2073\tMean Absolute Error: 1.0498\t Median Absolute Error: 0.5825\t R2 Score: 0.0338\n",
      "Epoch 17:\n",
      "Train Mean Squared Error: 1.3003\tMean Absolute Error: 0.7523\t Median Absolute Error: 0.4422\t R2 Score: 0.1640\n",
      "Valid Mean Squared Error: 2.2033\tMean Absolute Error: 1.0470\t Median Absolute Error: 0.5725\t R2 Score: 0.0356\n",
      "Epoch 18:\n",
      "Train Mean Squared Error: 1.2898\tMean Absolute Error: 0.7435\t Median Absolute Error: 0.4260\t R2 Score: 0.1707\n",
      "Valid Mean Squared Error: 2.1985\tMean Absolute Error: 1.0419\t Median Absolute Error: 0.5624\t R2 Score: 0.0377\n",
      "Epoch 19:\n",
      "Train Mean Squared Error: 1.2825\tMean Absolute Error: 0.7398\t Median Absolute Error: 0.4202\t R2 Score: 0.1755\n",
      "Valid Mean Squared Error: 2.1980\tMean Absolute Error: 1.0416\t Median Absolute Error: 0.5619\t R2 Score: 0.0379\n",
      "Epoch 20:\n",
      "Train Mean Squared Error: 1.3232\tMean Absolute Error: 0.7262\t Median Absolute Error: 0.3512\t R2 Score: 0.1493\n",
      "Valid Mean Squared Error: 2.1948\tMean Absolute Error: 1.0201\t Median Absolute Error: 0.5634\t R2 Score: 0.0393\n",
      "Epoch 21:\n",
      "Train Mean Squared Error: 1.2651\tMean Absolute Error: 0.7243\t Median Absolute Error: 0.3914\t R2 Score: 0.1866\n",
      "Valid Mean Squared Error: 2.1882\tMean Absolute Error: 1.0335\t Median Absolute Error: 0.5297\t R2 Score: 0.0422\n",
      "Finished training after 21 epochs.\n"
     ]
    }
   ],
   "source": [
    "multi_filter_model.train(X_train, y_train, (X_valid, y_valid))"
   ]
  },
  {
   "cell_type": "code",
   "execution_count": 14,
   "metadata": {
    "collapsed": false
   },
   "outputs": [
    {
     "data": {
      "image/png": "[encoded data removed]",
      "text/plain": [
       "<matplotlib.figure.Figure at 0x7fa3ffb9e250>"
      ]
     },
     "metadata": {},
     "output_type": "display_data"
    }
   ],
   "source": [
    "metric = \"Mean Squared Error\"\n",
    "print_loss(multi_filter_model, metric)"
   ]
  },
  {
   "cell_type": "code",
   "execution_count": null,
   "metadata": {
    "collapsed": true
   },
   "outputs": [],
   "source": []
  }
 ],
 "metadata": {
  "anaconda-cloud": {},
  "kernelspec": {
   "display_name": "Python [conda env:regression_dragonn]",
   "language": "python",
   "name": "conda-env-regression_dragonn-py"
  },
  "language_info": {
   "codemirror_mode": {
    "name": "ipython",
    "version": 2
   },
   "file_extension": ".py",
   "mimetype": "text/x-python",
   "name": "python",
   "nbconvert_exporter": "python",
   "pygments_lexer": "ipython2",
   "version": "2.7.12"
  }
 },
 "nbformat": 4,
 "nbformat_minor": 0
}
