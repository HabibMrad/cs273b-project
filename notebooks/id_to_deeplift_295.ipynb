{
 "cells": [
  {
   "cell_type": "code",
   "execution_count": 1,
   "metadata": {
    "collapsed": false
   },
   "outputs": [],
   "source": [
    "import json\n",
    "f = open(\"../../id_dict_gen/id_dict.txt\", 'r')\n",
    "id_to_seq = json.loads(f.readlines()[0])"
   ]
  },
  {
   "cell_type": "code",
   "execution_count": 2,
   "metadata": {
    "collapsed": false
   },
   "outputs": [],
   "source": [
    "from collections import defaultdict"
   ]
  },
  {
   "cell_type": "code",
   "execution_count": null,
   "metadata": {
    "collapsed": false
   },
   "outputs": [],
   "source": [
    "coords_to_deeplift = {}\n",
    "coords_to_id = {}\n",
    "coords_to_seq = {}\n",
    "coords_to_count = defaultdict(int)\n",
    "\n",
    "for name in id_to_seq:\n",
    "    sequence, coords = id_to_seq[name]\n",
    "    chrom, start, end = coords\n",
    "    for i in xrange(end - start):\n",
    "        coords_to_seq[str((chrom, start + i))] = sequence[i]\n",
    "        if str((chrom, start + i)) not in coords_to_id:\n",
    "            coords_to_id[str((chrom, start + i))] = [name]\n",
    "        else:\n",
    "            coords_to_id[str((chrom, start + i))].append(name)\n",
    "    for i in xrange(31):\n",
    "        for j in xrange(start + 5 * i, start + 145 + 5 * i):\n",
    "            coords_to_count[str((chrom, j))] = coords_to_count[str((chrom, j))] + 1"
   ]
  },
  {
   "cell_type": "code",
   "execution_count": 18,
   "metadata": {
    "collapsed": false
   },
   "outputs": [],
   "source": [
    "f1 = open(\"coords_to_id.txt\", 'w')\n",
    "f2 = open(\"coords_to_seq.txt\", 'w')\n",
    "f3 = open(\"coords_to_count.txt\", 'w')\n",
    "f1.write(json.dumps(coords_to_id))\n",
    "f2.write(json.dumps(coords_to_seq))\n",
    "f3.write(json.dumps(coords_to_count))\n",
    "f1.close()\n",
    "f2.close()\n",
    "f3.close()"
   ]
  },
  {
   "cell_type": "code",
   "execution_count": 16,
   "metadata": {
    "collapsed": false
   },
   "outputs": [
    {
     "data": {
      "text/plain": [
       "\"('5', 142)\""
      ]
     },
     "execution_count": 16,
     "metadata": {},
     "output_type": "execute_result"
    }
   ],
   "source": [
    "import numpy as np\n",
    "\n",
    "coords_to_deeplift = defaultdict(float)\n",
    "base_to_row = {'A': 0, 'T': 1, 'C': 2, 'G': 3}\n",
    "\n",
    "for name in id_to_seq:\n",
    "    sequence, coords = id_to_seq[name]\n",
    "    chrom, start, end = coords\n",
    "    model_input = np.zeros((1, 1, 4, 295))\n",
    "    for j in xrange(295):\n",
    "        # coordinates chrom, start + 5 * i + j\n",
    "        model_input[0][0][base_to_row[sequence[j]]][j] = 1\n",
    "    for j in xrange(295):\n",
    "        coords_to_deeplift[str((chrom, start + j))]"
   ]
  },
  {
   "cell_type": "code",
   "execution_count": 11,
   "metadata": {
    "collapsed": false
   },
   "outputs": [],
   "source": [
    "from dragonn import models\n",
    "model = models.SequenceDNN_Regression.load(\"models/model.arch.json\", \"models/model.weights.h5\")"
   ]
  },
  {
   "cell_type": "code",
   "execution_count": 10,
   "metadata": {
    "collapsed": false
   },
   "outputs": [
    {
     "ename": "RuntimeError",
     "evalue": "There is a layer after your target layer but it is not an activation layer, which seems odd...if doing regression, make sure to set the target layer to the last layer",
     "output_type": "error",
     "traceback": [
      "\u001b[0;31m---------------------------------------------------------------------------\u001b[0m",
      "\u001b[0;31mRuntimeError\u001b[0m                              Traceback (most recent call last)",
      "\u001b[0;32m<ipython-input-10-250695634edf>\u001b[0m in \u001b[0;36m<module>\u001b[0;34m()\u001b[0m\n\u001b[1;32m      7\u001b[0m     \u001b[0mmodel_input\u001b[0m\u001b[0;34m[\u001b[0m\u001b[0;36m0\u001b[0m\u001b[0;34m]\u001b[0m\u001b[0;34m[\u001b[0m\u001b[0;36m0\u001b[0m\u001b[0;34m]\u001b[0m\u001b[0;34m[\u001b[0m\u001b[0mbase_to_row\u001b[0m\u001b[0;34m[\u001b[0m\u001b[0msubseq\u001b[0m\u001b[0;34m[\u001b[0m\u001b[0mj\u001b[0m\u001b[0;34m]\u001b[0m\u001b[0;34m]\u001b[0m\u001b[0;34m]\u001b[0m\u001b[0;34m[\u001b[0m\u001b[0mj\u001b[0m\u001b[0;34m]\u001b[0m \u001b[0;34m=\u001b[0m \u001b[0;36m1\u001b[0m\u001b[0;34m\u001b[0m\u001b[0m\n\u001b[1;32m      8\u001b[0m \u001b[0mI\u001b[0m \u001b[0;34m=\u001b[0m \u001b[0mmodel\u001b[0m\u001b[0;34m.\u001b[0m\u001b[0min_silico_mutagenesis\u001b[0m\u001b[0;34m(\u001b[0m\u001b[0mmodel_input\u001b[0m\u001b[0;34m)\u001b[0m\u001b[0;34m\u001b[0m\u001b[0m\n\u001b[0;32m----> 9\u001b[0;31m \u001b[0mD\u001b[0m \u001b[0;34m=\u001b[0m \u001b[0mmodel\u001b[0m\u001b[0;34m.\u001b[0m\u001b[0mdeeplift\u001b[0m\u001b[0;34m(\u001b[0m\u001b[0mmodel_input\u001b[0m\u001b[0;34m)\u001b[0m\u001b[0;34m\u001b[0m\u001b[0m\n\u001b[0m",
      "\u001b[0;32m/usr/local/anaconda3/envs/regression_dragonn_new/lib/python2.7/site-packages/dragonn-0.1.2-py2.7.egg/dragonn/models.pyc\u001b[0m in \u001b[0;36mdeeplift\u001b[0;34m(self, X, batch_size)\u001b[0m\n\u001b[1;32m    186\u001b[0m            self.model, nonlinear_mxts_mode=NonlinearMxtsMode.DeepLIFT)\n\u001b[1;32m    187\u001b[0m         target_contribs_func = deeplift_model.get_target_contribs_func(\n\u001b[0;32m--> 188\u001b[0;31m             find_scores_layer_idx=0)\n\u001b[0m\u001b[1;32m    189\u001b[0m         \u001b[0minput_reference_shape\u001b[0m \u001b[0;34m=\u001b[0m \u001b[0mtuple\u001b[0m\u001b[0;34m(\u001b[0m\u001b[0;34m[\u001b[0m\u001b[0;36m1\u001b[0m\u001b[0;34m]\u001b[0m \u001b[0;34m+\u001b[0m \u001b[0mlist\u001b[0m\u001b[0;34m(\u001b[0m\u001b[0mX\u001b[0m\u001b[0;34m.\u001b[0m\u001b[0mshape\u001b[0m\u001b[0;34m[\u001b[0m\u001b[0;36m1\u001b[0m\u001b[0;34m:\u001b[0m\u001b[0;34m]\u001b[0m\u001b[0;34m)\u001b[0m\u001b[0;34m)\u001b[0m\u001b[0;34m\u001b[0m\u001b[0m\n\u001b[1;32m    190\u001b[0m         return np.asarray([\n",
      "\u001b[0;32m/usr/local/anaconda3/envs/regression_dragonn_new/lib/python2.7/site-packages/deeplift/models.py\u001b[0m in \u001b[0;36mget_target_contribs_func\u001b[0;34m(self, *args, **kwargs)\u001b[0m\n\u001b[1;32m     72\u001b[0m \u001b[0;34m\u001b[0m\u001b[0m\n\u001b[1;32m     73\u001b[0m     \u001b[0;32mdef\u001b[0m \u001b[0mget_target_contribs_func\u001b[0m\u001b[0;34m(\u001b[0m\u001b[0mself\u001b[0m\u001b[0;34m,\u001b[0m \u001b[0;34m*\u001b[0m\u001b[0margs\u001b[0m\u001b[0;34m,\u001b[0m \u001b[0;34m**\u001b[0m\u001b[0mkwargs\u001b[0m\u001b[0;34m)\u001b[0m\u001b[0;34m:\u001b[0m\u001b[0;34m\u001b[0m\u001b[0m\n\u001b[0;32m---> 74\u001b[0;31m         \u001b[0;32mreturn\u001b[0m \u001b[0mself\u001b[0m\u001b[0;34m.\u001b[0m\u001b[0m_get_func\u001b[0m\u001b[0;34m(\u001b[0m\u001b[0;34m*\u001b[0m\u001b[0margs\u001b[0m\u001b[0;34m,\u001b[0m \u001b[0mfunc_type\u001b[0m\u001b[0;34m=\u001b[0m\u001b[0mFuncType\u001b[0m\u001b[0;34m.\u001b[0m\u001b[0mcontribs\u001b[0m\u001b[0;34m,\u001b[0m \u001b[0;34m**\u001b[0m\u001b[0mkwargs\u001b[0m\u001b[0;34m)\u001b[0m\u001b[0;34m\u001b[0m\u001b[0m\n\u001b[0m\u001b[1;32m     75\u001b[0m \u001b[0;34m\u001b[0m\u001b[0m\n\u001b[1;32m     76\u001b[0m     \u001b[0;32mdef\u001b[0m \u001b[0mget_target_multipliers_func\u001b[0m\u001b[0;34m(\u001b[0m\u001b[0mself\u001b[0m\u001b[0;34m,\u001b[0m \u001b[0;34m*\u001b[0m\u001b[0margs\u001b[0m\u001b[0;34m,\u001b[0m \u001b[0;34m**\u001b[0m\u001b[0mkwargs\u001b[0m\u001b[0;34m)\u001b[0m\u001b[0;34m:\u001b[0m\u001b[0;34m\u001b[0m\u001b[0m\n",
      "\u001b[0;32m/usr/local/anaconda3/envs/regression_dragonn_new/lib/python2.7/site-packages/deeplift/models.py\u001b[0m in \u001b[0;36m_get_func\u001b[0;34m(self, find_scores_layer_idx, target_layer_idx, **kwargs)\u001b[0m\n\u001b[1;32m    181\u001b[0m                     \u001b[0mtarget_layer\u001b[0m\u001b[0;34m=\u001b[0m\u001b[0mself\u001b[0m\u001b[0;34m.\u001b[0m\u001b[0mget_layers\u001b[0m\u001b[0;34m(\u001b[0m\u001b[0;34m)\u001b[0m\u001b[0;34m[\u001b[0m\u001b[0mtarget_layer_idx\u001b[0m\u001b[0;34m]\u001b[0m\u001b[0;34m,\u001b[0m\u001b[0;34m\u001b[0m\u001b[0m\n\u001b[1;32m    182\u001b[0m                     \u001b[0minput_layers\u001b[0m\u001b[0;34m=\u001b[0m\u001b[0;34m[\u001b[0m\u001b[0mself\u001b[0m\u001b[0;34m.\u001b[0m\u001b[0mget_layers\u001b[0m\u001b[0;34m(\u001b[0m\u001b[0;34m)\u001b[0m\u001b[0;34m[\u001b[0m\u001b[0;36m0\u001b[0m\u001b[0;34m]\u001b[0m\u001b[0;34m]\u001b[0m\u001b[0;34m,\u001b[0m\u001b[0;34m\u001b[0m\u001b[0m\n\u001b[0;32m--> 183\u001b[0;31m                     **kwargs) \n\u001b[0m\u001b[1;32m    184\u001b[0m \u001b[0;34m\u001b[0m\u001b[0m\n\u001b[1;32m    185\u001b[0m     \u001b[0;32mdef\u001b[0m \u001b[0msave_to_yaml_only\u001b[0m\u001b[0;34m(\u001b[0m\u001b[0mself\u001b[0m\u001b[0;34m,\u001b[0m \u001b[0myaml_file_name\u001b[0m\u001b[0;34m)\u001b[0m\u001b[0;34m:\u001b[0m\u001b[0;34m\u001b[0m\u001b[0m\n",
      "\u001b[0;32m/usr/local/anaconda3/envs/regression_dragonn_new/lib/python2.7/site-packages/deeplift/models.py\u001b[0m in \u001b[0;36m_get_func\u001b[0;34m(self, find_scores_layer, target_layer, input_layers, func_type, slice_objects)\u001b[0m\n\u001b[1;32m     32\u001b[0m                         slice_objects=None):\n\u001b[1;32m     33\u001b[0m         \u001b[0mfind_scores_layer\u001b[0m\u001b[0;34m.\u001b[0m\u001b[0mreset_mxts_updated\u001b[0m\u001b[0;34m(\u001b[0m\u001b[0;34m)\u001b[0m\u001b[0;34m\u001b[0m\u001b[0m\n\u001b[0;32m---> 34\u001b[0;31m         \u001b[0mself\u001b[0m\u001b[0;34m.\u001b[0m\u001b[0m_set_scoring_mode_for_target_layer\u001b[0m\u001b[0;34m(\u001b[0m\u001b[0mtarget_layer\u001b[0m\u001b[0;34m)\u001b[0m\u001b[0;34m\u001b[0m\u001b[0m\n\u001b[0m\u001b[1;32m     35\u001b[0m         \u001b[0mfind_scores_layer\u001b[0m\u001b[0;34m.\u001b[0m\u001b[0mupdate_mxts\u001b[0m\u001b[0;34m(\u001b[0m\u001b[0;34m)\u001b[0m\u001b[0;34m\u001b[0m\u001b[0m\n\u001b[1;32m     36\u001b[0m         \u001b[0;32mif\u001b[0m \u001b[0;34m(\u001b[0m\u001b[0mfunc_type\u001b[0m \u001b[0;34m==\u001b[0m \u001b[0mFuncType\u001b[0m\u001b[0;34m.\u001b[0m\u001b[0mcontribs\u001b[0m\u001b[0;34m)\u001b[0m\u001b[0;34m:\u001b[0m\u001b[0;34m\u001b[0m\u001b[0m\n",
      "\u001b[0;32m/usr/local/anaconda3/envs/regression_dragonn_new/lib/python2.7/site-packages/deeplift/models.py\u001b[0m in \u001b[0;36m_set_scoring_mode_for_target_layer\u001b[0;34m(self, target_layer)\u001b[0m\n\u001b[1;32m     99\u001b[0m                       \u001b[0;34m+\u001b[0m\u001b[0;34m\" layer but it is not an activation layer\"\u001b[0m\u001b[0;34m\u001b[0m\u001b[0m\n\u001b[1;32m    100\u001b[0m                       \u001b[0;34m+\u001b[0m\u001b[0;34m\", which seems odd...if doing regression, make\"\u001b[0m\u001b[0;34m\u001b[0m\u001b[0m\n\u001b[0;32m--> 101\u001b[0;31m                       +\" sure to set the target layer to the last layer\")\n\u001b[0m\u001b[1;32m    102\u001b[0m             deeplift.util.assert_is_type(final_activation_layer,\n\u001b[1;32m    103\u001b[0m                                          \u001b[0mblobs\u001b[0m\u001b[0;34m.\u001b[0m\u001b[0mActivation\u001b[0m\u001b[0;34m,\u001b[0m\u001b[0;34m\u001b[0m\u001b[0m\n",
      "\u001b[0;31mRuntimeError\u001b[0m: There is a layer after your target layer but it is not an activation layer, which seems odd...if doing regression, make sure to set the target layer to the last layer"
     ]
    }
   ],
   "source": [
    "import numpy as np\n",
    "model_input = np.zeros((1, 1, 4, 295))\n",
    "subseq = \"A\" * 295\n",
    "base_to_row = {'A': 0, 'T': 1, 'C': 2, 'G': 3}\n",
    "for j in xrange(295):\n",
    "    # coordinates chrom, start + 5 * i + j\n",
    "    model_input[0][0][base_to_row[subseq[j]]][j] = 1\n",
    "I = model.in_silico_mutagenesis(model_input)\n",
    "D = model.deeplift(model_input)\n"
   ]
  },
  {
   "cell_type": "code",
   "execution_count": 7,
   "metadata": {
    "collapsed": false
   },
   "outputs": [
    {
     "data": {
      "text/plain": [
       "(4, 1, 1, 4, 145)"
      ]
     },
     "execution_count": 7,
     "metadata": {},
     "output_type": "execute_result"
    }
   ],
   "source": [
    "D.shape"
   ]
  },
  {
   "cell_type": "code",
   "execution_count": 8,
   "metadata": {
    "collapsed": false
   },
   "outputs": [
    {
     "data": {
      "text/plain": [
       "array([[ -5.76044945e-03,   7.65847322e-03,   7.20205531e-03,\n",
       "         -3.23296897e-03,   9.49524343e-03,  -9.42967460e-03,\n",
       "         -3.20104733e-02,  -2.61879284e-02,   6.64397841e-04,\n",
       "         -6.43512011e-02,   1.09740011e-02,  -6.71391413e-02,\n",
       "         -4.23725396e-02,   1.54071278e-03,  -6.72091246e-02,\n",
       "          5.93012152e-03,  -1.25843054e-03,  -7.43480325e-02,\n",
       "         -2.47321627e-03,  -6.19652681e-02,  -1.61264408e-02,\n",
       "         -1.73287466e-02,  -4.66408916e-02,   2.82990932e-02,\n",
       "          3.70116122e-02,   2.36508325e-02,  -4.97646118e-03,\n",
       "         -3.25084431e-04,  -3.33839469e-02,  -4.64634709e-02,\n",
       "          1.26808416e-04,  -1.12119662e-02,  -1.26265306e-02,\n",
       "          4.65866253e-02,  -3.71550675e-04,  -8.39167368e-03,\n",
       "         -3.01095806e-02,  -2.83603035e-02,  -7.44934799e-03,\n",
       "          4.13280446e-03,  -9.40913707e-03,   4.22823895e-03,\n",
       "         -5.18767978e-04,  -5.93312643e-03,  -4.25974466e-03,\n",
       "          7.24654878e-04,  -2.27777399e-02,  -1.36279361e-03,\n",
       "         -6.12354465e-03,  -4.13018614e-02,   3.91254723e-02,\n",
       "         -5.33462800e-02,  -3.75050446e-03,   4.63472679e-06,\n",
       "         -1.20945275e-02,   1.28966756e-04,   4.18061279e-02,\n",
       "         -2.12702230e-02,   4.07032110e-02,  -6.18349239e-02,\n",
       "          1.26261842e-02,   8.74757767e-04,  -6.66074902e-02,\n",
       "          4.74550799e-02,   3.77457365e-02,  -1.24119688e-02,\n",
       "          1.53272469e-02,  -4.95913997e-03,  -1.27573381e-03,\n",
       "         -3.43722925e-02,  -2.84602232e-02,  -1.35540320e-02,\n",
       "         -5.37689440e-02,   2.71096081e-02,  -2.23878808e-02,\n",
       "          1.18021956e-02,  -1.64264627e-02,  -1.36182411e-02,\n",
       "         -1.41116828e-02,  -9.07790475e-03,  -1.74599923e-02,\n",
       "         -7.83278421e-03,  -9.68905661e-05,   0.00000000e+00,\n",
       "          0.00000000e+00,   0.00000000e+00,   0.00000000e+00,\n",
       "          0.00000000e+00,   0.00000000e+00,   0.00000000e+00,\n",
       "          0.00000000e+00,   0.00000000e+00,   0.00000000e+00,\n",
       "          0.00000000e+00,   0.00000000e+00,   0.00000000e+00,\n",
       "          0.00000000e+00,   0.00000000e+00,   0.00000000e+00,\n",
       "          0.00000000e+00,   0.00000000e+00,   0.00000000e+00,\n",
       "          0.00000000e+00,   0.00000000e+00,   0.00000000e+00,\n",
       "          0.00000000e+00,   0.00000000e+00,   0.00000000e+00,\n",
       "          0.00000000e+00,   0.00000000e+00,   0.00000000e+00,\n",
       "          0.00000000e+00,   0.00000000e+00,   0.00000000e+00,\n",
       "          0.00000000e+00,   0.00000000e+00,   0.00000000e+00,\n",
       "          0.00000000e+00,   0.00000000e+00,   0.00000000e+00,\n",
       "          0.00000000e+00,   0.00000000e+00,   0.00000000e+00,\n",
       "          0.00000000e+00,   0.00000000e+00,   0.00000000e+00,\n",
       "          0.00000000e+00,   0.00000000e+00,   0.00000000e+00,\n",
       "          0.00000000e+00,   0.00000000e+00,   0.00000000e+00,\n",
       "          0.00000000e+00,   0.00000000e+00,   0.00000000e+00,\n",
       "          0.00000000e+00,   0.00000000e+00,   0.00000000e+00,\n",
       "          0.00000000e+00,   0.00000000e+00,   0.00000000e+00,\n",
       "          0.00000000e+00,   0.00000000e+00,   0.00000000e+00,\n",
       "          0.00000000e+00],\n",
       "       [  0.00000000e+00,  -0.00000000e+00,  -0.00000000e+00,\n",
       "          0.00000000e+00,  -0.00000000e+00,   0.00000000e+00,\n",
       "         -0.00000000e+00,  -0.00000000e+00,  -0.00000000e+00,\n",
       "          0.00000000e+00,   0.00000000e+00,   0.00000000e+00,\n",
       "          0.00000000e+00,   0.00000000e+00,  -0.00000000e+00,\n",
       "         -0.00000000e+00,   0.00000000e+00,  -0.00000000e+00,\n",
       "         -0.00000000e+00,   0.00000000e+00,  -0.00000000e+00,\n",
       "         -0.00000000e+00,   0.00000000e+00,   0.00000000e+00,\n",
       "         -0.00000000e+00,   0.00000000e+00,  -0.00000000e+00,\n",
       "          0.00000000e+00,  -0.00000000e+00,   0.00000000e+00,\n",
       "         -0.00000000e+00,   0.00000000e+00,   0.00000000e+00,\n",
       "         -0.00000000e+00,  -0.00000000e+00,   0.00000000e+00,\n",
       "         -0.00000000e+00,   0.00000000e+00,  -0.00000000e+00,\n",
       "          0.00000000e+00,   0.00000000e+00,  -0.00000000e+00,\n",
       "          0.00000000e+00,   0.00000000e+00,   0.00000000e+00,\n",
       "          0.00000000e+00,  -0.00000000e+00,  -0.00000000e+00,\n",
       "          0.00000000e+00,   0.00000000e+00,  -0.00000000e+00,\n",
       "          0.00000000e+00,   0.00000000e+00,   0.00000000e+00,\n",
       "         -0.00000000e+00,  -0.00000000e+00,  -0.00000000e+00,\n",
       "         -0.00000000e+00,  -0.00000000e+00,   0.00000000e+00,\n",
       "         -0.00000000e+00,  -0.00000000e+00,   0.00000000e+00,\n",
       "          0.00000000e+00,  -0.00000000e+00,   0.00000000e+00,\n",
       "         -0.00000000e+00,   0.00000000e+00,  -0.00000000e+00,\n",
       "         -0.00000000e+00,  -0.00000000e+00,   0.00000000e+00,\n",
       "         -0.00000000e+00,   0.00000000e+00,  -0.00000000e+00,\n",
       "         -0.00000000e+00,  -0.00000000e+00,  -0.00000000e+00,\n",
       "         -0.00000000e+00,   0.00000000e+00,   0.00000000e+00,\n",
       "          0.00000000e+00,   0.00000000e+00,   0.00000000e+00,\n",
       "          0.00000000e+00,   0.00000000e+00,   0.00000000e+00,\n",
       "          0.00000000e+00,   0.00000000e+00,   0.00000000e+00,\n",
       "          0.00000000e+00,   0.00000000e+00,   0.00000000e+00,\n",
       "          0.00000000e+00,   0.00000000e+00,   0.00000000e+00,\n",
       "          0.00000000e+00,   0.00000000e+00,   0.00000000e+00,\n",
       "          0.00000000e+00,   0.00000000e+00,   0.00000000e+00,\n",
       "          0.00000000e+00,   0.00000000e+00,   0.00000000e+00,\n",
       "          0.00000000e+00,   0.00000000e+00,   0.00000000e+00,\n",
       "          0.00000000e+00,   0.00000000e+00,   0.00000000e+00,\n",
       "          0.00000000e+00,   0.00000000e+00,   0.00000000e+00,\n",
       "          0.00000000e+00,   0.00000000e+00,   0.00000000e+00,\n",
       "          0.00000000e+00,   0.00000000e+00,   0.00000000e+00,\n",
       "          0.00000000e+00,   0.00000000e+00,   0.00000000e+00,\n",
       "          0.00000000e+00,   0.00000000e+00,   0.00000000e+00,\n",
       "          0.00000000e+00,   0.00000000e+00,   0.00000000e+00,\n",
       "          0.00000000e+00,   0.00000000e+00,   0.00000000e+00,\n",
       "          0.00000000e+00,   0.00000000e+00,   0.00000000e+00,\n",
       "          0.00000000e+00,   0.00000000e+00,   0.00000000e+00,\n",
       "          0.00000000e+00,   0.00000000e+00,   0.00000000e+00,\n",
       "          0.00000000e+00,   0.00000000e+00,   0.00000000e+00,\n",
       "          0.00000000e+00],\n",
       "       [  0.00000000e+00,   0.00000000e+00,  -0.00000000e+00,\n",
       "         -0.00000000e+00,   0.00000000e+00,   0.00000000e+00,\n",
       "          0.00000000e+00,   0.00000000e+00,  -0.00000000e+00,\n",
       "          0.00000000e+00,  -0.00000000e+00,   0.00000000e+00,\n",
       "          0.00000000e+00,  -0.00000000e+00,   0.00000000e+00,\n",
       "          0.00000000e+00,  -0.00000000e+00,  -0.00000000e+00,\n",
       "          0.00000000e+00,   0.00000000e+00,   0.00000000e+00,\n",
       "          0.00000000e+00,   0.00000000e+00,   0.00000000e+00,\n",
       "          0.00000000e+00,  -0.00000000e+00,  -0.00000000e+00,\n",
       "         -0.00000000e+00,   0.00000000e+00,   0.00000000e+00,\n",
       "          0.00000000e+00,   0.00000000e+00,   0.00000000e+00,\n",
       "         -0.00000000e+00,  -0.00000000e+00,   0.00000000e+00,\n",
       "          0.00000000e+00,   0.00000000e+00,   0.00000000e+00,\n",
       "          0.00000000e+00,   0.00000000e+00,   0.00000000e+00,\n",
       "         -0.00000000e+00,  -0.00000000e+00,   0.00000000e+00,\n",
       "         -0.00000000e+00,   0.00000000e+00,   0.00000000e+00,\n",
       "         -0.00000000e+00,   0.00000000e+00,  -0.00000000e+00,\n",
       "          0.00000000e+00,   0.00000000e+00,  -0.00000000e+00,\n",
       "          0.00000000e+00,   0.00000000e+00,  -0.00000000e+00,\n",
       "          0.00000000e+00,   0.00000000e+00,  -0.00000000e+00,\n",
       "         -0.00000000e+00,   0.00000000e+00,   0.00000000e+00,\n",
       "         -0.00000000e+00,   0.00000000e+00,  -0.00000000e+00,\n",
       "         -0.00000000e+00,  -0.00000000e+00,   0.00000000e+00,\n",
       "          0.00000000e+00,   0.00000000e+00,   0.00000000e+00,\n",
       "          0.00000000e+00,  -0.00000000e+00,   0.00000000e+00,\n",
       "          0.00000000e+00,   0.00000000e+00,   0.00000000e+00,\n",
       "          0.00000000e+00,   0.00000000e+00,   0.00000000e+00,\n",
       "          0.00000000e+00,  -0.00000000e+00,   0.00000000e+00,\n",
       "          0.00000000e+00,   0.00000000e+00,   0.00000000e+00,\n",
       "          0.00000000e+00,   0.00000000e+00,   0.00000000e+00,\n",
       "          0.00000000e+00,   0.00000000e+00,   0.00000000e+00,\n",
       "          0.00000000e+00,   0.00000000e+00,   0.00000000e+00,\n",
       "          0.00000000e+00,   0.00000000e+00,   0.00000000e+00,\n",
       "          0.00000000e+00,   0.00000000e+00,   0.00000000e+00,\n",
       "          0.00000000e+00,   0.00000000e+00,   0.00000000e+00,\n",
       "          0.00000000e+00,   0.00000000e+00,   0.00000000e+00,\n",
       "          0.00000000e+00,   0.00000000e+00,   0.00000000e+00,\n",
       "          0.00000000e+00,   0.00000000e+00,   0.00000000e+00,\n",
       "          0.00000000e+00,   0.00000000e+00,   0.00000000e+00,\n",
       "          0.00000000e+00,   0.00000000e+00,   0.00000000e+00,\n",
       "          0.00000000e+00,   0.00000000e+00,   0.00000000e+00,\n",
       "          0.00000000e+00,   0.00000000e+00,   0.00000000e+00,\n",
       "          0.00000000e+00,   0.00000000e+00,   0.00000000e+00,\n",
       "          0.00000000e+00,   0.00000000e+00,   0.00000000e+00,\n",
       "          0.00000000e+00,   0.00000000e+00,   0.00000000e+00,\n",
       "          0.00000000e+00,   0.00000000e+00,   0.00000000e+00,\n",
       "          0.00000000e+00,   0.00000000e+00,   0.00000000e+00,\n",
       "          0.00000000e+00,   0.00000000e+00,   0.00000000e+00,\n",
       "          0.00000000e+00],\n",
       "       [ -0.00000000e+00,  -0.00000000e+00,   0.00000000e+00,\n",
       "         -0.00000000e+00,  -0.00000000e+00,  -0.00000000e+00,\n",
       "          0.00000000e+00,   0.00000000e+00,   0.00000000e+00,\n",
       "         -0.00000000e+00,   0.00000000e+00,   0.00000000e+00,\n",
       "         -0.00000000e+00,  -0.00000000e+00,   0.00000000e+00,\n",
       "          0.00000000e+00,   0.00000000e+00,   0.00000000e+00,\n",
       "          0.00000000e+00,  -0.00000000e+00,   0.00000000e+00,\n",
       "         -0.00000000e+00,  -0.00000000e+00,  -0.00000000e+00,\n",
       "         -0.00000000e+00,  -0.00000000e+00,   0.00000000e+00,\n",
       "          0.00000000e+00,   0.00000000e+00,  -0.00000000e+00,\n",
       "          0.00000000e+00,   0.00000000e+00,  -0.00000000e+00,\n",
       "          0.00000000e+00,   0.00000000e+00,  -0.00000000e+00,\n",
       "          0.00000000e+00,   0.00000000e+00,   0.00000000e+00,\n",
       "         -0.00000000e+00,  -0.00000000e+00,  -0.00000000e+00,\n",
       "          0.00000000e+00,  -0.00000000e+00,  -0.00000000e+00,\n",
       "         -0.00000000e+00,   0.00000000e+00,   0.00000000e+00,\n",
       "          0.00000000e+00,  -0.00000000e+00,   0.00000000e+00,\n",
       "          0.00000000e+00,  -0.00000000e+00,  -0.00000000e+00,\n",
       "          0.00000000e+00,  -0.00000000e+00,   0.00000000e+00,\n",
       "          0.00000000e+00,  -0.00000000e+00,  -0.00000000e+00,\n",
       "          0.00000000e+00,   0.00000000e+00,  -0.00000000e+00,\n",
       "         -0.00000000e+00,   0.00000000e+00,  -0.00000000e+00,\n",
       "          0.00000000e+00,   0.00000000e+00,   0.00000000e+00,\n",
       "          0.00000000e+00,   0.00000000e+00,  -0.00000000e+00,\n",
       "          0.00000000e+00,  -0.00000000e+00,   0.00000000e+00,\n",
       "         -0.00000000e+00,   0.00000000e+00,   0.00000000e+00,\n",
       "          0.00000000e+00,  -0.00000000e+00,  -0.00000000e+00,\n",
       "         -0.00000000e+00,  -0.00000000e+00,   0.00000000e+00,\n",
       "          0.00000000e+00,   0.00000000e+00,   0.00000000e+00,\n",
       "          0.00000000e+00,   0.00000000e+00,   0.00000000e+00,\n",
       "          0.00000000e+00,   0.00000000e+00,   0.00000000e+00,\n",
       "          0.00000000e+00,   0.00000000e+00,   0.00000000e+00,\n",
       "          0.00000000e+00,   0.00000000e+00,   0.00000000e+00,\n",
       "          0.00000000e+00,   0.00000000e+00,   0.00000000e+00,\n",
       "          0.00000000e+00,   0.00000000e+00,   0.00000000e+00,\n",
       "          0.00000000e+00,   0.00000000e+00,   0.00000000e+00,\n",
       "          0.00000000e+00,   0.00000000e+00,   0.00000000e+00,\n",
       "          0.00000000e+00,   0.00000000e+00,   0.00000000e+00,\n",
       "          0.00000000e+00,   0.00000000e+00,   0.00000000e+00,\n",
       "          0.00000000e+00,   0.00000000e+00,   0.00000000e+00,\n",
       "          0.00000000e+00,   0.00000000e+00,   0.00000000e+00,\n",
       "          0.00000000e+00,   0.00000000e+00,   0.00000000e+00,\n",
       "          0.00000000e+00,   0.00000000e+00,   0.00000000e+00,\n",
       "          0.00000000e+00,   0.00000000e+00,   0.00000000e+00,\n",
       "          0.00000000e+00,   0.00000000e+00,   0.00000000e+00,\n",
       "          0.00000000e+00,   0.00000000e+00,   0.00000000e+00,\n",
       "          0.00000000e+00,   0.00000000e+00,   0.00000000e+00,\n",
       "          0.00000000e+00,   0.00000000e+00,   0.00000000e+00,\n",
       "          0.00000000e+00]], dtype=float32)"
      ]
     },
     "execution_count": 8,
     "metadata": {},
     "output_type": "execute_result"
    }
   ],
   "source": [
    "D[0][0][0]"
   ]
  },
  {
   "cell_type": "code",
   "execution_count": 12,
   "metadata": {
    "collapsed": false
   },
   "outputs": [
    {
     "name": "stdout",
     "output_type": "stream",
     "text": [
      "Automatic pdb calling has been turned ON\n"
     ]
    }
   ],
   "source": [
    "%pdb"
   ]
  },
  {
   "cell_type": "code",
   "execution_count": 1,
   "metadata": {
    "collapsed": false
   },
   "outputs": [
    {
     "data": {
      "text/plain": [
       "2"
      ]
     },
     "execution_count": 1,
     "metadata": {},
     "output_type": "execute_result"
    }
   ],
   "source": [
    "1 + 1"
   ]
  },
  {
   "cell_type": "code",
   "execution_count": 13,
   "metadata": {
    "collapsed": false
   },
   "outputs": [
    {
     "data": {
      "text/plain": [
       "u'Hepg2_12_40_chr6_55393635'"
      ]
     },
     "execution_count": 13,
     "metadata": {},
     "output_type": "execute_result"
    }
   ],
   "source": [
    "id_to_seq.keys()[0]"
   ]
  },
  {
   "cell_type": "code",
   "execution_count": 14,
   "metadata": {
    "collapsed": false
   },
   "outputs": [
    {
     "data": {
      "text/plain": [
       "[u'GACTGACACCATATTCACAAAACTTCTTAAGTCCAGAAGCCTTGAAACTAACTTGGTCTTGTGTATAATTTCCTGTACTTCCTTATTCAGCATTACCTTTGTGTACTAAGGACCTCTGTACTGCCCTCTATGGGGTGAAATGCCTACACGTCTCAAGAGTGACCAAAACAGGAAGCATATGACCCAAACTCTTCTATTGTAAATGCAGGCAAGACATTTGAGTCATGATCCACTAATGTCTACAAGTATTCATTTTTTAAATTAATAAAATAGACCCAGGCTACCCAAATGGATC',\n",
       " [u'6', 55393488, 55393783]]"
      ]
     },
     "execution_count": 14,
     "metadata": {},
     "output_type": "execute_result"
    }
   ],
   "source": [
    "id_to_seq['Hepg2_12_40_chr6_55393635']"
   ]
  },
  {
   "cell_type": "code",
   "execution_count": null,
   "metadata": {
    "collapsed": true
   },
   "outputs": [],
   "source": []
  }
 ],
 "metadata": {
  "anaconda-cloud": {},
  "kernelspec": {
   "display_name": "Python [conda env:regression_dragonn_new]",
   "language": "python",
   "name": "conda-env-regression_dragonn_new-py"
  },
  "language_info": {
   "codemirror_mode": {
    "name": "ipython",
    "version": 2
   },
   "file_extension": ".py",
   "mimetype": "text/x-python",
   "name": "python",
   "nbconvert_exporter": "python",
   "pygments_lexer": "ipython2",
   "version": "2.7.12"
  }
 },
 "nbformat": 4,
 "nbformat_minor": 1
}
