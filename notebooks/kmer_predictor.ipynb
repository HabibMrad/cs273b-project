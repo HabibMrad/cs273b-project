{
 "cells": [
  {
   "cell_type": "markdown",
   "metadata": {},
   "source": [
    "# kmer-based models for comparison\n",
    "\n",
    "Maps input sequences into kmer space, then trains standard learning models.\n",
    "\n",
    "I've been running these locally and with the exception of the SGDRegressor, they are very\n",
    "slow to train... I have actually never trained the SVM...\n",
    "\n",
    "Increasing k tends to help, but the memory requirements quickly get quite large.\n",
    "My machine runs out of memory with k=5."
   ]
  },
  {
   "cell_type": "code",
   "execution_count": 8,
   "metadata": {
    "collapsed": false
   },
   "outputs": [],
   "source": [
    "import numpy as np\n",
    "import matplotlib.pyplot as plt\n",
    "%matplotlib inline"
   ]
  },
  {
   "cell_type": "code",
   "execution_count": 9,
   "metadata": {
    "collapsed": false
   },
   "outputs": [],
   "source": [
    "from mrpa_data import MrpaData\n",
    "data = MrpaData()"
   ]
  },
  {
   "cell_type": "code",
   "execution_count": 10,
   "metadata": {
    "collapsed": false
   },
   "outputs": [],
   "source": [
    "def kmerize(seq, k):\n",
    "    \"\"\"\n",
    "    Returns np.array of kmer counts corresponding to given seq\n",
    "    \"\"\"\n",
    "    bases = {'A': '00', 'C': '01', 'G': '10', 'T': '11'}\n",
    "    binary_seq = ''.join([bases[char] for char in seq])\n",
    "    counts = np.zeros((4**k,))\n",
    "    for i in range(0, len(seq) - k + 1):\n",
    "        counts[int(''.join(binary_seq[i*2:(i+k)*2]), 2)] += 1\n",
    "    return counts"
   ]
  },
  {
   "cell_type": "code",
   "execution_count": 16,
   "metadata": {
    "collapsed": false
   },
   "outputs": [],
   "source": [
    "X = np.array([kmerize(data.seqs[key], 5) for key in data.valid_keys])\n",
    "y = data.y_multitask()"
   ]
  },
  {
   "cell_type": "code",
   "execution_count": 17,
   "metadata": {
    "collapsed": false
   },
   "outputs": [],
   "source": [
    "from sklearn.model_selection import train_test_split\n",
    "X_train, X_valid, y_train, y_valid = train_test_split(\n",
    "    X, y, test_size=0.25, random_state=42\n",
    ")"
   ]
  },
  {
   "cell_type": "code",
   "execution_count": 18,
   "metadata": {
    "collapsed": true
   },
   "outputs": [],
   "source": [
    "def print_errors(models):\n",
    "    for task, model in enumerate(models):\n",
    "        mse =  sum([(i-j) **2 for i, j in zip (model.predict(X_valid), y_valid[:, task])]) / float(y_valid.shape[0])\n",
    "        var = np.var(y_valid[:, task])\n",
    "        print \"MSE is {} and var is {}\".format(mse, var)\n",
    "        \n",
    "def plot_predictions(models):\n",
    "    for task, model in enumerate(models):\n",
    "        plt.scatter(model.predict(X_valid), y_valid[:, task])\n",
    "        plt.show()"
   ]
  },
  {
   "cell_type": "code",
   "execution_count": 19,
   "metadata": {
    "collapsed": false
   },
   "outputs": [
    {
     "name": "stdout",
     "output_type": "stream",
     "text": [
      "MSE is 1.19620762906 and var is 1.2999556736\n",
      "MSE is 2.07573783149 and var is 2.2128594924\n",
      "MSE is 2.34090237937 and var is 2.37297107557\n",
      "MSE is 3.56821466468 and var is 3.84131700344\n"
     ]
    }
   ],
   "source": [
    "from sklearn.linear_model import SGDRegressor\n",
    "sgd_models = []\n",
    "for task in range(y.shape[1]):\n",
    "    sgd_models += [SGDRegressor().fit(X_train, y_train[:, task])]\n",
    "print_errors(sgd_models)"
   ]
  },
  {
   "cell_type": "code",
   "execution_count": null,
   "metadata": {
    "collapsed": false
   },
   "outputs": [],
   "source": [
    "from sklearn.ensemble import RandomForestRegressor\n",
    "rf_models = []\n",
    "for task in range(y.shape[1]):\n",
    "    rf_models += [RandomForestRegressor(n_estimators = 50, n_jobs=2).fit(X_train, y_train[:, task])]\n",
    "print_errors(rf_models)"
   ]
  },
  {
   "cell_type": "code",
   "execution_count": null,
   "metadata": {
    "collapsed": true
   },
   "outputs": [],
   "source": [
    "from sklearn.svm import SVR\n",
    "svm_models = []\n",
    "for task in range(y.shape[1]):\n",
    "    svm_models += [SVR().fit(X_train, y_train[:, task])]\n",
    "print_errors(svm_models)"
   ]
  },
  {
   "cell_type": "code",
   "execution_count": null,
   "metadata": {
    "collapsed": true
   },
   "outputs": [],
   "source": []
  }
 ],
 "metadata": {
  "anaconda-cloud": {},
  "kernelspec": {
   "display_name": "Python [conda root]",
   "language": "python",
   "name": "conda-root-py"
  },
  "language_info": {
   "codemirror_mode": {
    "name": "ipython",
    "version": 2
   },
   "file_extension": ".py",
   "mimetype": "text/x-python",
   "name": "python",
   "nbconvert_exporter": "python",
   "pygments_lexer": "ipython2",
   "version": "2.7.12"
  }
 },
 "nbformat": 4,
 "nbformat_minor": 1
}
