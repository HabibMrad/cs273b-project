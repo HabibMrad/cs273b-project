{
 "cells": [
  {
   "cell_type": "markdown",
   "metadata": {},
   "source": [
    "Runs two basic convolutional networks on the pilot dataset.\n",
    "\n",
    "### Things to do next\n",
    "- Figure out how to do regression (see below).\n",
    "- ~~Figure out how to do multitask learning (i.e. try to predict the different reps and different genes).~~\n",
    "- Run on the scale up dataset.\n",
    "- Read up on the \"Interpreting a DragoNN model using filter visualization\" and \"Interpreting data with a DragoNN model\" in the Dragonn tutorial.\n",
    "\n",
    "### Installing Dragonn\n",
    "- Clone from https://github.com/kundajelab/dragonn\n",
    "- ```python setup.py```\n",
    "    - I needed to ```brew install geos```"
   ]
  },
  {
   "cell_type": "code",
   "execution_count": 1,
   "metadata": {
    "collapsed": false
   },
   "outputs": [
    {
     "name": "stderr",
     "output_type": "stream",
     "text": [
      "Using Theano backend.\n",
      "/Users/andrewlamb/anaconda/lib/python2.7/site-packages/Theano-0.8.2-py2.7.egg/theano/tensor/signal/downsample.py:6: UserWarning: downsample module has been moved to the theano.tensor.signal.pool module.\n",
      "  \"downsample module has been moved to the theano.tensor.signal.pool module.\")\n"
     ]
    }
   ],
   "source": [
    "from dragonn import models\n",
    "\n",
    "from collections import OrderedDict\n",
    "from pprint import pprint\n",
    "\n",
    "import numpy as np\n",
    "import matplotlib.pyplot as plt\n",
    "\n",
    "%matplotlib inline"
   ]
  },
  {
   "cell_type": "markdown",
   "metadata": {},
   "source": [
    "Read in the pilot data.\n",
    "- Samples are sequences that will be one hot encoded\n",
    "- Try and predict the normalized values. **I couldn't figure out how to do regression with Dragonn, so I just rounded the values to 0 or 1 based on the median.**"
   ]
  },
  {
   "cell_type": "code",
   "execution_count": 2,
   "metadata": {
    "collapsed": false
   },
   "outputs": [
    {
     "name": "stdout",
     "output_type": "stream",
     "text": [
      "[('high_0_0',\n",
      "  'CTAGGTGGATACAGGTTTCTTCTGAGGGCCAAAGCCTGGGCCCTATTGCTCTGGTTGCCATGGCTGTTTCTTTTCTCTCCTTTCCTTTGATACATTAGCTATTAGCTTACGTAATCCTCTCACCGGTGGATGTTCCCATTCAAAA'),\n",
      " ('high_0_1',\n",
      "  'AAAGCCTGGGCCCTATTGCTCTGGTTGCCATGGCTGTTTCTTTTCTCTCCTTTCCTTTGATACATTAGCTATTAGCTTACGTAATCCTCTCACCGGTGGATGTTCCCATTCAAAAGGCAAAAAAAAAGTTATATTGCTAAGTAAC'),\n",
      " ('high_0_2',\n",
      "  'TGGCTGTTTCTTTTCTCTCCTTTCCTTTGATACATTAGCTATTAGCTTACGTAATCCTCTCACCGGTGGATGTTCCCATTCAAAAGGCAAAAAAAAAGTTATATTGCTAAGTAACCTTTAACAATGAATACCATTCATTATGTAT'),\n",
      " ('high_0_3',\n",
      "  'TACATTAGCTATTAGCTTACGTAATCCTCTCACCGGTGGATGTTCCCATTCAAAAGGCAAAAAAAAAGTTATATTGCTAAGTAACCTTTAACAATGAATACCATTCATTATGTATTTGCTTAATGATACAAAGGCATTGTTTGCT'),\n",
      " ('high_0_4',\n",
      "  'CACCGGTGGATGTTCCCATTCAAAAGGCAAAAAAAAAGTTATATTGCTAAGTAACCTTTAACAATGAATACCATTCATTATGTATTTGCTTAATGATACAAAGGCATTGTTTGCTCTATTGCAGGTGATAACAGCAGATCAAAGA')]\n"
     ]
    }
   ],
   "source": [
    "key_to_seq = OrderedDict()\n",
    "\n",
    "with open(\"../data/Pilot_counts_sequences/PilotDesign.sequences.txt\") as f:\n",
    "    for line in f:\n",
    "        key, seq = line.strip().split()\n",
    "        key_to_seq[key] = seq\n",
    "        \n",
    "pprint(key_to_seq.items()[:5])"
   ]
  },
  {
   "cell_type": "code",
   "execution_count": 3,
   "metadata": {
    "collapsed": false
   },
   "outputs": [],
   "source": [
    "key_to_normalized_K562_Rep1 = {}\n",
    "key_to_normalized_K562_Rep2 = {}\n",
    "\n",
    "with open(\"../data/Pilot_normalized/K562/tablenorm_recenterends_K562_Rep1_20.txt\") as f:\n",
    "    for line in f:\n",
    "        parts = line.strip().split()\n",
    "        \n",
    "        for i, norm in enumerate(parts[1:]):\n",
    "            key = \"{}_{}\".format(parts[0], i)\n",
    "            val = float(norm)\n",
    "            key_to_normalized_K562_Rep1[key] = val\n",
    "            \n",
    "with open(\"../data/Pilot_normalized/K562/tablenorm_recenterends_K562_Rep2_20.txt\") as f:\n",
    "    for line in f:\n",
    "        parts = line.strip().split()\n",
    "        \n",
    "        for i, norm in enumerate(parts[1:]):\n",
    "            key = \"{}_{}\".format(parts[0], i)\n",
    "            val = float(norm)\n",
    "            key_to_normalized_K562_Rep2[key] = val\n",
    "\n",
    "# Check that the sequence and value keys line up.\n",
    "assert set(key_to_normalized_K562_Rep1.keys()) == set(key_to_seq.keys())\n",
    "assert set(key_to_normalized_K562_Rep2.keys()) == set(key_to_seq.keys())"
   ]
  },
  {
   "cell_type": "code",
   "execution_count": 4,
   "metadata": {
    "collapsed": false
   },
   "outputs": [],
   "source": [
    "# One hot encode DNA sequences the standard way.\n",
    "def one_hot_encode_seq(seq):\n",
    "    bases = ['A', 'T', 'C', 'G']\n",
    "    # Gotta be ready for when we discover a new base.\n",
    "    result = np.zeros((4, len(seq)))\n",
    "    \n",
    "    for i, base in enumerate(seq):\n",
    "        result[bases.index(base), i] = 1\n",
    "\n",
    "    return result\n",
    "\n",
    "def seqs_to_encoded_matrix(seqs):\n",
    "    # Wrangle the data into a shape that Dragonn wants.\n",
    "    result = np.concatenate(\n",
    "        map(one_hot_encode_seq, seqs)\n",
    "    ).reshape(\n",
    "        len(seqs), 1, 4, len(seqs[0])\n",
    "    )\n",
    "    \n",
    "    # Check we actually did the encoding right.\n",
    "    for i in range(len(seqs)):\n",
    "        for j in range(len(seqs[0])):\n",
    "            assert sum(result[i, 0, :, j]) == 1\n",
    "    \n",
    "    return result"
   ]
  },
  {
   "cell_type": "code",
   "execution_count": 5,
   "metadata": {
    "collapsed": false
   },
   "outputs": [],
   "source": [
    "X = seqs_to_encoded_matrix(key_to_seq.values())"
   ]
  },
  {
   "cell_type": "code",
   "execution_count": 6,
   "metadata": {
    "collapsed": false
   },
   "outputs": [],
   "source": [
    "# Just round to the median, to make this a classification task for now.\n",
    "K562_Rep1_median = np.median(key_to_normalized_K562_Rep1.values())\n",
    "K562_Rep1_y = np.array(\n",
    "    map(\n",
    "        lambda key: key_to_normalized_K562_Rep1[key] > K562_Rep1_median, \n",
    "        key_to_seq.keys()\n",
    "    )\n",
    ").reshape(-1, 1)\n",
    "\n",
    "K562_Rep2_median = np.median(key_to_normalized_K562_Rep2.values())\n",
    "K562_Rep2_y = np.array(\n",
    "    map(\n",
    "        lambda key: key_to_normalized_K562_Rep2[key] > K562_Rep2_median, \n",
    "        key_to_seq.keys()\n",
    "    )\n",
    ").reshape(-1, 1)\n",
    "\n",
    "y = np.hstack([K562_Rep1_y, K562_Rep2_y])"
   ]
  },
  {
   "cell_type": "code",
   "execution_count": 7,
   "metadata": {
    "collapsed": true
   },
   "outputs": [],
   "source": [
    "# Just take the last 100 to be the validation set.\n",
    "X_train = X[:-100,:,:,:]\n",
    "y_train = y[:-100,:]\n",
    "\n",
    "X_valid = X[-100:,:,:,:]\n",
    "y_valid = y[-100:,:]"
   ]
  },
  {
   "cell_type": "markdown",
   "metadata": {},
   "source": [
    "Start with the model used in the Dragonn tutorial. Train and plot the train and validation loss."
   ]
  },
  {
   "cell_type": "code",
   "execution_count": 8,
   "metadata": {
    "collapsed": false
   },
   "outputs": [],
   "source": [
    "model = models.SequenceDNN(\n",
    "    seq_length=X_train.shape[3],\n",
    "    num_filters=[1],\n",
    "    conv_width=[45],\n",
    "    pool_width=45,\n",
    "    num_tasks=y_train.shape[1]\n",
    ")"
   ]
  },
  {
   "cell_type": "code",
   "execution_count": 9,
   "metadata": {
    "collapsed": false
   },
   "outputs": [
    {
     "name": "stdout",
     "output_type": "stream",
     "text": [
      "Training model (* indicates new best result)...\n",
      "Epoch 1:\n",
      "Train Task 0: Loss: 0.7152\tBalanced Accuracy: 48.25%\t auROC: 0.479\t auPRC: 0.480\t auPRG: -0.040\n",
      "\tRecall at 5%|10%|20% FDR: 0.1%|0.1%|0.1%\t Num Positives: 1066\t Num Negatives: 1084\n",
      "Task 1: Loss: 0.7101\tBalanced Accuracy: 49.02%\t auROC: 0.495\t auPRC: 0.498\t auPRG: -0.013\n",
      "\tRecall at 5%|10%|20% FDR: 0.1%|0.1%|0.1%\t Num Positives: 1071\t Num Negatives: 1079\n",
      "Valid Task 0: Loss: 0.6986\tBalanced Accuracy: 50.29%\t auROC: 0.488\t auPRC: 0.587\t auPRG: -0.009\n",
      "\tRecall at 5%|10%|20% FDR: 3.4%|3.4%|3.4%\t Num Positives: 59\t Num Negatives: 41\n",
      "Task 1: Loss: 0.7178\tBalanced Accuracy: 43.44%\t auROC: 0.424\t auPRC: 0.478\t auPRG: -0.123\n",
      "\tRecall at 5%|10%|20% FDR: 0.0%|0.0%|0.0%\t Num Positives: 54\t Num Negatives: 46 *\n",
      "Epoch 2:\n",
      "Train Task 0: Loss: 0.6983\tBalanced Accuracy: 48.91%\t auROC: 0.497\t auPRC: 0.488\t auPRG: 0.002\n",
      "\tRecall at 5%|10%|20% FDR: 0.1%|0.1%|0.1%\t Num Positives: 1066\t Num Negatives: 1084\n",
      "Task 1: Loss: 0.6955\tBalanced Accuracy: 49.77%\t auROC: 0.498\t auPRC: 0.502\t auPRG: -0.012\n",
      "\tRecall at 5%|10%|20% FDR: 0.1%|0.1%|0.1%\t Num Positives: 1071\t Num Negatives: 1079\n",
      "Valid Task 0: Loss: 0.6975\tBalanced Accuracy: 50.79%\t auROC: 0.489\t auPRC: 0.582\t auPRG: -0.016\n",
      "\tRecall at 5%|10%|20% FDR: 1.7%|1.7%|1.7%\t Num Positives: 59\t Num Negatives: 41\n",
      "Task 1: Loss: 0.7034\tBalanced Accuracy: 50.56%\t auROC: 0.484\t auPRC: 0.509\t auPRG: -0.020\n",
      "\tRecall at 5%|10%|20% FDR: 0.0%|0.0%|0.0%\t Num Positives: 54\t Num Negatives: 46 *\n",
      "Epoch 3:\n",
      "Train Task 0: Loss: 0.6948\tBalanced Accuracy: 49.49%\t auROC: 0.491\t auPRC: 0.488\t auPRG: -0.019\n",
      "\tRecall at 5%|10%|20% FDR: 0.1%|0.1%|0.1%\t Num Positives: 1066\t Num Negatives: 1084\n",
      "Task 1: Loss: 0.6934\tBalanced Accuracy: 50.88%\t auROC: 0.511\t auPRC: 0.513\t auPRG: 0.012\n",
      "\tRecall at 5%|10%|20% FDR: 0.1%|0.1%|0.1%\t Num Positives: 1071\t Num Negatives: 1079\n",
      "Valid Task 0: Loss: 0.6945\tBalanced Accuracy: 48.04%\t auROC: 0.522\t auPRC: 0.534\t auPRG: 0.073\n",
      "\tRecall at 5%|10%|20% FDR: 1.7%|1.7%|1.7%\t Num Positives: 59\t Num Negatives: 41\n",
      "Task 1: Loss: 0.6994\tBalanced Accuracy: 46.58%\t auROC: 0.470\t auPRC: 0.445\t auPRG: -0.024\n",
      "\tRecall at 5%|10%|20% FDR: 0.0%|0.0%|0.0%\t Num Positives: 54\t Num Negatives: 46 *\n",
      "Epoch 4:\n",
      "Train Task 0: Loss: 0.6938\tBalanced Accuracy: 49.96%\t auROC: 0.496\t auPRC: 0.486\t auPRG: -0.007\n",
      "\tRecall at 5%|10%|20% FDR: 0.1%|0.1%|0.1%\t Num Positives: 1066\t Num Negatives: 1084\n",
      "Task 1: Loss: 0.6931\tBalanced Accuracy: 51.09%\t auROC: 0.509\t auPRC: 0.525\t auPRG: 0.011\n",
      "\tRecall at 5%|10%|20% FDR: 0.1%|0.1%|0.1%\t Num Positives: 1071\t Num Negatives: 1079\n",
      "Valid Task 0: Loss: 0.6935\tBalanced Accuracy: 50.48%\t auROC: 0.489\t auPRC: 0.554\t auPRG: -0.014\n",
      "\tRecall at 5%|10%|20% FDR: 1.7%|1.7%|1.7%\t Num Positives: 59\t Num Negatives: 41\n",
      "Task 1: Loss: 0.6978\tBalanced Accuracy: 46.74%\t auROC: 0.470\t auPRC: 0.394\t auPRG: -0.033\n",
      "\tRecall at 5%|10%|20% FDR: 0.0%|0.0%|0.0%\t Num Positives: 54\t Num Negatives: 46 *\n",
      "Epoch 5:\n",
      "Train Task 0: Loss: 0.6934\tBalanced Accuracy: 50.23%\t auROC: 0.499\t auPRC: 0.498\t auPRG: -0.003\n",
      "\tRecall at 5%|10%|20% FDR: 0.1%|0.1%|0.1%\t Num Positives: 1066\t Num Negatives: 1084\n",
      "Task 1: Loss: 0.6930\tBalanced Accuracy: 50.95%\t auROC: 0.515\t auPRC: 0.549\t auPRG: 0.019\n",
      "\tRecall at 5%|10%|20% FDR: 0.1%|0.1%|0.1%\t Num Positives: 1071\t Num Negatives: 1079\n",
      "Valid Task 0: Loss: 0.6935\tBalanced Accuracy: 50.48%\t auROC: 0.508\t auPRC: 0.634\t auPRG: 0.011\n",
      "\tRecall at 5%|10%|20% FDR: 1.7%|1.7%|1.7%\t Num Positives: 59\t Num Negatives: 41\n",
      "Task 1: Loss: 0.6972\tBalanced Accuracy: 46.74%\t auROC: 0.470\t auPRC: 0.275\t auPRG: -0.023\n",
      "\tRecall at 5%|10%|20% FDR: 0.0%|0.0%|0.0%\t Num Positives: 54\t Num Negatives: 46 *\n",
      "Epoch 6:\n",
      "Train Task 0: Loss: 0.6931\tBalanced Accuracy: 50.27%\t auROC: 0.501\t auPRC: 0.515\t auPRG: -0.002\n",
      "\tRecall at 5%|10%|20% FDR: 0.3%|0.3%|0.3%\t Num Positives: 1066\t Num Negatives: 1084\n",
      "Task 1: Loss: 0.6928\tBalanced Accuracy: 50.95%\t auROC: 0.513\t auPRC: 0.553\t auPRG: 0.015\n",
      "\tRecall at 5%|10%|20% FDR: 0.1%|0.1%|0.1%\t Num Positives: 1071\t Num Negatives: 1079\n",
      "Valid Task 0: Loss: 0.6936\tBalanced Accuracy: 50.48%\t auROC: 0.508\t auPRC: 0.634\t auPRG: 0.011\n",
      "\tRecall at 5%|10%|20% FDR: 1.7%|1.7%|1.7%\t Num Positives: 59\t Num Negatives: 41\n",
      "Task 1: Loss: 0.6970\tBalanced Accuracy: 46.74%\t auROC: 0.470\t auPRC: 0.275\t auPRG: -0.023\n",
      "\tRecall at 5%|10%|20% FDR: 0.0%|0.0%|0.0%\t Num Positives: 54\t Num Negatives: 46 *\n",
      "Epoch 7:\n",
      "Train Task 0: Loss: 0.6930\tBalanced Accuracy: 50.24%\t auROC: 0.499\t auPRC: 0.497\t auPRG: -0.003\n",
      "\tRecall at 5%|10%|20% FDR: 0.5%|0.5%|0.5%\t Num Positives: 1066\t Num Negatives: 1084\n",
      "Task 1: Loss: 0.6925\tBalanced Accuracy: 51.42%\t auROC: 0.512\t auPRC: 0.539\t auPRG: 0.015\n",
      "\tRecall at 5%|10%|20% FDR: 0.1%|0.1%|0.1%\t Num Positives: 1071\t Num Negatives: 1079\n",
      "Valid Task 0: Loss: 0.6933\tBalanced Accuracy: 50.48%\t auROC: 0.508\t auPRC: 0.634\t auPRG: 0.011\n",
      "\tRecall at 5%|10%|20% FDR: 1.7%|1.7%|1.7%\t Num Positives: 59\t Num Negatives: 41\n",
      "Task 1: Loss: 0.6976\tBalanced Accuracy: 46.74%\t auROC: 0.470\t auPRC: 0.275\t auPRG: -0.023\n",
      "\tRecall at 5%|10%|20% FDR: 0.0%|0.0%|0.0%\t Num Positives: 54\t Num Negatives: 46\n",
      "Epoch 8:\n",
      "Train Task 0: Loss: 0.6927\tBalanced Accuracy: 50.33%\t auROC: 0.500\t auPRC: 0.510\t auPRG: -0.005\n",
      "\tRecall at 5%|10%|20% FDR: 0.5%|0.5%|0.5%\t Num Positives: 1066\t Num Negatives: 1084\n",
      "Task 1: Loss: 0.6924\tBalanced Accuracy: 51.32%\t auROC: 0.518\t auPRC: 0.557\t auPRG: 0.024\n",
      "\tRecall at 5%|10%|20% FDR: 0.1%|0.1%|0.1%\t Num Positives: 1071\t Num Negatives: 1079\n",
      "Valid Task 0: Loss: 0.6935\tBalanced Accuracy: 50.48%\t auROC: 0.469\t auPRC: 0.612\t auPRG: -0.072\n",
      "\tRecall at 5%|10%|20% FDR: 1.7%|1.7%|1.7%\t Num Positives: 59\t Num Negatives: 41\n",
      "Task 1: Loss: 0.6972\tBalanced Accuracy: 46.74%\t auROC: 0.470\t auPRC: 0.275\t auPRG: -0.023\n",
      "\tRecall at 5%|10%|20% FDR: 0.0%|0.0%|0.0%\t Num Positives: 54\t Num Negatives: 46\n",
      "Epoch 9:\n",
      "Train Task 0: Loss: 0.6925\tBalanced Accuracy: 50.33%\t auROC: 0.503\t auPRC: 0.505\t auPRG: 0.005\n",
      "\tRecall at 5%|10%|20% FDR: 0.7%|0.7%|0.7%\t Num Positives: 1066\t Num Negatives: 1084\n",
      "Task 1: Loss: 0.6920\tBalanced Accuracy: 51.33%\t auROC: 0.519\t auPRC: 0.553\t auPRG: 0.026\n",
      "\tRecall at 5%|10%|20% FDR: 0.1%|0.1%|0.1%\t Num Positives: 1071\t Num Negatives: 1079\n",
      "Valid Task 0: Loss: 0.6933\tBalanced Accuracy: 50.48%\t auROC: 0.508\t auPRC: 0.641\t auPRG: 0.010\n",
      "\tRecall at 5%|10%|20% FDR: 3.4%|3.4%|3.4%\t Num Positives: 59\t Num Negatives: 41\n",
      "Task 1: Loss: 0.6976\tBalanced Accuracy: 46.74%\t auROC: 0.469\t auPRC: 0.275\t auPRG: -0.024\n",
      "\tRecall at 5%|10%|20% FDR: 0.0%|0.0%|0.0%\t Num Positives: 54\t Num Negatives: 46\n",
      "Epoch 10:\n",
      "Train Task 0: Loss: 0.6922\tBalanced Accuracy: 50.43%\t auROC: 0.504\t auPRC: 0.507\t auPRG: 0.006\n",
      "\tRecall at 5%|10%|20% FDR: 0.7%|0.7%|0.8%\t Num Positives: 1066\t Num Negatives: 1084\n",
      "Task 1: Loss: 0.6918\tBalanced Accuracy: 51.70%\t auROC: 0.518\t auPRC: 0.560\t auPRG: 0.021\n",
      "\tRecall at 5%|10%|20% FDR: 0.3%|0.3%|0.6%\t Num Positives: 1071\t Num Negatives: 1079\n",
      "Valid Task 0: Loss: 0.6932\tBalanced Accuracy: 50.48%\t auROC: 0.508\t auPRC: 0.641\t auPRG: 0.010\n",
      "\tRecall at 5%|10%|20% FDR: 3.4%|3.4%|3.4%\t Num Positives: 59\t Num Negatives: 41\n",
      "Task 1: Loss: 0.6976\tBalanced Accuracy: 46.74%\t auROC: 0.469\t auPRC: 0.275\t auPRG: -0.024\n",
      "\tRecall at 5%|10%|20% FDR: 0.0%|0.0%|0.0%\t Num Positives: 54\t Num Negatives: 46\n",
      "Epoch 11:\n",
      "Train Task 0: Loss: 0.6919\tBalanced Accuracy: 50.66%\t auROC: 0.507\t auPRC: 0.514\t auPRG: 0.010\n",
      "\tRecall at 5%|10%|20% FDR: 0.8%|0.8%|1.6%\t Num Positives: 1066\t Num Negatives: 1084\n",
      "Task 1: Loss: 0.6916\tBalanced Accuracy: 51.79%\t auROC: 0.521\t auPRC: 0.572\t auPRG: 0.024\n",
      "\tRecall at 5%|10%|20% FDR: 0.3%|0.3%|0.8%\t Num Positives: 1071\t Num Negatives: 1079\n",
      "Valid Task 0: Loss: 0.6933\tBalanced Accuracy: 50.48%\t auROC: 0.484\t auPRC: 0.605\t auPRG: -0.017\n",
      "\tRecall at 5%|10%|20% FDR: 3.4%|3.4%|3.4%\t Num Positives: 59\t Num Negatives: 41\n",
      "Task 1: Loss: 0.6975\tBalanced Accuracy: 46.74%\t auROC: 0.469\t auPRC: 0.275\t auPRG: -0.024\n",
      "\tRecall at 5%|10%|20% FDR: 0.0%|0.0%|0.0%\t Num Positives: 54\t Num Negatives: 46\n",
      "Epoch 12:\n",
      "Train Task 0: Loss: 0.6918\tBalanced Accuracy: 50.29%\t auROC: 0.508\t auPRC: 0.512\t auPRG: 0.014\n",
      "\tRecall at 5%|10%|20% FDR: 0.8%|0.8%|1.6%\t Num Positives: 1066\t Num Negatives: 1084\n",
      "Task 1: Loss: 0.6911\tBalanced Accuracy: 52.12%\t auROC: 0.526\t auPRC: 0.566\t auPRG: 0.035\n",
      "\tRecall at 5%|10%|20% FDR: 0.4%|0.4%|1.5%\t Num Positives: 1071\t Num Negatives: 1079\n",
      "Valid Task 0: Loss: 0.6932\tBalanced Accuracy: 50.48%\t auROC: 0.508\t auPRC: 0.641\t auPRG: 0.010\n",
      "\tRecall at 5%|10%|20% FDR: 3.4%|3.4%|3.4%\t Num Positives: 59\t Num Negatives: 41\n",
      "Task 1: Loss: 0.6980\tBalanced Accuracy: 46.74%\t auROC: 0.469\t auPRC: 0.275\t auPRG: -0.024\n",
      "\tRecall at 5%|10%|20% FDR: 0.0%|0.0%|0.0%\t Num Positives: 54\t Num Negatives: 46\n",
      "Finished training after 12 epochs.\n"
     ]
    }
   ],
   "source": [
    "model.train(X_train, y_train, (X_valid, y_valid))"
   ]
  },
  {
   "cell_type": "code",
   "execution_count": 10,
   "metadata": {
    "collapsed": false
   },
   "outputs": [],
   "source": [
    "def print_loss(model):\n",
    "    train_losses, valid_losses = [np.array([epoch_metrics['Loss'] for epoch_metrics in metrics])\n",
    "                                  for metrics in (model.train_metrics, model.valid_metrics)]\n",
    "\n",
    "    # Pretty sure early stopping works by taking the mean of losses, might want to double check\n",
    "    train_losses = train_losses.mean(axis=1)\n",
    "    valid_losses = valid_losses.mean(axis=1)\n",
    "\n",
    "    f = plt.figure(figsize=(10, 4))\n",
    "    ax = f.add_subplot(1, 1, 1)\n",
    "    \n",
    "    ax.plot(range(len(train_losses)), train_losses, label='Training',lw=4)\n",
    "    ax.plot(range(len(train_losses)), valid_losses, label='Validation', lw=4)\n",
    "    \n",
    "    min_loss_indx = min(enumerate(valid_losses), key=lambda x: x[1])[0]\n",
    "    ax.plot([min_loss_indx, min_loss_indx], [0, 1.0], 'k--', label='Early Stop')\n",
    "    ax.legend(loc=\"upper right\")\n",
    "    ax.set_ylabel(\"Loss\")\n",
    "    ax.set_ylim((0.0,1.0))\n",
    "    ax.set_xlabel(\"Epoch\")\n",
    "    plt.show()"
   ]
  },
  {
   "cell_type": "code",
   "execution_count": 11,
   "metadata": {
    "collapsed": false
   },
   "outputs": [
    {
     "data": {
      "image/png": "[encoded data removed]",
      "text/plain": [
       "<matplotlib.figure.Figure at 0x10ba27110>"
      ]
     },
     "metadata": {},
     "output_type": "display_data"
    }
   ],
   "source": [
    "print_loss(model)"
   ]
  },
  {
   "cell_type": "markdown",
   "metadata": {},
   "source": [
    "Train and test on the multi-filter model used in the tutorial."
   ]
  },
  {
   "cell_type": "code",
   "execution_count": 12,
   "metadata": {
    "collapsed": false
   },
   "outputs": [],
   "source": [
    "multi_filter_model = models.SequenceDNN(\n",
    "    seq_length=X_train.shape[3],\n",
    "    num_filters=[15],\n",
    "    conv_width=[45],\n",
    "    pool_width=45,\n",
    "    dropout=0.1,\n",
    "    num_tasks=y_train.shape[1]\n",
    ")"
   ]
  },
  {
   "cell_type": "code",
   "execution_count": 13,
   "metadata": {
    "collapsed": false
   },
   "outputs": [
    {
     "name": "stdout",
     "output_type": "stream",
     "text": [
      "Training model (* indicates new best result)...\n",
      "Epoch 1:\n",
      "Train Task 0: Loss: 0.7018\tBalanced Accuracy: 51.52%\t auROC: 0.535\t auPRC: 0.522\t auPRG: 0.065\n",
      "\tRecall at 5%|10%|20% FDR: 0.0%|0.0%|0.0%\t Num Positives: 1066\t Num Negatives: 1084\n",
      "Task 1: Loss: 0.7065\tBalanced Accuracy: 51.88%\t auROC: 0.526\t auPRC: 0.511\t auPRG: 0.052\n",
      "\tRecall at 5%|10%|20% FDR: 0.0%|0.0%|0.0%\t Num Positives: 1071\t Num Negatives: 1079\n",
      "Valid Task 0: Loss: 0.7075\tBalanced Accuracy: 52.73%\t auROC: 0.487\t auPRC: 0.560\t auPRG: -0.025\n",
      "\tRecall at 5%|10%|20% FDR: 0.0%|0.0%|0.0%\t Num Positives: 59\t Num Negatives: 41\n",
      "Task 1: Loss: 0.6938\tBalanced Accuracy: 55.84%\t auROC: 0.542\t auPRC: 0.570\t auPRG: 0.103\n",
      "\tRecall at 5%|10%|20% FDR: 1.9%|1.9%|1.9%\t Num Positives: 54\t Num Negatives: 46 *\n",
      "Epoch 2:\n",
      "Train Task 0: Loss: 0.6898\tBalanced Accuracy: 55.22%\t auROC: 0.563\t auPRC: 0.548\t auPRG: 0.120\n",
      "\tRecall at 5%|10%|20% FDR: 0.0%|0.0%|0.0%\t Num Positives: 1066\t Num Negatives: 1084\n",
      "Task 1: Loss: 0.6993\tBalanced Accuracy: 53.77%\t auROC: 0.543\t auPRC: 0.524\t auPRG: 0.086\n",
      "\tRecall at 5%|10%|20% FDR: 0.0%|0.0%|0.0%\t Num Positives: 1071\t Num Negatives: 1079\n",
      "Valid Task 0: Loss: 0.7236\tBalanced Accuracy: 50.62%\t auROC: 0.508\t auPRC: 0.571\t auPRG: 0.031\n",
      "\tRecall at 5%|10%|20% FDR: 0.0%|0.0%|0.0%\t Num Positives: 59\t Num Negatives: 41\n",
      "Task 1: Loss: 0.6890\tBalanced Accuracy: 58.01%\t auROC: 0.558\t auPRC: 0.584\t auPRG: 0.130\n",
      "\tRecall at 5%|10%|20% FDR: 1.9%|1.9%|1.9%\t Num Positives: 54\t Num Negatives: 46\n",
      "Epoch 3:\n",
      "Train Task 0: Loss: 0.6819\tBalanced Accuracy: 56.56%\t auROC: 0.590\t auPRC: 0.572\t auPRG: 0.174\n",
      "\tRecall at 5%|10%|20% FDR: 0.0%|0.0%|0.0%\t Num Positives: 1066\t Num Negatives: 1084\n",
      "Task 1: Loss: 0.6958\tBalanced Accuracy: 53.93%\t auROC: 0.562\t auPRC: 0.537\t auPRG: 0.128\n",
      "\tRecall at 5%|10%|20% FDR: 0.0%|0.0%|0.0%\t Num Positives: 1071\t Num Negatives: 1079\n",
      "Valid Task 0: Loss: 0.7294\tBalanced Accuracy: 49.67%\t auROC: 0.523\t auPRC: 0.593\t auPRG: 0.060\n",
      "\tRecall at 5%|10%|20% FDR: 1.7%|1.7%|1.7%\t Num Positives: 59\t Num Negatives: 41\n",
      "Task 1: Loss: 0.7026\tBalanced Accuracy: 55.48%\t auROC: 0.576\t auPRC: 0.600\t auPRG: 0.154\n",
      "\tRecall at 5%|10%|20% FDR: 1.9%|1.9%|1.9%\t Num Positives: 54\t Num Negatives: 46\n",
      "Epoch 4:\n",
      "Train Task 0: Loss: 0.6738\tBalanced Accuracy: 57.78%\t auROC: 0.615\t auPRC: 0.595\t auPRG: 0.222\n",
      "\tRecall at 5%|10%|20% FDR: 0.0%|0.0%|0.0%\t Num Positives: 1066\t Num Negatives: 1084\n",
      "Task 1: Loss: 0.6850\tBalanced Accuracy: 56.66%\t auROC: 0.581\t auPRC: 0.554\t auPRG: 0.168\n",
      "\tRecall at 5%|10%|20% FDR: 0.0%|0.0%|0.0%\t Num Positives: 1071\t Num Negatives: 1079\n",
      "Valid Task 0: Loss: 0.7058\tBalanced Accuracy: 53.27%\t auROC: 0.535\t auPRC: 0.616\t auPRG: 0.092\n",
      "\tRecall at 5%|10%|20% FDR: 5.1%|5.1%|5.1%\t Num Positives: 59\t Num Negatives: 41\n",
      "Task 1: Loss: 0.6830\tBalanced Accuracy: 56.64%\t auROC: 0.592\t auPRC: 0.599\t auPRG: 0.171\n",
      "\tRecall at 5%|10%|20% FDR: 0.0%|0.0%|0.0%\t Num Positives: 54\t Num Negatives: 46 *\n",
      "Epoch 5:\n",
      "Train Task 0: Loss: 0.6709\tBalanced Accuracy: 58.67%\t auROC: 0.636\t auPRC: 0.613\t auPRG: 0.265\n",
      "\tRecall at 5%|10%|20% FDR: 0.0%|0.0%|0.8%\t Num Positives: 1066\t Num Negatives: 1084\n",
      "Task 1: Loss: 0.6800\tBalanced Accuracy: 56.20%\t auROC: 0.598\t auPRC: 0.568\t auPRG: 0.201\n",
      "\tRecall at 5%|10%|20% FDR: 0.0%|0.0%|0.0%\t Num Positives: 1071\t Num Negatives: 1079\n",
      "Valid Task 0: Loss: 0.7460\tBalanced Accuracy: 48.72%\t auROC: 0.541\t auPRC: 0.622\t auPRG: 0.078\n",
      "\tRecall at 5%|10%|20% FDR: 5.1%|5.1%|5.1%\t Num Positives: 59\t Num Negatives: 41\n",
      "Task 1: Loss: 0.6846\tBalanced Accuracy: 56.52%\t auROC: 0.609\t auPRC: 0.612\t auPRG: 0.191\n",
      "\tRecall at 5%|10%|20% FDR: 0.0%|0.0%|0.0%\t Num Positives: 54\t Num Negatives: 46\n",
      "Epoch 6:\n",
      "Train Task 0: Loss: 0.6622\tBalanced Accuracy: 61.27%\t auROC: 0.653\t auPRC: 0.628\t auPRG: 0.300\n",
      "\tRecall at 5%|10%|20% FDR: 0.0%|0.0%|2.4%\t Num Positives: 1066\t Num Negatives: 1084\n",
      "Task 1: Loss: 0.6737\tBalanced Accuracy: 57.85%\t auROC: 0.615\t auPRC: 0.584\t auPRG: 0.232\n",
      "\tRecall at 5%|10%|20% FDR: 0.0%|0.0%|0.0%\t Num Positives: 1071\t Num Negatives: 1079\n",
      "Valid Task 0: Loss: 0.6962\tBalanced Accuracy: 54.69%\t auROC: 0.553\t auPRC: 0.631\t auPRG: 0.108\n",
      "\tRecall at 5%|10%|20% FDR: 5.1%|5.1%|5.1%\t Num Positives: 59\t Num Negatives: 41\n",
      "Task 1: Loss: 0.6771\tBalanced Accuracy: 57.29%\t auROC: 0.622\t auPRC: 0.620\t auPRG: 0.208\n",
      "\tRecall at 5%|10%|20% FDR: 0.0%|0.0%|0.0%\t Num Positives: 54\t Num Negatives: 46 *\n",
      "Epoch 7:\n",
      "Train Task 0: Loss: 0.6538\tBalanced Accuracy: 61.28%\t auROC: 0.669\t auPRC: 0.643\t auPRG: 0.334\n",
      "\tRecall at 5%|10%|20% FDR: 0.0%|0.0%|3.1%\t Num Positives: 1066\t Num Negatives: 1084\n",
      "Task 1: Loss: 0.6685\tBalanced Accuracy: 58.95%\t auROC: 0.630\t auPRC: 0.598\t auPRG: 0.262\n",
      "\tRecall at 5%|10%|20% FDR: 0.0%|0.0%|0.6%\t Num Positives: 1071\t Num Negatives: 1079\n",
      "Valid Task 0: Loss: 0.7222\tBalanced Accuracy: 50.99%\t auROC: 0.561\t auPRC: 0.642\t auPRG: 0.122\n",
      "\tRecall at 5%|10%|20% FDR: 5.1%|5.1%|6.8%\t Num Positives: 59\t Num Negatives: 41\n",
      "Task 1: Loss: 0.6750\tBalanced Accuracy: 59.62%\t auROC: 0.628\t auPRC: 0.625\t auPRG: 0.212\n",
      "\tRecall at 5%|10%|20% FDR: 0.0%|0.0%|0.0%\t Num Positives: 54\t Num Negatives: 46\n",
      "Epoch 8:\n",
      "Train Task 0: Loss: 0.6479\tBalanced Accuracy: 63.18%\t auROC: 0.683\t auPRC: 0.657\t auPRG: 0.363\n",
      "\tRecall at 5%|10%|20% FDR: 0.0%|0.0%|4.6%\t Num Positives: 1066\t Num Negatives: 1084\n",
      "Task 1: Loss: 0.6631\tBalanced Accuracy: 60.45%\t auROC: 0.643\t auPRC: 0.610\t auPRG: 0.291\n",
      "\tRecall at 5%|10%|20% FDR: 0.0%|0.0%|0.6%\t Num Positives: 1071\t Num Negatives: 1079\n",
      "Valid Task 0: Loss: 0.7061\tBalanced Accuracy: 51.94%\t auROC: 0.571\t auPRC: 0.643\t auPRG: 0.141\n",
      "\tRecall at 5%|10%|20% FDR: 1.7%|1.7%|6.8%\t Num Positives: 59\t Num Negatives: 41\n",
      "Task 1: Loss: 0.6708\tBalanced Accuracy: 60.39%\t auROC: 0.635\t auPRC: 0.628\t auPRG: 0.241\n",
      "\tRecall at 5%|10%|20% FDR: 0.0%|0.0%|0.0%\t Num Positives: 54\t Num Negatives: 46\n",
      "Epoch 9:\n",
      "Train Task 0: Loss: 0.6480\tBalanced Accuracy: 61.56%\t auROC: 0.694\t auPRC: 0.668\t auPRG: 0.390\n",
      "\tRecall at 5%|10%|20% FDR: 0.0%|0.0%|5.1%\t Num Positives: 1066\t Num Negatives: 1084\n",
      "Task 1: Loss: 0.6587\tBalanced Accuracy: 60.35%\t auROC: 0.656\t auPRC: 0.622\t auPRG: 0.315\n",
      "\tRecall at 5%|10%|20% FDR: 0.0%|0.0%|1.1%\t Num Positives: 1071\t Num Negatives: 1079\n",
      "Valid Task 0: Loss: 0.7454\tBalanced Accuracy: 52.96%\t auROC: 0.572\t auPRC: 0.646\t auPRG: 0.157\n",
      "\tRecall at 5%|10%|20% FDR: 1.7%|1.7%|6.8%\t Num Positives: 59\t Num Negatives: 41\n",
      "Task 1: Loss: 0.6700\tBalanced Accuracy: 62.72%\t auROC: 0.647\t auPRC: 0.654\t auPRG: 0.263\n",
      "\tRecall at 5%|10%|20% FDR: 1.9%|1.9%|1.9%\t Num Positives: 54\t Num Negatives: 46\n",
      "Epoch 10:\n",
      "Train Task 0: Loss: 0.6411\tBalanced Accuracy: 65.13%\t auROC: 0.706\t auPRC: 0.680\t auPRG: 0.414\n",
      "\tRecall at 5%|10%|20% FDR: 0.0%|0.0%|5.3%\t Num Positives: 1066\t Num Negatives: 1084\n",
      "Task 1: Loss: 0.6533\tBalanced Accuracy: 62.61%\t auROC: 0.668\t auPRC: 0.635\t auPRG: 0.340\n",
      "\tRecall at 5%|10%|20% FDR: 0.1%|0.1%|1.3%\t Num Positives: 1071\t Num Negatives: 1079\n",
      "Valid Task 0: Loss: 0.6915\tBalanced Accuracy: 54.69%\t auROC: 0.573\t auPRC: 0.651\t auPRG: 0.154\n",
      "\tRecall at 5%|10%|20% FDR: 1.7%|1.7%|8.5%\t Num Positives: 59\t Num Negatives: 41\n",
      "Task 1: Loss: 0.6616\tBalanced Accuracy: 61.15%\t auROC: 0.650\t auPRC: 0.652\t auPRG: 0.274\n",
      "\tRecall at 5%|10%|20% FDR: 1.9%|1.9%|1.9%\t Num Positives: 54\t Num Negatives: 46 *\n",
      "Epoch 11:\n",
      "Train Task 0: Loss: 0.6333\tBalanced Accuracy: 64.94%\t auROC: 0.716\t auPRC: 0.691\t auPRG: 0.433\n",
      "\tRecall at 5%|10%|20% FDR: 0.1%|0.1%|10.9%\t Num Positives: 1066\t Num Negatives: 1084\n",
      "Task 1: Loss: 0.6492\tBalanced Accuracy: 62.77%\t auROC: 0.677\t auPRC: 0.645\t auPRG: 0.361\n",
      "\tRecall at 5%|10%|20% FDR: 0.2%|0.2%|1.9%\t Num Positives: 1071\t Num Negatives: 1079\n",
      "Valid Task 0: Loss: 0.7148\tBalanced Accuracy: 53.53%\t auROC: 0.578\t auPRC: 0.654\t auPRG: 0.167\n",
      "\tRecall at 5%|10%|20% FDR: 1.7%|1.7%|15.3%\t Num Positives: 59\t Num Negatives: 41\n",
      "Task 1: Loss: 0.6643\tBalanced Accuracy: 61.63%\t auROC: 0.654\t auPRC: 0.650\t auPRG: 0.301\n",
      "\tRecall at 5%|10%|20% FDR: 1.9%|1.9%|1.9%\t Num Positives: 54\t Num Negatives: 46\n",
      "Epoch 12:\n",
      "Train Task 0: Loss: 0.6286\tBalanced Accuracy: 66.26%\t auROC: 0.725\t auPRC: 0.701\t auPRG: 0.453\n",
      "\tRecall at 5%|10%|20% FDR: 0.4%|1.3%|20.1%\t Num Positives: 1066\t Num Negatives: 1084\n",
      "Task 1: Loss: 0.6448\tBalanced Accuracy: 63.53%\t auROC: 0.687\t auPRC: 0.655\t auPRG: 0.381\n",
      "\tRecall at 5%|10%|20% FDR: 0.3%|0.3%|2.1%\t Num Positives: 1071\t Num Negatives: 1079\n",
      "Valid Task 0: Loss: 0.7096\tBalanced Accuracy: 56.08%\t auROC: 0.586\t auPRC: 0.664\t auPRG: 0.171\n",
      "\tRecall at 5%|10%|20% FDR: 1.7%|1.7%|15.3%\t Num Positives: 59\t Num Negatives: 41\n",
      "Task 1: Loss: 0.6612\tBalanced Accuracy: 63.33%\t auROC: 0.652\t auPRC: 0.646\t auPRG: 0.311\n",
      "\tRecall at 5%|10%|20% FDR: 1.9%|1.9%|1.9%\t Num Positives: 54\t Num Negatives: 46\n",
      "Epoch 13:\n",
      "Train Task 0: Loss: 0.6248\tBalanced Accuracy: 65.66%\t auROC: 0.733\t auPRC: 0.711\t auPRG: 0.471\n",
      "\tRecall at 5%|10%|20% FDR: 0.6%|2.0%|22.7%\t Num Positives: 1066\t Num Negatives: 1084\n",
      "Task 1: Loss: 0.6419\tBalanced Accuracy: 63.83%\t auROC: 0.695\t auPRC: 0.664\t auPRG: 0.401\n",
      "\tRecall at 5%|10%|20% FDR: 0.3%|0.3%|2.4%\t Num Positives: 1071\t Num Negatives: 1079\n",
      "Valid Task 0: Loss: 0.7158\tBalanced Accuracy: 53.53%\t auROC: 0.590\t auPRC: 0.668\t auPRG: 0.169\n",
      "\tRecall at 5%|10%|20% FDR: 1.7%|1.7%|15.3%\t Num Positives: 59\t Num Negatives: 41\n",
      "Task 1: Loss: 0.6651\tBalanced Accuracy: 62.88%\t auROC: 0.654\t auPRC: 0.648\t auPRG: 0.325\n",
      "\tRecall at 5%|10%|20% FDR: 1.9%|1.9%|1.9%\t Num Positives: 54\t Num Negatives: 46\n",
      "Epoch 14:\n",
      "Train Task 0: Loss: 0.6216\tBalanced Accuracy: 68.29%\t auROC: 0.742\t auPRC: 0.720\t auPRG: 0.488\n",
      "\tRecall at 5%|10%|20% FDR: 0.6%|2.2%|25.8%\t Num Positives: 1066\t Num Negatives: 1084\n",
      "Task 1: Loss: 0.6368\tBalanced Accuracy: 65.63%\t auROC: 0.704\t auPRC: 0.674\t auPRG: 0.418\n",
      "\tRecall at 5%|10%|20% FDR: 0.6%|0.6%|2.5%\t Num Positives: 1071\t Num Negatives: 1079\n",
      "Valid Task 0: Loss: 0.6933\tBalanced Accuracy: 54.22%\t auROC: 0.591\t auPRC: 0.671\t auPRG: 0.173\n",
      "\tRecall at 5%|10%|20% FDR: 1.7%|1.7%|15.3%\t Num Positives: 59\t Num Negatives: 41\n",
      "Task 1: Loss: 0.6568\tBalanced Accuracy: 64.25%\t auROC: 0.658\t auPRC: 0.651\t auPRG: 0.336\n",
      "\tRecall at 5%|10%|20% FDR: 1.9%|1.9%|1.9%\t Num Positives: 54\t Num Negatives: 46 *\n",
      "Epoch 15:\n",
      "Train Task 0: Loss: 0.6170\tBalanced Accuracy: 67.44%\t auROC: 0.749\t auPRC: 0.727\t auPRG: 0.503\n",
      "\tRecall at 5%|10%|20% FDR: 0.6%|1.6%|30.5%\t Num Positives: 1066\t Num Negatives: 1084\n",
      "Task 1: Loss: 0.6335\tBalanced Accuracy: 65.89%\t auROC: 0.711\t auPRC: 0.682\t auPRG: 0.435\n",
      "\tRecall at 5%|10%|20% FDR: 0.7%|0.7%|3.0%\t Num Positives: 1071\t Num Negatives: 1079\n",
      "Valid Task 0: Loss: 0.7155\tBalanced Accuracy: 56.08%\t auROC: 0.593\t auPRC: 0.664\t auPRG: 0.168\n",
      "\tRecall at 5%|10%|20% FDR: 0.0%|0.0%|16.9%\t Num Positives: 59\t Num Negatives: 41\n",
      "Task 1: Loss: 0.6598\tBalanced Accuracy: 63.81%\t auROC: 0.662\t auPRC: 0.651\t auPRG: 0.352\n",
      "\tRecall at 5%|10%|20% FDR: 1.9%|1.9%|1.9%\t Num Positives: 54\t Num Negatives: 46\n",
      "Epoch 16:\n",
      "Train Task 0: Loss: 0.6138\tBalanced Accuracy: 69.68%\t auROC: 0.757\t auPRC: 0.735\t auPRG: 0.520\n",
      "\tRecall at 5%|10%|20% FDR: 0.6%|2.0%|31.3%\t Num Positives: 1066\t Num Negatives: 1084\n",
      "Task 1: Loss: 0.6296\tBalanced Accuracy: 67.01%\t auROC: 0.719\t auPRC: 0.692\t auPRG: 0.452\n",
      "\tRecall at 5%|10%|20% FDR: 1.0%|1.0%|3.3%\t Num Positives: 1071\t Num Negatives: 1079\n",
      "Valid Task 0: Loss: 0.6951\tBalanced Accuracy: 55.06%\t auROC: 0.594\t auPRC: 0.665\t auPRG: 0.165\n",
      "\tRecall at 5%|10%|20% FDR: 0.0%|0.0%|16.9%\t Num Positives: 59\t Num Negatives: 41\n",
      "Task 1: Loss: 0.6576\tBalanced Accuracy: 63.49%\t auROC: 0.664\t auPRC: 0.649\t auPRG: 0.357\n",
      "\tRecall at 5%|10%|20% FDR: 1.9%|1.9%|1.9%\t Num Positives: 54\t Num Negatives: 46\n",
      "Epoch 17:\n",
      "Train Task 0: Loss: 0.6096\tBalanced Accuracy: 68.85%\t auROC: 0.762\t auPRC: 0.742\t auPRG: 0.532\n",
      "\tRecall at 5%|10%|20% FDR: 0.7%|1.7%|33.2%\t Num Positives: 1066\t Num Negatives: 1084\n",
      "Task 1: Loss: 0.6271\tBalanced Accuracy: 66.62%\t auROC: 0.725\t auPRC: 0.698\t auPRG: 0.467\n",
      "\tRecall at 5%|10%|20% FDR: 0.9%|1.6%|3.5%\t Num Positives: 1071\t Num Negatives: 1079\n",
      "Valid Task 0: Loss: 0.7133\tBalanced Accuracy: 57.30%\t auROC: 0.591\t auPRC: 0.664\t auPRG: 0.156\n",
      "\tRecall at 5%|10%|20% FDR: 0.0%|0.0%|16.9%\t Num Positives: 59\t Num Negatives: 41\n",
      "Task 1: Loss: 0.6608\tBalanced Accuracy: 63.81%\t auROC: 0.663\t auPRC: 0.652\t auPRG: 0.358\n",
      "\tRecall at 5%|10%|20% FDR: 1.9%|1.9%|1.9%\t Num Positives: 54\t Num Negatives: 46\n",
      "Epoch 18:\n",
      "Train Task 0: Loss: 0.6063\tBalanced Accuracy: 68.93%\t auROC: 0.769\t auPRC: 0.749\t auPRG: 0.545\n",
      "\tRecall at 5%|10%|20% FDR: 0.8%|1.8%|34.9%\t Num Positives: 1066\t Num Negatives: 1084\n",
      "Task 1: Loss: 0.6230\tBalanced Accuracy: 68.32%\t auROC: 0.731\t auPRC: 0.706\t auPRG: 0.479\n",
      "\tRecall at 5%|10%|20% FDR: 1.3%|1.6%|14.4%\t Num Positives: 1071\t Num Negatives: 1079\n",
      "Valid Task 0: Loss: 0.7169\tBalanced Accuracy: 57.30%\t auROC: 0.589\t auPRC: 0.667\t auPRG: 0.147\n",
      "\tRecall at 5%|10%|20% FDR: 0.0%|16.9%|16.9%\t Num Positives: 59\t Num Negatives: 41\n",
      "Task 1: Loss: 0.6563\tBalanced Accuracy: 63.65%\t auROC: 0.665\t auPRC: 0.658\t auPRG: 0.362\n",
      "\tRecall at 5%|10%|20% FDR: 3.7%|3.7%|3.7%\t Num Positives: 54\t Num Negatives: 46\n",
      "Epoch 19:\n",
      "Train Task 0: Loss: 0.6028\tBalanced Accuracy: 69.68%\t auROC: 0.774\t auPRC: 0.755\t auPRG: 0.558\n",
      "\tRecall at 5%|10%|20% FDR: 0.7%|2.8%|38.8%\t Num Positives: 1066\t Num Negatives: 1084\n",
      "Task 1: Loss: 0.6204\tBalanced Accuracy: 68.45%\t auROC: 0.736\t auPRC: 0.711\t auPRG: 0.490\n",
      "\tRecall at 5%|10%|20% FDR: 1.2%|1.5%|14.2%\t Num Positives: 1071\t Num Negatives: 1079\n",
      "Valid Task 0: Loss: 0.7147\tBalanced Accuracy: 57.30%\t auROC: 0.594\t auPRC: 0.671\t auPRG: 0.147\n",
      "\tRecall at 5%|10%|20% FDR: 0.0%|16.9%|16.9%\t Num Positives: 59\t Num Negatives: 41\n",
      "Task 1: Loss: 0.6575\tBalanced Accuracy: 64.90%\t auROC: 0.669\t auPRC: 0.665\t auPRG: 0.363\n",
      "\tRecall at 5%|10%|20% FDR: 3.7%|3.7%|3.7%\t Num Positives: 54\t Num Negatives: 46\n",
      "Epoch 20:\n",
      "Train Task 0: Loss: 0.5993\tBalanced Accuracy: 70.43%\t auROC: 0.780\t auPRC: 0.761\t auPRG: 0.571\n",
      "\tRecall at 5%|10%|20% FDR: 0.9%|3.0%|41.1%\t Num Positives: 1066\t Num Negatives: 1084\n",
      "Task 1: Loss: 0.6169\tBalanced Accuracy: 69.03%\t auROC: 0.741\t auPRC: 0.718\t auPRG: 0.501\n",
      "\tRecall at 5%|10%|20% FDR: 1.4%|1.6%|15.9%\t Num Positives: 1071\t Num Negatives: 1079\n",
      "Valid Task 0: Loss: 0.7137\tBalanced Accuracy: 57.77%\t auROC: 0.594\t auPRC: 0.672\t auPRG: 0.152\n",
      "\tRecall at 5%|10%|20% FDR: 0.0%|16.9%|16.9%\t Num Positives: 59\t Num Negatives: 41\n",
      "Task 1: Loss: 0.6510\tBalanced Accuracy: 63.49%\t auROC: 0.673\t auPRC: 0.665\t auPRG: 0.377\n",
      "\tRecall at 5%|10%|20% FDR: 3.7%|3.7%|3.7%\t Num Positives: 54\t Num Negatives: 46\n",
      "Finished training after 20 epochs.\n"
     ]
    }
   ],
   "source": [
    "multi_filter_model.train(X_train, y_train, (X_valid, y_valid))"
   ]
  },
  {
   "cell_type": "code",
   "execution_count": 14,
   "metadata": {
    "collapsed": false
   },
   "outputs": [
    {
     "data": {
      "image/png": "[encoded data removed]",
      "text/plain": [
       "<matplotlib.figure.Figure at 0x10d5f7850>"
      ]
     },
     "metadata": {},
     "output_type": "display_data"
    }
   ],
   "source": [
    "print_loss(multi_filter_model)"
   ]
  },
  {
   "cell_type": "code",
   "execution_count": null,
   "metadata": {
    "collapsed": true
   },
   "outputs": [],
   "source": []
  }
 ],
 "metadata": {
  "kernelspec": {
   "display_name": "Python 2",
   "language": "python",
   "name": "python2"
  },
  "language_info": {
   "codemirror_mode": {
    "name": "ipython",
    "version": 2
   },
   "file_extension": ".py",
   "mimetype": "text/x-python",
   "name": "python",
   "nbconvert_exporter": "python",
   "pygments_lexer": "ipython2",
   "version": "2.7.10"
  }
 },
 "nbformat": 4,
 "nbformat_minor": 0
}
