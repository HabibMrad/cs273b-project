{
 "cells": [
  {
   "cell_type": "markdown",
   "metadata": {},
   "source": [
    "Runs two basic convolutional networks on the pilot dataset.\n",
    "\n",
    "### Things to do next\n",
    "- Figure out how to do regression (see below).\n",
    "- Figure out how to do multitask learning (i.e. try to predict the different reps and different genes).\n",
    "- Run on the scale up dataset.\n",
    "- Read up on the \"Interpreting a DragoNN model using filter visualization\" and \"Interpreting data with a DragoNN model\" in the Dragonn tutorial.\n",
    "\n",
    "### Installing Dragonn\n",
    "- Clone from https://github.com/kundajelab/dragonn\n",
    "- ```python setup.py```\n",
    "    - I needed to ```brew install geos```"
   ]
  },
  {
   "cell_type": "code",
   "execution_count": 1,
   "metadata": {
    "collapsed": false
   },
   "outputs": [
    {
     "name": "stderr",
     "output_type": "stream",
     "text": [
      "Using Theano backend.\n",
      "/Users/andrewlamb/anaconda/lib/python2.7/site-packages/Theano-0.8.2-py2.7.egg/theano/tensor/signal/downsample.py:6: UserWarning: downsample module has been moved to the theano.tensor.signal.pool module.\n",
      "  \"downsample module has been moved to the theano.tensor.signal.pool module.\")\n"
     ]
    }
   ],
   "source": [
    "from dragonn import models\n",
    "\n",
    "from collections import OrderedDict\n",
    "from pprint import pprint\n",
    "\n",
    "import numpy as np\n",
    "import matplotlib.pyplot as plt\n",
    "\n",
    "%matplotlib inline"
   ]
  },
  {
   "cell_type": "markdown",
   "metadata": {},
   "source": [
    "Read in the pilot data.\n",
    "- Samples are sequences that will be one hot encoded\n",
    "- Try and predict the normalized values. **I couldn't figure out how to do regression with Dragonn, so I just rounded the values to 0 or 1 based on the median.**"
   ]
  },
  {
   "cell_type": "code",
   "execution_count": 2,
   "metadata": {
    "collapsed": false
   },
   "outputs": [
    {
     "name": "stdout",
     "output_type": "stream",
     "text": [
      "[('high_0_0',\n",
      "  'CTAGGTGGATACAGGTTTCTTCTGAGGGCCAAAGCCTGGGCCCTATTGCTCTGGTTGCCATGGCTGTTTCTTTTCTCTCCTTTCCTTTGATACATTAGCTATTAGCTTACGTAATCCTCTCACCGGTGGATGTTCCCATTCAAAA'),\n",
      " ('high_0_1',\n",
      "  'AAAGCCTGGGCCCTATTGCTCTGGTTGCCATGGCTGTTTCTTTTCTCTCCTTTCCTTTGATACATTAGCTATTAGCTTACGTAATCCTCTCACCGGTGGATGTTCCCATTCAAAAGGCAAAAAAAAAGTTATATTGCTAAGTAAC'),\n",
      " ('high_0_2',\n",
      "  'TGGCTGTTTCTTTTCTCTCCTTTCCTTTGATACATTAGCTATTAGCTTACGTAATCCTCTCACCGGTGGATGTTCCCATTCAAAAGGCAAAAAAAAAGTTATATTGCTAAGTAACCTTTAACAATGAATACCATTCATTATGTAT'),\n",
      " ('high_0_3',\n",
      "  'TACATTAGCTATTAGCTTACGTAATCCTCTCACCGGTGGATGTTCCCATTCAAAAGGCAAAAAAAAAGTTATATTGCTAAGTAACCTTTAACAATGAATACCATTCATTATGTATTTGCTTAATGATACAAAGGCATTGTTTGCT'),\n",
      " ('high_0_4',\n",
      "  'CACCGGTGGATGTTCCCATTCAAAAGGCAAAAAAAAAGTTATATTGCTAAGTAACCTTTAACAATGAATACCATTCATTATGTATTTGCTTAATGATACAAAGGCATTGTTTGCTCTATTGCAGGTGATAACAGCAGATCAAAGA')]\n"
     ]
    }
   ],
   "source": [
    "key_to_seq = OrderedDict()\n",
    "\n",
    "with open(\"../data/Pilot_counts_sequences/PilotDesign.sequences.txt\") as f:\n",
    "    for line in f:\n",
    "        key, seq = line.strip().split()\n",
    "        key_to_seq[key] = seq\n",
    "        \n",
    "pprint(key_to_seq.items()[:5])"
   ]
  },
  {
   "cell_type": "code",
   "execution_count": 3,
   "metadata": {
    "collapsed": false
   },
   "outputs": [],
   "source": [
    "key_to_normalized_K562_Rep1 = {}\n",
    "key_to_normalized_K562_Rep2 = {}\n",
    "\n",
    "with open(\"../data/Pilot_normalized/K562/tablenorm_recenterends_K562_Rep1_20.txt\") as f:\n",
    "    for line in f:\n",
    "        parts = line.strip().split()\n",
    "        \n",
    "        for i, norm in enumerate(parts[1:]):\n",
    "            key = \"{}_{}\".format(parts[0], i)\n",
    "            val = float(norm)\n",
    "            key_to_normalized_K562_Rep1[key] = val\n",
    "            \n",
    "with open(\"../data/Pilot_normalized/K562/tablenorm_recenterends_K562_Rep2_20.txt\") as f:\n",
    "    for line in f:\n",
    "        parts = line.strip().split()\n",
    "        \n",
    "        for i, norm in enumerate(parts[1:]):\n",
    "            key = \"{}_{}\".format(parts[0], i)\n",
    "            val = float(norm)\n",
    "            key_to_normalized_K562_Rep2[key] = val\n",
    "\n",
    "# Check that the sequence and value keys line up.\n",
    "assert set(key_to_normalized_K562_Rep1.keys()) == set(key_to_seq.keys())\n",
    "assert set(key_to_normalized_K562_Rep2.keys()) == set(key_to_seq.keys())"
   ]
  },
  {
   "cell_type": "code",
   "execution_count": 4,
   "metadata": {
    "collapsed": false
   },
   "outputs": [],
   "source": [
    "# One hot encode DNA sequences the standard way.\n",
    "def one_hot_encode_seq(seq):\n",
    "    bases = ['A', 'T', 'C', 'G']\n",
    "    # Gotta be ready for when we discover a new base.\n",
    "    result = np.zeros((4, len(seq)))\n",
    "    \n",
    "    for i, base in enumerate(seq):\n",
    "        result[bases.index(base), i] = 1\n",
    "\n",
    "    return result\n",
    "\n",
    "def seqs_to_encoded_matrix(seqs):\n",
    "    # Wrangle the data into a shape that Dragonn wants.\n",
    "    result = np.concatenate(\n",
    "        map(one_hot_encode_seq, seqs)\n",
    "    ).reshape(\n",
    "        len(seqs), 1, 4, len(seqs[0])\n",
    "    )\n",
    "    \n",
    "    # Check we actually did the encoding right.\n",
    "    for i in range(len(seqs)):\n",
    "        for j in range(len(seqs[0])):\n",
    "            assert sum(result[i, 0, :, j]) == 1\n",
    "    \n",
    "    return result"
   ]
  },
  {
   "cell_type": "code",
   "execution_count": 5,
   "metadata": {
    "collapsed": false
   },
   "outputs": [],
   "source": [
    "X = seqs_to_encoded_matrix(key_to_seq.values())"
   ]
  },
  {
   "cell_type": "code",
   "execution_count": 6,
   "metadata": {
    "collapsed": false
   },
   "outputs": [],
   "source": [
    "# Just round to the median, to make this a classification task for now.\n",
    "K562_Rep1_median = np.median(key_to_normalized_K562_Rep1.values())\n",
    "K562_Rep1_y = np.array(\n",
    "    map(\n",
    "        lambda key: key_to_normalized_K562_Rep1[key] > K562_Rep1_median, \n",
    "        key_to_seq.keys()\n",
    "    )\n",
    ").reshape(-1, 1)\n",
    "\n",
    "K562_Rep2_median = np.median(key_to_normalized_K562_Rep2.values())\n",
    "K562_Rep2_y = np.array(\n",
    "    map(\n",
    "        lambda key: key_to_normalized_K562_Rep2[key] > K562_Rep2_median, \n",
    "        key_to_seq.keys()\n",
    "    )\n",
    ").reshape(-1, 1)\n",
    "\n",
    "# TODO: Figure out how to do multitask.\n",
    "# y = np.hstack([K562_Rep1_y, K562_Rep2_y])\n",
    "y = K562_Rep1_y"
   ]
  },
  {
   "cell_type": "code",
   "execution_count": 7,
   "metadata": {
    "collapsed": true
   },
   "outputs": [],
   "source": [
    "# Just take the last 100 to be the validation set.\n",
    "X_train = X[:-100,:,:,:]\n",
    "y_train = y[:-100,:]\n",
    "\n",
    "X_valid = X[-100:,:,:,:]\n",
    "y_valid = y[-100:,:]"
   ]
  },
  {
   "cell_type": "markdown",
   "metadata": {},
   "source": [
    "Start with the model used in the Dragonn tutorial. Train and plot the train and validation loss."
   ]
  },
  {
   "cell_type": "code",
   "execution_count": 8,
   "metadata": {
    "collapsed": false
   },
   "outputs": [],
   "source": [
    "model = models.SequenceDNN(\n",
    "    seq_length=X_train.shape[3],\n",
    "    num_filters=[1],\n",
    "    conv_width=[45],\n",
    "    pool_width=45\n",
    ")"
   ]
  },
  {
   "cell_type": "code",
   "execution_count": 9,
   "metadata": {
    "collapsed": false
   },
   "outputs": [
    {
     "name": "stdout",
     "output_type": "stream",
     "text": [
      "Training model (* indicates new best result)...\n",
      "Epoch 1:\n",
      "Train Loss: 0.6932\tBalanced Accuracy: 50.90%\t auROC: 0.530\t auPRC: 0.528\t auPRG: 0.051\n",
      "\tRecall at 5%|10%|20% FDR: 0.1%|0.1%|1.2%\t Num Positives: 1066\t Num Negatives: 1084\n",
      "Valid Loss: 0.7101\tBalanced Accuracy: 56.04%\t auROC: 0.489\t auPRC: 0.657\t auPRG: -0.118\n",
      "\tRecall at 5%|10%|20% FDR: 10.2%|10.2%|18.6%\t Num Positives: 59\t Num Negatives: 41 *\n",
      "Epoch 2:\n",
      "Train Loss: 0.6912\tBalanced Accuracy: 50.92%\t auROC: 0.539\t auPRC: 0.536\t auPRG: 0.068\n",
      "\tRecall at 5%|10%|20% FDR: 0.2%|0.2%|1.1%\t Num Positives: 1066\t Num Negatives: 1084\n",
      "Valid Loss: 0.7056\tBalanced Accuracy: 55.77%\t auROC: 0.485\t auPRC: 0.639\t auPRG: -0.110\n",
      "\tRecall at 5%|10%|20% FDR: 5.1%|5.1%|16.9%\t Num Positives: 59\t Num Negatives: 41 *\n",
      "Epoch 3:\n",
      "Train Loss: 0.6898\tBalanced Accuracy: 51.95%\t auROC: 0.547\t auPRC: 0.542\t auPRG: 0.085\n",
      "\tRecall at 5%|10%|20% FDR: 0.2%|0.2%|1.3%\t Num Positives: 1066\t Num Negatives: 1084\n",
      "Valid Loss: 0.7014\tBalanced Accuracy: 48.18%\t auROC: 0.483\t auPRC: 0.637\t auPRG: -0.111\n",
      "\tRecall at 5%|10%|20% FDR: 5.1%|5.1%|15.3%\t Num Positives: 59\t Num Negatives: 41 *\n",
      "Epoch 4:\n",
      "Train Loss: 0.6891\tBalanced Accuracy: 53.29%\t auROC: 0.554\t auPRC: 0.547\t auPRG: 0.105\n",
      "\tRecall at 5%|10%|20% FDR: 0.2%|0.2%|1.4%\t Num Positives: 1066\t Num Negatives: 1084\n",
      "Valid Loss: 0.7002\tBalanced Accuracy: 48.18%\t auROC: 0.474\t auPRC: 0.635\t auPRG: -0.121\n",
      "\tRecall at 5%|10%|20% FDR: 5.1%|5.1%|16.9%\t Num Positives: 59\t Num Negatives: 41 *\n",
      "Epoch 5:\n",
      "Train Loss: 0.6884\tBalanced Accuracy: 54.02%\t auROC: 0.560\t auPRC: 0.551\t auPRG: 0.116\n",
      "\tRecall at 5%|10%|20% FDR: 0.2%|0.2%|1.4%\t Num Positives: 1066\t Num Negatives: 1084\n",
      "Valid Loss: 0.6987\tBalanced Accuracy: 48.66%\t auROC: 0.476\t auPRC: 0.634\t auPRG: -0.119\n",
      "\tRecall at 5%|10%|20% FDR: 5.1%|5.1%|16.9%\t Num Positives: 59\t Num Negatives: 41 *\n",
      "Epoch 6:\n",
      "Train Loss: 0.6878\tBalanced Accuracy: 55.18%\t auROC: 0.567\t auPRC: 0.557\t auPRG: 0.129\n",
      "\tRecall at 5%|10%|20% FDR: 0.3%|1.4%|1.4%\t Num Positives: 1066\t Num Negatives: 1084\n",
      "Valid Loss: 0.6970\tBalanced Accuracy: 50.45%\t auROC: 0.479\t auPRC: 0.636\t auPRG: -0.120\n",
      "\tRecall at 5%|10%|20% FDR: 5.1%|5.1%|15.3%\t Num Positives: 59\t Num Negatives: 41 *\n",
      "Epoch 7:\n",
      "Train Loss: 0.6871\tBalanced Accuracy: 55.42%\t auROC: 0.574\t auPRC: 0.561\t auPRG: 0.141\n",
      "\tRecall at 5%|10%|20% FDR: 0.2%|0.2%|1.4%\t Num Positives: 1066\t Num Negatives: 1084\n",
      "Valid Loss: 0.6970\tBalanced Accuracy: 51.30%\t auROC: 0.480\t auPRC: 0.635\t auPRG: -0.112\n",
      "\tRecall at 5%|10%|20% FDR: 5.1%|5.1%|16.9%\t Num Positives: 59\t Num Negatives: 41\n",
      "Epoch 8:\n",
      "Train Loss: 0.6864\tBalanced Accuracy: 56.08%\t auROC: 0.581\t auPRC: 0.566\t auPRG: 0.153\n",
      "\tRecall at 5%|10%|20% FDR: 0.2%|0.2%|1.3%\t Num Positives: 1066\t Num Negatives: 1084\n",
      "Valid Loss: 0.6967\tBalanced Accuracy: 47.17%\t auROC: 0.476\t auPRC: 0.630\t auPRG: -0.123\n",
      "\tRecall at 5%|10%|20% FDR: 5.1%|5.1%|11.9%\t Num Positives: 59\t Num Negatives: 41 *\n",
      "Epoch 9:\n",
      "Train Loss: 0.6857\tBalanced Accuracy: 56.55%\t auROC: 0.587\t auPRC: 0.572\t auPRG: 0.168\n",
      "\tRecall at 5%|10%|20% FDR: 0.4%|0.4%|1.4%\t Num Positives: 1066\t Num Negatives: 1084\n",
      "Valid Loss: 0.6970\tBalanced Accuracy: 47.17%\t auROC: 0.472\t auPRC: 0.616\t auPRG: -0.117\n",
      "\tRecall at 5%|10%|20% FDR: 1.7%|1.7%|13.6%\t Num Positives: 59\t Num Negatives: 41\n",
      "Epoch 10:\n",
      "Train Loss: 0.6850\tBalanced Accuracy: 56.26%\t auROC: 0.593\t auPRC: 0.576\t auPRG: 0.180\n",
      "\tRecall at 5%|10%|20% FDR: 0.2%|0.2%|0.7%\t Num Positives: 1066\t Num Negatives: 1084\n",
      "Valid Loss: 0.6972\tBalanced Accuracy: 47.17%\t auROC: 0.476\t auPRC: 0.615\t auPRG: -0.084\n",
      "\tRecall at 5%|10%|20% FDR: 1.7%|1.7%|10.2%\t Num Positives: 59\t Num Negatives: 41\n",
      "Epoch 11:\n",
      "Train Loss: 0.6844\tBalanced Accuracy: 56.62%\t auROC: 0.599\t auPRC: 0.580\t auPRG: 0.191\n",
      "\tRecall at 5%|10%|20% FDR: 0.5%|0.5%|0.6%\t Num Positives: 1066\t Num Negatives: 1084\n",
      "Valid Loss: 0.6975\tBalanced Accuracy: 48.39%\t auROC: 0.476\t auPRC: 0.617\t auPRG: -0.085\n",
      "\tRecall at 5%|10%|20% FDR: 1.7%|1.7%|11.9%\t Num Positives: 59\t Num Negatives: 41\n",
      "Epoch 12:\n",
      "Train Loss: 0.6838\tBalanced Accuracy: 57.34%\t auROC: 0.603\t auPRC: 0.584\t auPRG: 0.199\n",
      "\tRecall at 5%|10%|20% FDR: 0.4%|0.4%|0.6%\t Num Positives: 1066\t Num Negatives: 1084\n",
      "Valid Loss: 0.6971\tBalanced Accuracy: 49.24%\t auROC: 0.474\t auPRC: 0.612\t auPRG: -0.090\n",
      "\tRecall at 5%|10%|20% FDR: 1.7%|1.7%|8.5%\t Num Positives: 59\t Num Negatives: 41\n",
      "Epoch 13:\n",
      "Train Loss: 0.6833\tBalanced Accuracy: 57.87%\t auROC: 0.607\t auPRC: 0.587\t auPRG: 0.207\n",
      "\tRecall at 5%|10%|20% FDR: 0.3%|0.3%|0.4%\t Num Positives: 1066\t Num Negatives: 1084\n",
      "Valid Loss: 0.6963\tBalanced Accuracy: 47.64%\t auROC: 0.477\t auPRC: 0.628\t auPRG: -0.098\n",
      "\tRecall at 5%|10%|20% FDR: 5.1%|5.1%|11.9%\t Num Positives: 59\t Num Negatives: 41 *\n",
      "Epoch 14:\n",
      "Train Loss: 0.6827\tBalanced Accuracy: 58.00%\t auROC: 0.610\t auPRC: 0.590\t auPRG: 0.212\n",
      "\tRecall at 5%|10%|20% FDR: 0.3%|0.3%|0.4%\t Num Positives: 1066\t Num Negatives: 1084\n",
      "Valid Loss: 0.6967\tBalanced Accuracy: 49.24%\t auROC: 0.473\t auPRC: 0.625\t auPRG: -0.112\n",
      "\tRecall at 5%|10%|20% FDR: 6.8%|6.8%|10.2%\t Num Positives: 59\t Num Negatives: 41\n",
      "Epoch 15:\n",
      "Train Loss: 0.6822\tBalanced Accuracy: 58.05%\t auROC: 0.613\t auPRC: 0.593\t auPRG: 0.219\n",
      "\tRecall at 5%|10%|20% FDR: 0.3%|0.3%|0.4%\t Num Positives: 1066\t Num Negatives: 1084\n",
      "Valid Loss: 0.6963\tBalanced Accuracy: 48.86%\t auROC: 0.478\t auPRC: 0.628\t auPRG: -0.123\n",
      "\tRecall at 5%|10%|20% FDR: 6.8%|6.8%|10.2%\t Num Positives: 59\t Num Negatives: 41 *\n",
      "Epoch 16:\n",
      "Train Loss: 0.6816\tBalanced Accuracy: 58.73%\t auROC: 0.617\t auPRC: 0.595\t auPRG: 0.228\n",
      "\tRecall at 5%|10%|20% FDR: 0.3%|0.3%|0.3%\t Num Positives: 1066\t Num Negatives: 1084\n",
      "Valid Loss: 0.6973\tBalanced Accuracy: 49.24%\t auROC: 0.477\t auPRC: 0.627\t auPRG: -0.105\n",
      "\tRecall at 5%|10%|20% FDR: 6.8%|6.8%|10.2%\t Num Positives: 59\t Num Negatives: 41\n",
      "Epoch 17:\n",
      "Train Loss: 0.6810\tBalanced Accuracy: 58.59%\t auROC: 0.620\t auPRC: 0.598\t auPRG: 0.237\n",
      "\tRecall at 5%|10%|20% FDR: 0.3%|0.3%|0.3%\t Num Positives: 1066\t Num Negatives: 1084\n",
      "Valid Loss: 0.6977\tBalanced Accuracy: 49.24%\t auROC: 0.476\t auPRC: 0.627\t auPRG: -0.108\n",
      "\tRecall at 5%|10%|20% FDR: 8.5%|8.5%|8.5%\t Num Positives: 59\t Num Negatives: 41\n",
      "Epoch 18:\n",
      "Train Loss: 0.6804\tBalanced Accuracy: 59.59%\t auROC: 0.623\t auPRC: 0.600\t auPRG: 0.244\n",
      "\tRecall at 5%|10%|20% FDR: 0.3%|0.3%|0.3%\t Num Positives: 1066\t Num Negatives: 1084\n",
      "Valid Loss: 0.6973\tBalanced Accuracy: 49.61%\t auROC: 0.479\t auPRC: 0.624\t auPRG: -0.104\n",
      "\tRecall at 5%|10%|20% FDR: 5.1%|5.1%|10.2%\t Num Positives: 59\t Num Negatives: 41\n",
      "Epoch 19:\n",
      "Train Loss: 0.6799\tBalanced Accuracy: 59.70%\t auROC: 0.626\t auPRC: 0.602\t auPRG: 0.250\n",
      "\tRecall at 5%|10%|20% FDR: 0.3%|0.3%|0.3%\t Num Positives: 1066\t Num Negatives: 1084\n",
      "Valid Loss: 0.6965\tBalanced Accuracy: 47.64%\t auROC: 0.481\t auPRC: 0.620\t auPRG: -0.098\n",
      "\tRecall at 5%|10%|20% FDR: 5.1%|5.1%|8.5%\t Num Positives: 59\t Num Negatives: 41\n",
      "Epoch 20:\n",
      "Train Loss: 0.6793\tBalanced Accuracy: 59.36%\t auROC: 0.628\t auPRC: 0.605\t auPRG: 0.254\n",
      "\tRecall at 5%|10%|20% FDR: 0.3%|0.3%|0.3%\t Num Positives: 1066\t Num Negatives: 1084\n",
      "Valid Loss: 0.6971\tBalanced Accuracy: 48.39%\t auROC: 0.482\t auPRC: 0.619\t auPRG: -0.095\n",
      "\tRecall at 5%|10%|20% FDR: 5.1%|5.1%|6.8%\t Num Positives: 59\t Num Negatives: 41\n",
      "Epoch 21:\n",
      "Train Loss: 0.6787\tBalanced Accuracy: 59.24%\t auROC: 0.630\t auPRC: 0.606\t auPRG: 0.261\n",
      "\tRecall at 5%|10%|20% FDR: 0.2%|0.2%|0.2%\t Num Positives: 1066\t Num Negatives: 1084\n",
      "Valid Loss: 0.6984\tBalanced Accuracy: 50.83%\t auROC: 0.485\t auPRC: 0.621\t auPRG: -0.081\n",
      "\tRecall at 5%|10%|20% FDR: 5.1%|5.1%|6.8%\t Num Positives: 59\t Num Negatives: 41\n",
      "Finished training after 21 epochs.\n"
     ]
    }
   ],
   "source": [
    "model.train(X_train, y_train, (X_valid, y_valid))"
   ]
  },
  {
   "cell_type": "code",
   "execution_count": 10,
   "metadata": {
    "collapsed": false
   },
   "outputs": [],
   "source": [
    "def print_loss(model):\n",
    "    train_losses, valid_losses = [np.array([epoch_metrics['Loss'] for epoch_metrics in metrics])\n",
    "                                  for metrics in (model.train_metrics, model.valid_metrics)]\n",
    "    min_loss_indx = min(enumerate(valid_losses), key=lambda x: x[1])[0]\n",
    "    f = plt.figure(figsize=(10, 4))\n",
    "    ax = f.add_subplot(1, 1, 1)\n",
    "    ax.plot(range(len(train_losses)), train_losses, 'b', label='Training',lw=4)\n",
    "    ax.plot(range(len(train_losses)), valid_losses, 'r', label='Validation', lw=4)\n",
    "    ax.plot([min_loss_indx, min_loss_indx], [0, 1.0], 'k--', label='Early Stop')\n",
    "    ax.legend(loc=\"upper right\")\n",
    "    ax.set_ylabel(\"Loss\")\n",
    "    ax.set_ylim((0.0,1.0))\n",
    "    ax.set_xlabel(\"Epoch\")\n",
    "    plt.show()"
   ]
  },
  {
   "cell_type": "code",
   "execution_count": 11,
   "metadata": {
    "collapsed": false
   },
   "outputs": [
    {
     "data": {
      "image/png": "[encoded data removed]",
      "text/plain": [
       "<matplotlib.figure.Figure at 0x10bb5f710>"
      ]
     },
     "metadata": {},
     "output_type": "display_data"
    }
   ],
   "source": [
    "print_loss(model)"
   ]
  },
  {
   "cell_type": "markdown",
   "metadata": {},
   "source": [
    "Train and test on the multi-filter model used in the tutorial."
   ]
  },
  {
   "cell_type": "code",
   "execution_count": 12,
   "metadata": {
    "collapsed": false
   },
   "outputs": [],
   "source": [
    "multi_filter_model = models.SequenceDNN(\n",
    "    seq_length=X_train.shape[3],\n",
    "    num_filters=[15],\n",
    "    conv_width=[45],\n",
    "    pool_width=45,\n",
    "    dropout=0.1\n",
    ")"
   ]
  },
  {
   "cell_type": "code",
   "execution_count": 13,
   "metadata": {
    "collapsed": false
   },
   "outputs": [
    {
     "name": "stdout",
     "output_type": "stream",
     "text": [
      "Training model (* indicates new best result)...\n",
      "Epoch 1:\n",
      "Train Loss: 0.7153\tBalanced Accuracy: 50.37%\t auROC: 0.516\t auPRC: 0.501\t auPRG: 0.023\n",
      "\tRecall at 5%|10%|20% FDR: 0.0%|0.0%|0.0%\t Num Positives: 1066\t Num Negatives: 1084\n",
      "Valid Loss: 0.7297\tBalanced Accuracy: 40.70%\t auROC: 0.443\t auPRC: 0.558\t auPRG: -0.064\n",
      "\tRecall at 5%|10%|20% FDR: 0.0%|0.0%|0.0%\t Num Positives: 59\t Num Negatives: 41 *\n",
      "Epoch 2:\n",
      "Train Loss: 0.7077\tBalanced Accuracy: 52.89%\t auROC: 0.542\t auPRC: 0.523\t auPRG: 0.067\n",
      "\tRecall at 5%|10%|20% FDR: 0.0%|0.0%|0.0%\t Num Positives: 1066\t Num Negatives: 1084\n",
      "Valid Loss: 0.7189\tBalanced Accuracy: 45.51%\t auROC: 0.448\t auPRC: 0.555\t auPRG: -0.048\n",
      "\tRecall at 5%|10%|20% FDR: 0.0%|0.0%|0.0%\t Num Positives: 59\t Num Negatives: 41 *\n",
      "Epoch 3:\n",
      "Train Loss: 0.6922\tBalanced Accuracy: 54.69%\t auROC: 0.571\t auPRC: 0.549\t auPRG: 0.130\n",
      "\tRecall at 5%|10%|20% FDR: 0.0%|0.0%|0.0%\t Num Positives: 1066\t Num Negatives: 1084\n",
      "Valid Loss: 0.7495\tBalanced Accuracy: 48.55%\t auROC: 0.449\t auPRC: 0.554\t auPRG: -0.042\n",
      "\tRecall at 5%|10%|20% FDR: 0.0%|0.0%|0.0%\t Num Positives: 59\t Num Negatives: 41\n",
      "Epoch 4:\n",
      "Train Loss: 0.6796\tBalanced Accuracy: 57.40%\t auROC: 0.600\t auPRC: 0.576\t auPRG: 0.193\n",
      "\tRecall at 5%|10%|20% FDR: 0.0%|0.0%|0.0%\t Num Positives: 1066\t Num Negatives: 1084\n",
      "Valid Loss: 0.7340\tBalanced Accuracy: 42.93%\t auROC: 0.459\t auPRC: 0.556\t auPRG: -0.021\n",
      "\tRecall at 5%|10%|20% FDR: 0.0%|0.0%|0.0%\t Num Positives: 59\t Num Negatives: 41\n",
      "Epoch 5:\n",
      "Train Loss: 0.6689\tBalanced Accuracy: 58.95%\t auROC: 0.628\t auPRC: 0.603\t auPRG: 0.252\n",
      "\tRecall at 5%|10%|20% FDR: 0.0%|0.0%|0.0%\t Num Positives: 1066\t Num Negatives: 1084\n",
      "Valid Loss: 0.7397\tBalanced Accuracy: 44.52%\t auROC: 0.458\t auPRC: 0.555\t auPRG: -0.036\n",
      "\tRecall at 5%|10%|20% FDR: 0.0%|0.0%|0.0%\t Num Positives: 59\t Num Negatives: 41\n",
      "Epoch 6:\n",
      "Train Loss: 0.6588\tBalanced Accuracy: 61.52%\t auROC: 0.655\t auPRC: 0.630\t auPRG: 0.311\n",
      "\tRecall at 5%|10%|20% FDR: 0.0%|0.0%|0.0%\t Num Positives: 1066\t Num Negatives: 1084\n",
      "Valid Loss: 0.7379\tBalanced Accuracy: 47.44%\t auROC: 0.460\t auPRC: 0.554\t auPRG: -0.044\n",
      "\tRecall at 5%|10%|20% FDR: 0.0%|0.0%|0.0%\t Num Positives: 59\t Num Negatives: 41\n",
      "Epoch 7:\n",
      "Train Loss: 0.6492\tBalanced Accuracy: 63.92%\t auROC: 0.681\t auPRC: 0.656\t auPRG: 0.367\n",
      "\tRecall at 5%|10%|20% FDR: 0.0%|0.0%|5.3%\t Num Positives: 1066\t Num Negatives: 1084\n",
      "Valid Loss: 0.7433\tBalanced Accuracy: 47.44%\t auROC: 0.466\t auPRC: 0.552\t auPRG: -0.053\n",
      "\tRecall at 5%|10%|20% FDR: 0.0%|0.0%|0.0%\t Num Positives: 59\t Num Negatives: 41\n",
      "Epoch 8:\n",
      "Train Loss: 0.6406\tBalanced Accuracy: 64.93%\t auROC: 0.703\t auPRC: 0.677\t auPRG: 0.412\n",
      "\tRecall at 5%|10%|20% FDR: 0.0%|0.0%|9.1%\t Num Positives: 1066\t Num Negatives: 1084\n",
      "Valid Loss: 0.7370\tBalanced Accuracy: 49.13%\t auROC: 0.471\t auPRC: 0.553\t auPRG: -0.043\n",
      "\tRecall at 5%|10%|20% FDR: 0.0%|0.0%|0.0%\t Num Positives: 59\t Num Negatives: 41\n",
      "Finished training after 8 epochs.\n"
     ]
    }
   ],
   "source": [
    "multi_filter_model.train(X_train, y_train, (X_valid, y_valid))"
   ]
  },
  {
   "cell_type": "code",
   "execution_count": 14,
   "metadata": {
    "collapsed": false
   },
   "outputs": [
    {
     "data": {
      "image/png": "[encoded data removed]",
      "text/plain": [
       "<matplotlib.figure.Figure at 0x10d5eb210>"
      ]
     },
     "metadata": {},
     "output_type": "display_data"
    }
   ],
   "source": [
    "print_loss(multi_filter_model)"
   ]
  },
  {
   "cell_type": "code",
   "execution_count": null,
   "metadata": {
    "collapsed": true
   },
   "outputs": [],
   "source": []
  }
 ],
 "metadata": {
  "kernelspec": {
   "display_name": "Python 2",
   "language": "python",
   "name": "python2"
  },
  "language_info": {
   "codemirror_mode": {
    "name": "ipython",
    "version": 2
   },
   "file_extension": ".py",
   "mimetype": "text/x-python",
   "name": "python",
   "nbconvert_exporter": "python",
   "pygments_lexer": "ipython2",
   "version": "2.7.10"
  }
 },
 "nbformat": 4,
 "nbformat_minor": 0
}
