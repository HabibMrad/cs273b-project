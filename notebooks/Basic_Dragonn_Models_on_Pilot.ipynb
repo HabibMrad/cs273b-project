{
 "cells": [
  {
   "cell_type": "markdown",
   "metadata": {},
   "source": [
    "Runs two basic convolutional networks on the pilot dataset.\n",
    "\n",
    "### Things to do next\n",
    "- Figure out how to do regression (see below).\n",
    "- ~~Figure out how to do multitask learning (i.e. try to predict the different reps and different genes).~~\n",
    "- Run on the scale up dataset.\n",
    "- Read up on the \"Interpreting a DragoNN model using filter visualization\" and \"Interpreting data with a DragoNN model\" in the Dragonn tutorial.\n",
    "\n",
    "### Installing Dragonn\n",
    "- Clone from https://github.com/kundajelab/dragonn\n",
    "- ```python setup.py```\n",
    "    - I needed to ```brew install geos```"
   ]
  },
  {
   "cell_type": "code",
   "execution_count": 1,
   "metadata": {
    "collapsed": false
   },
   "outputs": [
    {
     "name": "stderr",
     "output_type": "stream",
     "text": [
      "Using Theano backend.\n",
      "Using gpu device 0: Tesla K80 (CNMeM is disabled, cuDNN 5005)\n",
      "/usr/local/anaconda3/envs/dragonn/lib/python2.7/site-packages/theano/tensor/signal/downsample.py:6: UserWarning: downsample module has been moved to the theano.tensor.signal.pool module.\n",
      "  \"downsample module has been moved to the theano.tensor.signal.pool module.\")\n"
     ]
    }
   ],
   "source": [
    "from dragonn import models\n",
    "\n",
    "from sklearn.model_selection import train_test_split\n",
    "\n",
    "from collections import OrderedDict\n",
    "from pprint import pprint\n",
    "\n",
    "import numpy as np\n",
    "import matplotlib.pyplot as plt\n",
    "\n",
    "%matplotlib inline"
   ]
  },
  {
   "cell_type": "code",
   "execution_count": 2,
   "metadata": {
    "collapsed": false
   },
   "outputs": [],
   "source": [
    "import sys"
   ]
  },
  {
   "cell_type": "code",
   "execution_count": 3,
   "metadata": {
    "collapsed": false
   },
   "outputs": [],
   "source": [
    "sys.path = [\"/opt\"] + sys.path"
   ]
  },
  {
   "cell_type": "code",
   "execution_count": 4,
   "metadata": {
    "collapsed": true
   },
   "outputs": [],
   "source": [
    "import dragonn"
   ]
  },
  {
   "cell_type": "code",
   "execution_count": 5,
   "metadata": {
    "collapsed": false
   },
   "outputs": [
    {
     "data": {
      "text/plain": [
       "['/opt',\n",
       " '',\n",
       " '/usr/local/anaconda3/envs/dragonn/lib/python27.zip',\n",
       " '/usr/local/anaconda3/envs/dragonn/lib/python2.7',\n",
       " '/usr/local/anaconda3/envs/dragonn/lib/python2.7/plat-linux2',\n",
       " '/usr/local/anaconda3/envs/dragonn/lib/python2.7/lib-tk',\n",
       " '/usr/local/anaconda3/envs/dragonn/lib/python2.7/lib-old',\n",
       " '/usr/local/anaconda3/envs/dragonn/lib/python2.7/lib-dynload',\n",
       " '/usr/local/anaconda3/envs/dragonn/lib/python2.7/site-packages',\n",
       " '/usr/local/anaconda3/envs/dragonn/lib/python2.7/site-packages/DeepLIFT-0.2-py2.7.egg',\n",
       " '/usr/local/anaconda3/envs/dragonn/lib/python2.7/site-packages/pydot_ng-1.0.0-py2.7.egg',\n",
       " '/usr/local/anaconda3/envs/dragonn/lib/python2.7/site-packages/pyprg-0.1.1b7-py2.7.egg',\n",
       " '/usr/local/anaconda3/envs/dragonn/lib/python2.7/site-packages/sklearn-0.0-py2.7.egg',\n",
       " '/usr/local/anaconda3/envs/dragonn/lib/python2.7/site-packages/dragonn-0.1.1-py2.7.egg',\n",
       " '/usr/local/anaconda3/envs/dragonn/lib/python2.7/site-packages/simdna-0.1-py2.7.egg',\n",
       " '/usr/local/anaconda3/envs/dragonn/lib/python2.7/site-packages/setuptools-27.2.0-py2.7.egg',\n",
       " '/usr/local/anaconda3/envs/dragonn/lib/python2.7/site-packages/IPython/extensions',\n",
       " '/home/deeperswag/.ipython']"
      ]
     },
     "execution_count": 5,
     "metadata": {},
     "output_type": "execute_result"
    }
   ],
   "source": [
    "sys.path"
   ]
  },
  {
   "cell_type": "markdown",
   "metadata": {},
   "source": [
    "Read in the pilot data.\n",
    "- Samples are sequences that will be one hot encoded\n",
    "- Try and predict the normalized values. **I couldn't figure out how to do regression with Dragonn, so I just rounded the values to 0 or 1 based on the median.**"
   ]
  },
  {
   "cell_type": "code",
   "execution_count": 6,
   "metadata": {
    "collapsed": false
   },
   "outputs": [
    {
     "name": "stdout",
     "output_type": "stream",
     "text": [
      "[('high_0_0',\n",
      "  'CTAGGTGGATACAGGTTTCTTCTGAGGGCCAAAGCCTGGGCCCTATTGCTCTGGTTGCCATGGCTGTTTCTTTTCTCTCCTTTCCTTTGATACATTAGCTATTAGCTTACGTAATCCTCTCACCGGTGGATGTTCCCATTCAAAA'),\n",
      " ('high_0_1',\n",
      "  'AAAGCCTGGGCCCTATTGCTCTGGTTGCCATGGCTGTTTCTTTTCTCTCCTTTCCTTTGATACATTAGCTATTAGCTTACGTAATCCTCTCACCGGTGGATGTTCCCATTCAAAAGGCAAAAAAAAAGTTATATTGCTAAGTAAC'),\n",
      " ('high_0_2',\n",
      "  'TGGCTGTTTCTTTTCTCTCCTTTCCTTTGATACATTAGCTATTAGCTTACGTAATCCTCTCACCGGTGGATGTTCCCATTCAAAAGGCAAAAAAAAAGTTATATTGCTAAGTAACCTTTAACAATGAATACCATTCATTATGTAT'),\n",
      " ('high_0_3',\n",
      "  'TACATTAGCTATTAGCTTACGTAATCCTCTCACCGGTGGATGTTCCCATTCAAAAGGCAAAAAAAAAGTTATATTGCTAAGTAACCTTTAACAATGAATACCATTCATTATGTATTTGCTTAATGATACAAAGGCATTGTTTGCT'),\n",
      " ('high_0_4',\n",
      "  'CACCGGTGGATGTTCCCATTCAAAAGGCAAAAAAAAAGTTATATTGCTAAGTAACCTTTAACAATGAATACCATTCATTATGTATTTGCTTAATGATACAAAGGCATTGTTTGCTCTATTGCAGGTGATAACAGCAGATCAAAGA')]\n"
     ]
    }
   ],
   "source": [
    "key_to_seq = OrderedDict()\n",
    "\n",
    "with open(\"../data/Pilot_counts_sequences/PilotDesign.sequences.txt\") as f:\n",
    "    for line in f:\n",
    "        key, seq = line.strip().split()\n",
    "        key_to_seq[key] = seq\n",
    "        \n",
    "pprint(key_to_seq.items()[:5])"
   ]
  },
  {
   "cell_type": "code",
   "execution_count": 7,
   "metadata": {
    "collapsed": false
   },
   "outputs": [],
   "source": [
    "key_to_normalized_K562_Rep1 = {}\n",
    "key_to_normalized_K562_Rep2 = {}\n",
    "\n",
    "with open(\"../data/Pilot_normalized/K562/tablenorm_recenterends_K562_Rep1_20.txt\") as f:\n",
    "    for line in f:\n",
    "        parts = line.strip().split()\n",
    "        \n",
    "        for i, norm in enumerate(parts[1:]):\n",
    "            key = \"{}_{}\".format(parts[0], i)\n",
    "            val = float(norm)\n",
    "            key_to_normalized_K562_Rep1[key] = val\n",
    "                \n",
    "with open(\"../data/Pilot_normalized/K562/tablenorm_recenterends_K562_Rep2_20.txt\") as f:\n",
    "    for line in f:\n",
    "        parts = line.strip().split()\n",
    "        \n",
    "        for i, norm in enumerate(parts[1:]):\n",
    "            key = \"{}_{}\".format(parts[0], i)\n",
    "            val = float(norm)\n",
    "            key_to_normalized_K562_Rep2[key] = val\n",
    "\n",
    "# Check that the sequence and value keys line up.\n",
    "assert set(key_to_normalized_K562_Rep1.keys()) == set(key_to_seq.keys())\n",
    "assert set(key_to_normalized_K562_Rep2.keys()) == set(key_to_seq.keys())"
   ]
  },
  {
   "cell_type": "code",
   "execution_count": 8,
   "metadata": {
    "collapsed": false
   },
   "outputs": [],
   "source": [
    "# One hot encode DNA sequences the standard way.\n",
    "def one_hot_encode_seq(seq):\n",
    "    bases = ['A', 'T', 'C', 'G']\n",
    "    # Gotta be ready for when we discover a new base.\n",
    "    result = np.zeros((4, len(seq)))\n",
    "    \n",
    "    for i, base in enumerate(seq):\n",
    "        result[bases.index(base), i] = 1\n",
    "    return result\n",
    "\n",
    "def seqs_to_encoded_matrix(seqs):\n",
    "    # Wrangle the data into a shape that Dragonn wants.\n",
    "    result = np.concatenate(\n",
    "        map(one_hot_encode_seq, seqs)\n",
    "    ).reshape(\n",
    "        len(seqs), 1, 4, len(seqs[0])\n",
    "    )\n",
    "    \n",
    "    # Check we actually did the encoding right.\n",
    "    for i in range(len(seqs)):\n",
    "        for j in range(len(seqs[0])):\n",
    "            assert sum(result[i, 0, :, j]) == 1\n",
    "    \n",
    "    return result"
   ]
  },
  {
   "cell_type": "code",
   "execution_count": 9,
   "metadata": {
    "collapsed": false
   },
   "outputs": [],
   "source": [
    "X = seqs_to_encoded_matrix(key_to_seq.values())"
   ]
  },
  {
   "cell_type": "code",
   "execution_count": 10,
   "metadata": {
    "collapsed": false
   },
   "outputs": [],
   "source": [
    "# Just round to the median, to make this a classification task for now.\n",
    "K562_Rep1_median = np.median(key_to_normalized_K562_Rep1.values())\n",
    "K562_Rep1_y = np.array(\n",
    "    map(\n",
    "        lambda key: key_to_normalized_K562_Rep1[key] > K562_Rep1_median, \n",
    "        key_to_seq.keys()\n",
    "    )\n",
    ").reshape(-1, 1)\n",
    "\n",
    "K562_Rep2_median = np.median(key_to_normalized_K562_Rep2.values())\n",
    "K562_Rep2_y = np.array(\n",
    "    map(\n",
    "        lambda key: key_to_normalized_K562_Rep2[key] > K562_Rep2_median, \n",
    "        key_to_seq.keys()\n",
    "    )\n",
    ").reshape(-1, 1)\n",
    "\n",
    "y = np.hstack([K562_Rep1_y, K562_Rep2_y])"
   ]
  },
  {
   "cell_type": "code",
   "execution_count": 11,
   "metadata": {
    "collapsed": true
   },
   "outputs": [],
   "source": [
    "train_test_split?"
   ]
  },
  {
   "cell_type": "code",
   "execution_count": 12,
   "metadata": {
    "collapsed": true
   },
   "outputs": [],
   "source": [
    "X_train, X_valid, y_train, y_valid = train_test_split(\n",
    "    X, y, test_size=0.1, random_state=42\n",
    ")"
   ]
  },
  {
   "cell_type": "markdown",
   "metadata": {},
   "source": [
    "Start with the model used in the Dragonn tutorial. Train and plot the train and validation loss."
   ]
  },
  {
   "cell_type": "code",
   "execution_count": 13,
   "metadata": {
    "collapsed": false
   },
   "outputs": [],
   "source": [
    "model = models.SequenceDNN(\n",
    "    seq_length=X_train.shape[3],\n",
    "    num_filters=[100, 10],\n",
    "    conv_width=[10, 10],\n",
    "    num_tasks=y_train.shape[1]\n",
    ")"
   ]
  },
  {
   "cell_type": "code",
   "execution_count": 14,
   "metadata": {
    "collapsed": false
   },
   "outputs": [
    {
     "name": "stdout",
     "output_type": "stream",
     "text": [
      "Training model (* indicates new best result)...\n",
      "Epoch 1:\n",
      "Train Task 0: Loss: 0.6981\tBalanced Accuracy: 51.50%\t auROC: 0.540\t auPRC: 0.522\t auPRG: 0.076\n",
      "\tRecall at 5%|10%|20% FDR: 0.3%|0.3%|0.5%\t Num Positives: 1001\t Num Negatives: 1024\n",
      "Task 1: Loss: 0.6824\tBalanced Accuracy: 55.16%\t auROC: 0.589\t auPRC: 0.570\t auPRG: 0.158\n",
      "\tRecall at 5%|10%|20% FDR: 0.1%|0.1%|0.1%\t Num Positives: 1005\t Num Negatives: 1020\n",
      "Valid Task 0: Loss: 0.7182\tBalanced Accuracy: 52.51%\t auROC: 0.518\t auPRC: 0.559\t auPRG: -0.003\n",
      "\tRecall at 5%|10%|20% FDR: 0.0%|0.0%|0.0%\t Num Positives: 124\t Num Negatives: 101\n",
      "Task 1: Loss: 0.7088\tBalanced Accuracy: 54.40%\t auROC: 0.510\t auPRC: 0.556\t auPRG: -0.018\n",
      "\tRecall at 5%|10%|20% FDR: 1.7%|1.7%|1.7%\t Num Positives: 120\t Num Negatives: 105 *\n",
      "Epoch 2:\n",
      "Train Task 0: Loss: 0.6785\tBalanced Accuracy: 56.64%\t auROC: 0.601\t auPRC: 0.584\t auPRG: 0.199\n",
      "\tRecall at 5%|10%|20% FDR: 0.5%|0.5%|0.8%\t Num Positives: 1001\t Num Negatives: 1024\n",
      "Task 1: Loss: 0.6652\tBalanced Accuracy: 59.64%\t auROC: 0.649\t auPRC: 0.630\t auPRG: 0.287\n",
      "\tRecall at 5%|10%|20% FDR: 0.2%|0.2%|0.2%\t Num Positives: 1005\t Num Negatives: 1020\n",
      "Valid Task 0: Loss: 0.6948\tBalanced Accuracy: 57.91%\t auROC: 0.558\t auPRC: 0.606\t auPRG: 0.051\n",
      "\tRecall at 5%|10%|20% FDR: 0.8%|0.8%|0.8%\t Num Positives: 124\t Num Negatives: 101\n",
      "Task 1: Loss: 0.7046\tBalanced Accuracy: 50.48%\t auROC: 0.512\t auPRC: 0.541\t auPRG: 0.025\n",
      "\tRecall at 5%|10%|20% FDR: 0.8%|0.8%|0.8%\t Num Positives: 120\t Num Negatives: 105 *\n",
      "Epoch 3:\n",
      "Train Task 0: Loss: 0.6694\tBalanced Accuracy: 59.19%\t auROC: 0.631\t auPRC: 0.618\t auPRG: 0.252\n",
      "\tRecall at 5%|10%|20% FDR: 0.6%|0.6%|0.9%\t Num Positives: 1001\t Num Negatives: 1024\n",
      "Task 1: Loss: 0.6505\tBalanced Accuracy: 62.74%\t auROC: 0.687\t auPRC: 0.673\t auPRG: 0.362\n",
      "\tRecall at 5%|10%|20% FDR: 0.3%|1.6%|10.4%\t Num Positives: 1005\t Num Negatives: 1020\n",
      "Valid Task 0: Loss: 0.6862\tBalanced Accuracy: 56.54%\t auROC: 0.571\t auPRC: 0.623\t auPRG: 0.081\n",
      "\tRecall at 5%|10%|20% FDR: 1.6%|1.6%|1.6%\t Num Positives: 124\t Num Negatives: 101\n",
      "Task 1: Loss: 0.6968\tBalanced Accuracy: 52.62%\t auROC: 0.534\t auPRC: 0.545\t auPRG: 0.058\n",
      "\tRecall at 5%|10%|20% FDR: 0.0%|0.0%|0.0%\t Num Positives: 120\t Num Negatives: 105 *\n",
      "Epoch 4:\n",
      "Train Task 0: Loss: 0.6644\tBalanced Accuracy: 60.37%\t auROC: 0.656\t auPRC: 0.641\t auPRG: 0.295\n",
      "\tRecall at 5%|10%|20% FDR: 0.4%|1.3%|3.5%\t Num Positives: 1001\t Num Negatives: 1024\n",
      "Task 1: Loss: 0.6391\tBalanced Accuracy: 64.43%\t auROC: 0.716\t auPRC: 0.704\t auPRG: 0.423\n",
      "\tRecall at 5%|10%|20% FDR: 0.7%|1.2%|21.2%\t Num Positives: 1005\t Num Negatives: 1020\n",
      "Valid Task 0: Loss: 0.6782\tBalanced Accuracy: 54.66%\t auROC: 0.597\t auPRC: 0.637\t auPRG: 0.148\n",
      "\tRecall at 5%|10%|20% FDR: 0.8%|0.8%|0.8%\t Num Positives: 124\t Num Negatives: 101\n",
      "Task 1: Loss: 0.7010\tBalanced Accuracy: 53.10%\t auROC: 0.538\t auPRC: 0.555\t auPRG: 0.072\n",
      "\tRecall at 5%|10%|20% FDR: 0.0%|0.0%|0.0%\t Num Positives: 120\t Num Negatives: 105 *\n",
      "Epoch 5:\n",
      "Train Task 0: Loss: 0.6552\tBalanced Accuracy: 61.42%\t auROC: 0.673\t auPRC: 0.657\t auPRG: 0.332\n",
      "\tRecall at 5%|10%|20% FDR: 1.2%|2.2%|5.9%\t Num Positives: 1001\t Num Negatives: 1024\n",
      "Task 1: Loss: 0.6285\tBalanced Accuracy: 66.27%\t auROC: 0.735\t auPRC: 0.723\t auPRG: 0.472\n",
      "\tRecall at 5%|10%|20% FDR: 0.5%|3.1%|25.0%\t Num Positives: 1005\t Num Negatives: 1020\n",
      "Valid Task 0: Loss: 0.6801\tBalanced Accuracy: 58.02%\t auROC: 0.609\t auPRC: 0.650\t auPRG: 0.179\n",
      "\tRecall at 5%|10%|20% FDR: 1.6%|1.6%|1.6%\t Num Positives: 124\t Num Negatives: 101\n",
      "Task 1: Loss: 0.7065\tBalanced Accuracy: 52.98%\t auROC: 0.529\t auPRC: 0.553\t auPRG: 0.045\n",
      "\tRecall at 5%|10%|20% FDR: 0.0%|0.0%|0.0%\t Num Positives: 120\t Num Negatives: 105\n",
      "Epoch 6:\n",
      "Train Task 0: Loss: 0.6525\tBalanced Accuracy: 61.70%\t auROC: 0.688\t auPRC: 0.671\t auPRG: 0.366\n",
      "\tRecall at 5%|10%|20% FDR: 1.1%|3.0%|10.4%\t Num Positives: 1001\t Num Negatives: 1024\n",
      "Task 1: Loss: 0.6193\tBalanced Accuracy: 67.46%\t auROC: 0.748\t auPRC: 0.737\t auPRG: 0.496\n",
      "\tRecall at 5%|10%|20% FDR: 0.7%|5.9%|30.5%\t Num Positives: 1005\t Num Negatives: 1020\n",
      "Valid Task 0: Loss: 0.6922\tBalanced Accuracy: 57.71%\t auROC: 0.619\t auPRC: 0.657\t auPRG: 0.212\n",
      "\tRecall at 5%|10%|20% FDR: 0.8%|0.8%|0.8%\t Num Positives: 124\t Num Negatives: 101\n",
      "Task 1: Loss: 0.7141\tBalanced Accuracy: 52.62%\t auROC: 0.524\t auPRC: 0.550\t auPRG: 0.014\n",
      "\tRecall at 5%|10%|20% FDR: 0.0%|0.0%|0.0%\t Num Positives: 120\t Num Negatives: 105\n",
      "Epoch 7:\n",
      "Train Task 0: Loss: 0.6460\tBalanced Accuracy: 62.41%\t auROC: 0.702\t auPRC: 0.685\t auPRG: 0.399\n",
      "\tRecall at 5%|10%|20% FDR: 0.9%|5.8%|9.5%\t Num Positives: 1001\t Num Negatives: 1024\n",
      "Task 1: Loss: 0.6102\tBalanced Accuracy: 68.52%\t auROC: 0.763\t auPRC: 0.753\t auPRG: 0.527\n",
      "\tRecall at 5%|10%|20% FDR: 4.2%|14.3%|37.7%\t Num Positives: 1005\t Num Negatives: 1020\n",
      "Valid Task 0: Loss: 0.6915\tBalanced Accuracy: 57.03%\t auROC: 0.619\t auPRC: 0.660\t auPRG: 0.212\n",
      "\tRecall at 5%|10%|20% FDR: 3.2%|3.2%|4.0%\t Num Positives: 124\t Num Negatives: 101\n",
      "Task 1: Loss: 0.7148\tBalanced Accuracy: 54.17%\t auROC: 0.528\t auPRC: 0.549\t auPRG: 0.038\n",
      "\tRecall at 5%|10%|20% FDR: 0.0%|0.0%|0.0%\t Num Positives: 120\t Num Negatives: 105\n",
      "Epoch 8:\n",
      "Train Task 0: Loss: 0.6364\tBalanced Accuracy: 65.99%\t auROC: 0.716\t auPRC: 0.698\t auPRG: 0.436\n",
      "\tRecall at 5%|10%|20% FDR: 0.9%|4.1%|13.7%\t Num Positives: 1001\t Num Negatives: 1024\n",
      "Task 1: Loss: 0.6015\tBalanced Accuracy: 69.26%\t auROC: 0.775\t auPRC: 0.767\t auPRG: 0.551\n",
      "\tRecall at 5%|10%|20% FDR: 0.8%|21.9%|42.2%\t Num Positives: 1005\t Num Negatives: 1020\n",
      "Valid Task 0: Loss: 0.6800\tBalanced Accuracy: 60.59%\t auROC: 0.621\t auPRC: 0.657\t auPRG: 0.192\n",
      "\tRecall at 5%|10%|20% FDR: 2.4%|2.4%|2.4%\t Num Positives: 124\t Num Negatives: 101\n",
      "Task 1: Loss: 0.7181\tBalanced Accuracy: 55.48%\t auROC: 0.530\t auPRC: 0.551\t auPRG: 0.021\n",
      "\tRecall at 5%|10%|20% FDR: 0.0%|0.0%|0.0%\t Num Positives: 120\t Num Negatives: 105\n",
      "Epoch 9:\n",
      "Train Task 0: Loss: 0.6317\tBalanced Accuracy: 66.50%\t auROC: 0.726\t auPRC: 0.710\t auPRG: 0.458\n",
      "\tRecall at 5%|10%|20% FDR: 1.6%|5.9%|20.7%\t Num Positives: 1001\t Num Negatives: 1024\n",
      "Task 1: Loss: 0.5918\tBalanced Accuracy: 70.32%\t auROC: 0.787\t auPRC: 0.778\t auPRG: 0.579\n",
      "\tRecall at 5%|10%|20% FDR: 3.2%|24.7%|45.3%\t Num Positives: 1005\t Num Negatives: 1020\n",
      "Valid Task 0: Loss: 0.6799\tBalanced Accuracy: 62.35%\t auROC: 0.626\t auPRC: 0.666\t auPRG: 0.214\n",
      "\tRecall at 5%|10%|20% FDR: 3.2%|3.2%|3.2%\t Num Positives: 124\t Num Negatives: 101\n",
      "Task 1: Loss: 0.7178\tBalanced Accuracy: 55.77%\t auROC: 0.533\t auPRC: 0.557\t auPRG: 0.035\n",
      "\tRecall at 5%|10%|20% FDR: 0.0%|0.0%|0.0%\t Num Positives: 120\t Num Negatives: 105\n",
      "Epoch 10:\n",
      "Train Task 0: Loss: 0.6513\tBalanced Accuracy: 58.45%\t auROC: 0.739\t auPRC: 0.720\t auPRG: 0.485\n",
      "\tRecall at 5%|10%|20% FDR: 2.2%|5.7%|17.3%\t Num Positives: 1001\t Num Negatives: 1024\n",
      "Task 1: Loss: 0.6034\tBalanced Accuracy: 66.53%\t auROC: 0.797\t auPRC: 0.783\t auPRG: 0.602\n",
      "\tRecall at 5%|10%|20% FDR: 0.7%|17.3%|50.9%\t Num Positives: 1005\t Num Negatives: 1020\n",
      "Valid Task 0: Loss: 0.7310\tBalanced Accuracy: 55.22%\t auROC: 0.613\t auPRC: 0.652\t auPRG: 0.170\n",
      "\tRecall at 5%|10%|20% FDR: 1.6%|1.6%|1.6%\t Num Positives: 124\t Num Negatives: 101\n",
      "Task 1: Loss: 0.7521\tBalanced Accuracy: 53.63%\t auROC: 0.530\t auPRC: 0.552\t auPRG: 0.028\n",
      "\tRecall at 5%|10%|20% FDR: 0.0%|0.0%|0.0%\t Num Positives: 120\t Num Negatives: 105\n",
      "Finished training after 10 epochs.\n"
     ]
    }
   ],
   "source": [
    "model.train(X_train, y_train, (X_valid, y_valid))"
   ]
  },
  {
   "cell_type": "code",
   "execution_count": 15,
   "metadata": {
    "collapsed": false
   },
   "outputs": [],
   "source": [
    "def print_loss(model):\n",
    "    train_losses, valid_losses = [np.array([epoch_metrics['Loss'] for epoch_metrics in metrics])\n",
    "                                  for metrics in (model.train_metrics, model.valid_metrics)]\n",
    "\n",
    "    # Pretty sure early stopping works by taking the mean of losses, might want to double check\n",
    "    train_losses = train_losses.mean(axis=1)\n",
    "    valid_losses = valid_losses.mean(axis=1)\n",
    "\n",
    "    f = plt.figure(figsize=(10, 4))\n",
    "    ax = f.add_subplot(1, 1, 1)\n",
    "    \n",
    "    ax.plot(range(len(train_losses)), train_losses, label='Training',lw=4)\n",
    "    ax.plot(range(len(train_losses)), valid_losses, label='Validation', lw=4)\n",
    "    \n",
    "    min_loss_indx = min(enumerate(valid_losses), key=lambda x: x[1])[0]\n",
    "    ax.plot([min_loss_indx, min_loss_indx], [0, 1.0], 'k--', label='Early Stop')\n",
    "    ax.legend(loc=\"upper right\")\n",
    "    ax.set_ylabel(\"Loss\")\n",
    "    ax.set_ylim((0.0,1.0))\n",
    "    ax.set_xlabel(\"Epoch\")\n",
    "    plt.show()"
   ]
  },
  {
   "cell_type": "code",
   "execution_count": 16,
   "metadata": {
    "collapsed": false
   },
   "outputs": [
    {
     "data": {
      "image/png": "[encoded data removed]",
      "text/plain": [
       "<matplotlib.figure.Figure at 0x7f05e783fb90>"
      ]
     },
     "metadata": {},
     "output_type": "display_data"
    }
   ],
   "source": [
    "print_loss(model)"
   ]
  },
  {
   "cell_type": "markdown",
   "metadata": {},
   "source": [
    "Train and test on the multi-filter model used in the tutorial."
   ]
  },
  {
   "cell_type": "code",
   "execution_count": 17,
   "metadata": {
    "collapsed": false
   },
   "outputs": [],
   "source": [
    "multi_filter_model = models.SequenceDNN(\n",
    "    seq_length=X_train.shape[3],\n",
    "    num_filters=[15],\n",
    "    conv_width=[45],\n",
    "    pool_width=45,\n",
    "    dropout=0.1,\n",
    "    num_tasks=y_train.shape[1]\n",
    ")"
   ]
  },
  {
   "cell_type": "code",
   "execution_count": 18,
   "metadata": {
    "collapsed": false
   },
   "outputs": [
    {
     "name": "stdout",
     "output_type": "stream",
     "text": [
      "Training model (* indicates new best result)...\n",
      "Epoch 1:\n",
      "Train Task 0: Loss: 0.7164\tBalanced Accuracy: 50.44%\t auROC: 0.512\t auPRC: 0.505\t auPRG: 0.020\n",
      "\tRecall at 5%|10%|20% FDR: 0.1%|0.1%|0.1%\t Num Positives: 1001\t Num Negatives: 1024\n",
      "Task 1: Loss: 0.7070\tBalanced Accuracy: 53.59%\t auROC: 0.542\t auPRC: 0.522\t auPRG: 0.090\n",
      "\tRecall at 5%|10%|20% FDR: 0.1%|0.1%|0.1%\t Num Positives: 1005\t Num Negatives: 1020\n",
      "Valid Task 0: Loss: 0.7456\tBalanced Accuracy: 47.96%\t auROC: 0.482\t auPRC: 0.539\t auPRG: -0.018\n",
      "\tRecall at 5%|10%|20% FDR: 0.8%|0.8%|0.8%\t Num Positives: 124\t Num Negatives: 101\n",
      "Task 1: Loss: 0.7311\tBalanced Accuracy: 45.95%\t auROC: 0.468\t auPRC: 0.535\t auPRG: -0.101\n",
      "\tRecall at 5%|10%|20% FDR: 0.8%|0.8%|0.8%\t Num Positives: 120\t Num Negatives: 105 *\n",
      "Epoch 2:\n",
      "Train Task 0: Loss: 0.7013\tBalanced Accuracy: 52.50%\t auROC: 0.541\t auPRC: 0.532\t auPRG: 0.073\n",
      "\tRecall at 5%|10%|20% FDR: 0.6%|0.6%|0.6%\t Num Positives: 1001\t Num Negatives: 1024\n",
      "Task 1: Loss: 0.6989\tBalanced Accuracy: 55.41%\t auROC: 0.569\t auPRC: 0.545\t auPRG: 0.141\n",
      "\tRecall at 5%|10%|20% FDR: 0.1%|0.1%|0.1%\t Num Positives: 1005\t Num Negatives: 1020\n",
      "Valid Task 0: Loss: 0.7302\tBalanced Accuracy: 47.41%\t auROC: 0.497\t auPRC: 0.550\t auPRG: 0.022\n",
      "\tRecall at 5%|10%|20% FDR: 0.8%|0.8%|0.8%\t Num Positives: 124\t Num Negatives: 101\n",
      "Task 1: Loss: 0.7230\tBalanced Accuracy: 45.42%\t auROC: 0.475\t auPRC: 0.544\t auPRG: -0.097\n",
      "\tRecall at 5%|10%|20% FDR: 1.7%|1.7%|1.7%\t Num Positives: 120\t Num Negatives: 105 *\n",
      "Epoch 3:\n",
      "Train Task 0: Loss: 0.6917\tBalanced Accuracy: 54.80%\t auROC: 0.571\t auPRC: 0.557\t auPRG: 0.132\n",
      "\tRecall at 5%|10%|20% FDR: 0.5%|0.5%|0.7%\t Num Positives: 1001\t Num Negatives: 1024\n",
      "Task 1: Loss: 0.6849\tBalanced Accuracy: 57.61%\t auROC: 0.595\t auPRC: 0.570\t auPRG: 0.194\n",
      "\tRecall at 5%|10%|20% FDR: 0.1%|0.1%|0.1%\t Num Positives: 1005\t Num Negatives: 1020\n",
      "Valid Task 0: Loss: 0.7059\tBalanced Accuracy: 51.66%\t auROC: 0.507\t auPRC: 0.557\t auPRG: 0.045\n",
      "\tRecall at 5%|10%|20% FDR: 0.8%|0.8%|0.8%\t Num Positives: 124\t Num Negatives: 101\n",
      "Task 1: Loss: 0.7291\tBalanced Accuracy: 50.77%\t auROC: 0.485\t auPRC: 0.547\t auPRG: -0.087\n",
      "\tRecall at 5%|10%|20% FDR: 1.7%|1.7%|1.7%\t Num Positives: 120\t Num Negatives: 105 *\n",
      "Epoch 4:\n",
      "Train Task 0: Loss: 0.6785\tBalanced Accuracy: 56.62%\t auROC: 0.597\t auPRC: 0.581\t auPRG: 0.181\n",
      "\tRecall at 5%|10%|20% FDR: 0.4%|0.4%|0.8%\t Num Positives: 1001\t Num Negatives: 1024\n",
      "Task 1: Loss: 0.6738\tBalanced Accuracy: 58.87%\t auROC: 0.619\t auPRC: 0.595\t auPRG: 0.247\n",
      "\tRecall at 5%|10%|20% FDR: 0.2%|0.2%|1.3%\t Num Positives: 1005\t Num Negatives: 1020\n",
      "Valid Task 0: Loss: 0.7079\tBalanced Accuracy: 48.85%\t auROC: 0.515\t auPRC: 0.562\t auPRG: 0.063\n",
      "\tRecall at 5%|10%|20% FDR: 0.8%|0.8%|0.8%\t Num Positives: 124\t Num Negatives: 101\n",
      "Task 1: Loss: 0.7155\tBalanced Accuracy: 48.51%\t auROC: 0.500\t auPRC: 0.556\t auPRG: -0.056\n",
      "\tRecall at 5%|10%|20% FDR: 1.7%|1.7%|1.7%\t Num Positives: 120\t Num Negatives: 105 *\n",
      "Epoch 5:\n",
      "Train Task 0: Loss: 0.6702\tBalanced Accuracy: 57.83%\t auROC: 0.619\t auPRC: 0.603\t auPRG: 0.219\n",
      "\tRecall at 5%|10%|20% FDR: 0.4%|0.4%|0.9%\t Num Positives: 1001\t Num Negatives: 1024\n",
      "Task 1: Loss: 0.6634\tBalanced Accuracy: 60.67%\t auROC: 0.641\t auPRC: 0.616\t auPRG: 0.288\n",
      "\tRecall at 5%|10%|20% FDR: 0.2%|1.3%|1.3%\t Num Positives: 1005\t Num Negatives: 1020\n",
      "Valid Task 0: Loss: 0.7064\tBalanced Accuracy: 49.62%\t auROC: 0.523\t auPRC: 0.570\t auPRG: 0.073\n",
      "\tRecall at 5%|10%|20% FDR: 0.8%|0.8%|4.0%\t Num Positives: 124\t Num Negatives: 101\n",
      "Task 1: Loss: 0.7177\tBalanced Accuracy: 51.13%\t auROC: 0.511\t auPRC: 0.560\t auPRG: -0.033\n",
      "\tRecall at 5%|10%|20% FDR: 0.8%|0.8%|0.8%\t Num Positives: 120\t Num Negatives: 105\n",
      "Epoch 6:\n",
      "Train Task 0: Loss: 0.6630\tBalanced Accuracy: 58.67%\t auROC: 0.637\t auPRC: 0.621\t auPRG: 0.259\n",
      "\tRecall at 5%|10%|20% FDR: 0.5%|0.5%|1.3%\t Num Positives: 1001\t Num Negatives: 1024\n",
      "Task 1: Loss: 0.6548\tBalanced Accuracy: 61.38%\t auROC: 0.660\t auPRC: 0.636\t auPRG: 0.321\n",
      "\tRecall at 5%|10%|20% FDR: 0.2%|1.3%|1.7%\t Num Positives: 1005\t Num Negatives: 1020\n",
      "Valid Task 0: Loss: 0.7060\tBalanced Accuracy: 50.12%\t auROC: 0.528\t auPRC: 0.576\t auPRG: 0.081\n",
      "\tRecall at 5%|10%|20% FDR: 0.8%|0.8%|5.6%\t Num Positives: 124\t Num Negatives: 101\n",
      "Task 1: Loss: 0.7131\tBalanced Accuracy: 52.74%\t auROC: 0.522\t auPRC: 0.566\t auPRG: -0.012\n",
      "\tRecall at 5%|10%|20% FDR: 0.8%|0.8%|0.8%\t Num Positives: 120\t Num Negatives: 105 *\n",
      "Epoch 7:\n",
      "Train Task 0: Loss: 0.6571\tBalanced Accuracy: 60.24%\t auROC: 0.653\t auPRC: 0.637\t auPRG: 0.293\n",
      "\tRecall at 5%|10%|20% FDR: 0.5%|0.5%|2.6%\t Num Positives: 1001\t Num Negatives: 1024\n",
      "Task 1: Loss: 0.6478\tBalanced Accuracy: 62.60%\t auROC: 0.676\t auPRC: 0.653\t auPRG: 0.352\n",
      "\tRecall at 5%|10%|20% FDR: 0.2%|0.2%|1.9%\t Num Positives: 1005\t Num Negatives: 1020\n",
      "Valid Task 0: Loss: 0.7027\tBalanced Accuracy: 49.66%\t auROC: 0.531\t auPRC: 0.579\t auPRG: 0.081\n",
      "\tRecall at 5%|10%|20% FDR: 0.8%|0.8%|5.6%\t Num Positives: 124\t Num Negatives: 101\n",
      "Task 1: Loss: 0.7095\tBalanced Accuracy: 51.90%\t auROC: 0.528\t auPRC: 0.563\t auPRG: 0.001\n",
      "\tRecall at 5%|10%|20% FDR: 0.0%|0.0%|0.0%\t Num Positives: 120\t Num Negatives: 105 *\n",
      "Epoch 8:\n",
      "Train Task 0: Loss: 0.6534\tBalanced Accuracy: 61.12%\t auROC: 0.667\t auPRC: 0.652\t auPRG: 0.325\n",
      "\tRecall at 5%|10%|20% FDR: 0.5%|0.5%|5.8%\t Num Positives: 1001\t Num Negatives: 1024\n",
      "Task 1: Loss: 0.6416\tBalanced Accuracy: 63.30%\t auROC: 0.690\t auPRC: 0.668\t auPRG: 0.379\n",
      "\tRecall at 5%|10%|20% FDR: 0.4%|0.4%|2.7%\t Num Positives: 1005\t Num Negatives: 1020\n",
      "Valid Task 0: Loss: 0.6989\tBalanced Accuracy: 50.63%\t auROC: 0.532\t auPRC: 0.581\t auPRG: 0.065\n",
      "\tRecall at 5%|10%|20% FDR: 0.8%|0.8%|5.6%\t Num Positives: 124\t Num Negatives: 101\n",
      "Task 1: Loss: 0.7087\tBalanced Accuracy: 52.74%\t auROC: 0.534\t auPRC: 0.566\t auPRG: 0.011\n",
      "\tRecall at 5%|10%|20% FDR: 0.0%|0.0%|0.0%\t Num Positives: 120\t Num Negatives: 105 *\n",
      "Epoch 9:\n",
      "Train Task 0: Loss: 0.6457\tBalanced Accuracy: 62.68%\t auROC: 0.679\t auPRC: 0.664\t auPRG: 0.352\n",
      "\tRecall at 5%|10%|20% FDR: 0.5%|0.5%|5.9%\t Num Positives: 1001\t Num Negatives: 1024\n",
      "Task 1: Loss: 0.6344\tBalanced Accuracy: 65.13%\t auROC: 0.703\t auPRC: 0.681\t auPRG: 0.406\n",
      "\tRecall at 5%|10%|20% FDR: 0.5%|0.5%|5.2%\t Num Positives: 1005\t Num Negatives: 1020\n",
      "Valid Task 0: Loss: 0.7072\tBalanced Accuracy: 51.88%\t auROC: 0.533\t auPRC: 0.581\t auPRG: 0.065\n",
      "\tRecall at 5%|10%|20% FDR: 0.8%|0.8%|5.6%\t Num Positives: 124\t Num Negatives: 101\n",
      "Task 1: Loss: 0.7110\tBalanced Accuracy: 56.25%\t auROC: 0.538\t auPRC: 0.569\t auPRG: 0.021\n",
      "\tRecall at 5%|10%|20% FDR: 0.0%|0.0%|0.0%\t Num Positives: 120\t Num Negatives: 105\n",
      "Epoch 10:\n",
      "Train Task 0: Loss: 0.6410\tBalanced Accuracy: 63.44%\t auROC: 0.690\t auPRC: 0.676\t auPRG: 0.375\n",
      "\tRecall at 5%|10%|20% FDR: 0.5%|0.5%|7.5%\t Num Positives: 1001\t Num Negatives: 1024\n",
      "Task 1: Loss: 0.6287\tBalanced Accuracy: 65.80%\t auROC: 0.714\t auPRC: 0.694\t auPRG: 0.433\n",
      "\tRecall at 5%|10%|20% FDR: 0.6%|0.6%|10.0%\t Num Positives: 1005\t Num Negatives: 1020\n",
      "Valid Task 0: Loss: 0.7025\tBalanced Accuracy: 52.94%\t auROC: 0.535\t auPRC: 0.583\t auPRG: 0.075\n",
      "\tRecall at 5%|10%|20% FDR: 0.8%|0.8%|6.5%\t Num Positives: 124\t Num Negatives: 101\n",
      "Task 1: Loss: 0.7083\tBalanced Accuracy: 55.54%\t auROC: 0.543\t auPRC: 0.571\t auPRG: 0.036\n",
      "\tRecall at 5%|10%|20% FDR: 0.0%|0.0%|0.0%\t Num Positives: 120\t Num Negatives: 105\n",
      "Epoch 11:\n",
      "Train Task 0: Loss: 0.6359\tBalanced Accuracy: 64.95%\t auROC: 0.701\t auPRC: 0.688\t auPRG: 0.397\n",
      "\tRecall at 5%|10%|20% FDR: 0.5%|0.5%|12.4%\t Num Positives: 1001\t Num Negatives: 1024\n",
      "Task 1: Loss: 0.6231\tBalanced Accuracy: 66.75%\t auROC: 0.725\t auPRC: 0.705\t auPRG: 0.456\n",
      "\tRecall at 5%|10%|20% FDR: 0.6%|0.9%|13.7%\t Num Positives: 1005\t Num Negatives: 1020\n",
      "Valid Task 0: Loss: 0.7028\tBalanced Accuracy: 53.80%\t auROC: 0.542\t auPRC: 0.593\t auPRG: 0.082\n",
      "\tRecall at 5%|10%|20% FDR: 2.4%|2.4%|4.8%\t Num Positives: 124\t Num Negatives: 101\n",
      "Task 1: Loss: 0.7110\tBalanced Accuracy: 57.62%\t auROC: 0.545\t auPRC: 0.571\t auPRG: 0.047\n",
      "\tRecall at 5%|10%|20% FDR: 0.0%|0.0%|0.0%\t Num Positives: 120\t Num Negatives: 105\n",
      "Epoch 12:\n",
      "Train Task 0: Loss: 0.6317\tBalanced Accuracy: 65.54%\t auROC: 0.710\t auPRC: 0.698\t auPRG: 0.418\n",
      "\tRecall at 5%|10%|20% FDR: 0.7%|2.3%|14.7%\t Num Positives: 1001\t Num Negatives: 1024\n",
      "Task 1: Loss: 0.6191\tBalanced Accuracy: 67.00%\t auROC: 0.734\t auPRC: 0.715\t auPRG: 0.477\n",
      "\tRecall at 5%|10%|20% FDR: 0.7%|2.7%|24.8%\t Num Positives: 1005\t Num Negatives: 1020\n",
      "Valid Task 0: Loss: 0.7018\tBalanced Accuracy: 54.21%\t auROC: 0.544\t auPRC: 0.591\t auPRG: 0.088\n",
      "\tRecall at 5%|10%|20% FDR: 1.6%|1.6%|4.0%\t Num Positives: 124\t Num Negatives: 101\n",
      "Task 1: Loss: 0.7074\tBalanced Accuracy: 53.57%\t auROC: 0.546\t auPRC: 0.572\t auPRG: 0.048\n",
      "\tRecall at 5%|10%|20% FDR: 0.0%|0.0%|0.0%\t Num Positives: 120\t Num Negatives: 105\n",
      "Epoch 13:\n",
      "Train Task 0: Loss: 0.6282\tBalanced Accuracy: 65.98%\t auROC: 0.719\t auPRC: 0.708\t auPRG: 0.438\n",
      "\tRecall at 5%|10%|20% FDR: 0.8%|4.6%|16.9%\t Num Positives: 1001\t Num Negatives: 1024\n",
      "Task 1: Loss: 0.6133\tBalanced Accuracy: 67.95%\t auROC: 0.743\t auPRC: 0.726\t auPRG: 0.498\n",
      "\tRecall at 5%|10%|20% FDR: 0.7%|3.3%|26.6%\t Num Positives: 1005\t Num Negatives: 1020\n",
      "Valid Task 0: Loss: 0.6989\tBalanced Accuracy: 54.15%\t auROC: 0.546\t auPRC: 0.590\t auPRG: 0.095\n",
      "\tRecall at 5%|10%|20% FDR: 1.6%|1.6%|3.2%\t Num Positives: 124\t Num Negatives: 101\n",
      "Task 1: Loss: 0.7093\tBalanced Accuracy: 57.98%\t auROC: 0.549\t auPRC: 0.576\t auPRG: 0.058\n",
      "\tRecall at 5%|10%|20% FDR: 0.0%|0.0%|0.0%\t Num Positives: 120\t Num Negatives: 105\n",
      "Epoch 14:\n",
      "Train Task 0: Loss: 0.6234\tBalanced Accuracy: 66.38%\t auROC: 0.727\t auPRC: 0.717\t auPRG: 0.457\n",
      "\tRecall at 5%|10%|20% FDR: 1.0%|5.1%|27.9%\t Num Positives: 1001\t Num Negatives: 1024\n",
      "Task 1: Loss: 0.6088\tBalanced Accuracy: 69.40%\t auROC: 0.752\t auPRC: 0.735\t auPRG: 0.516\n",
      "\tRecall at 5%|10%|20% FDR: 0.8%|3.2%|33.7%\t Num Positives: 1005\t Num Negatives: 1020\n",
      "Valid Task 0: Loss: 0.7054\tBalanced Accuracy: 51.07%\t auROC: 0.549\t auPRC: 0.591\t auPRG: 0.098\n",
      "\tRecall at 5%|10%|20% FDR: 1.6%|1.6%|3.2%\t Num Positives: 124\t Num Negatives: 101\n",
      "Task 1: Loss: 0.7129\tBalanced Accuracy: 56.43%\t auROC: 0.552\t auPRC: 0.579\t auPRG: 0.067\n",
      "\tRecall at 5%|10%|20% FDR: 0.0%|0.0%|0.0%\t Num Positives: 120\t Num Negatives: 105\n",
      "Finished training after 14 epochs.\n"
     ]
    }
   ],
   "source": [
    "multi_filter_model.train(X_train, y_train, (X_valid, y_valid))"
   ]
  },
  {
   "cell_type": "code",
   "execution_count": 19,
   "metadata": {
    "collapsed": false
   },
   "outputs": [
    {
     "data": {
      "image/png": "[encoded data removed]",
      "text/plain": [
       "<matplotlib.figure.Figure at 0x7f05e783fd10>"
      ]
     },
     "metadata": {},
     "output_type": "display_data"
    }
   ],
   "source": [
    "print_loss(multi_filter_model)"
   ]
  },
  {
   "cell_type": "code",
   "execution_count": null,
   "metadata": {
    "collapsed": true
   },
   "outputs": [],
   "source": []
  }
 ],
 "metadata": {
  "kernelspec": {
   "display_name": "Python [conda root]",
   "language": "python",
   "name": "conda-root-py"
  },
  "language_info": {
   "codemirror_mode": {
    "name": "ipython",
    "version": 2
   },
   "file_extension": ".py",
   "mimetype": "text/x-python",
   "name": "python",
   "nbconvert_exporter": "python",
   "pygments_lexer": "ipython2",
   "version": "2.7.12"
  }
 },
 "nbformat": 4,
 "nbformat_minor": 0
}
