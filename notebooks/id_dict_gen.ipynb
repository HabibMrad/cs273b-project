{
 "cells": [
  {
   "cell_type": "code",
   "execution_count": 65,
   "metadata": {
    "collapsed": false
   },
   "outputs": [],
   "source": [
    "from collections import *\n",
    "import math\n",
    "import numpy as np\n",
    "from subprocess import Popen, PIPE\n",
    "\n",
    "letterindex = {'A': 0, 'a': 0, 'T': 1, 't': 1, 'C': 2, 'c': 2, 'G': 3, 'g': 3, 'N': -1, 'n': -1}\n",
    "\n",
    "def bases(chrom, start, end):\n",
    "    seq_count = int(math.ceil((float(end - start) / 60.0)))\n",
    "    sum_seq = \"\"\n",
    "    for i in xrange(seq_count - 1):\n",
    "        p = Popen(['samtools', 'faidx', '../Genome/hg19.fa', 'chr' + str(chrom) + ':' + str(start + 1 + i * 60) + '-' + str(start + 1 + (i + 1) * 60)], stdin=PIPE, stdout=PIPE, stderr=PIPE)\n",
    "        output, err = p.communicate()\n",
    "        sum_seq = sum_seq + output.split('\\n')[1]\n",
    "    p = Popen(['samtools', 'faidx', '../Genome/hg19.fa', 'chr' + str(chrom) + ':' + str(start + 1 + (seq_count - 1) * 60) + '-' + str(end)], stdin=PIPE, stdout=PIPE, stderr=PIPE)\n",
    "    output, err = p.communicate()\n",
    "    sum_seq = sum_seq + output.split('\\n')[1]\n",
    "    return sum_seq"
   ]
  },
  {
   "cell_type": "code",
   "execution_count": 69,
   "metadata": {
    "collapsed": false
   },
   "outputs": [],
   "source": [
    "cell_types =  ['HepG2', 'K562']\n",
    "promoters = ['SV40P', 'minP']\n",
    "design_names = ['ScaleUpDesign1', 'ScaleUpDesign2']\n",
    "\n",
    "coords_to_base = {}\n",
    "id_to_seq = {}\n",
    "\n",
    "no_0 = ['Hepg2_5_511_chr20_32276995', 'H1hesc_1_112_chr17_38804455', 'Hepg2_5_1164_chr3_129209275', 'H1hesc_5_471_chr16_17930955', 'Hepg2_5_346_chr17_9588755']\n",
    "no_1 = ['K562_9_33_chr8_68983455', 'K562_12_4_chr16_9127475', 'H1hesc_5_942_chr18_47655295', 'Huvec_8_469_chr15_57633055']\n",
    "no_30 = ['Huvec_8_284_chr2_191917035', 'Hepg2_12_0_chr3_169480875', 'Hepg2_5_102_chr4_100065535', 'H1hesc_8_474_chr9_96764975', 'Hepg2_4_10_chr16_81478415']\n",
    "all_bad = no_0 + no_1 + no_30\n",
    "\n",
    "for design in design_names:\n",
    "    with open(\"../data/Scaleup_counts_sequences/\" + design + \".sequences.txt\") as f:\n",
    "        current = \"H1hesc_1_100_chr7_11013415\"\n",
    "        counter = []\n",
    "        for line in f:\n",
    "            params = line.strip().split()\n",
    "            params_parse = params[0].split('_')\n",
    "            line_id = '_'.join(params_parse[0:3] + params_parse[4:])\n",
    "            current_count = params_parse[3]\n",
    "            if current_count == '0':\n",
    "                id_to_seq[line_id] = params[1]\n",
    "            elif current_count == '1':\n",
    "                if line_id in id_to_seq:\n",
    "                    id_to_seq[line_id] = id_to_seq[line_id] + params[1][-5:]\n",
    "            elif current_count == '29':\n",
    "                if line_id in no_1:\n",
    "                    if line_id in id_to_seq:\n",
    "                        id_to_seq[line_id] = id_to_seq[line_id] + params[1][:5]\n",
    "            elif current_count == '30':\n",
    "                if line_id in id_to_seq:\n",
    "                    id_to_seq[line_id] = id_to_seq[line_id] + params[1]\n",
    "            if line_id != current:\n",
    "                current = line_id\n",
    "\n",
    "id_to_seq[\"Hepg2_5_511_chr20_32276995\"] = 'GTACCTATTAATACCTACTTGAAAGCAGAAAAGCCTGATAGATGAGGCCCCTTGGCCCTAAGCCTGGCAGCTCCTGATAAGGCTGTTCTCAATGTCAACAGTTTTCAAAAAACAGTTTCCAAAAAATCCAcagtcactgggcagccacttccattgatgatctcctttcaaccccataatcccgtaagtaagcttgtttatccacatggtgcaggaaggaagaggctcagagaggggcattcatagctcaaggtcacacagcagaactgagatgagaacttcacttgtcccactg'.upper()\n",
    "id_to_seq[\"H1hesc_1_112_chr17_38804455\"] = 'GCCGAGGAGGCCCGACCTAACACAGAATAGGCCTGGGTTTAGCGGCTGTGAGGAGCCGGAGCCGCCGCAGCGACCGAGGAAGTGGCGGGAGGTGCCGAGCCTTGCGGAGGGGCGGTGGGGGCCGCGGTGGGAGACGGCGGATGGCGCTCAGCGCGAGGCCGCGGAACCACTGTGGCAGCAAGCAGTTCGGCCAGACTCCCGCTGAGCCCGCTCCTGGAGGGGCCCTCCCCGACTCCGGTCTTGCTTTCCTTTAGGCTGTGGGTCAGAGTCTACACTTCACTAAACCTGGGATGGA'.upper()\n",
    "id_to_seq[\"Hepg2_5_1164_chr3_129209275\"] = 'GTACCCCACCTCTTTACTCTGTGCCAGGCACTCAGGCTCACCAGCTTGGATATAGTGGTTCCTAGAGATGGACAGCCATCCCCACTAGATGGCAGAGAAGAGCTGCTGAGCTCCCGCCAGACCCTGAGCAGAGCTGCAGGTTCCTCCCTATTCCCAGGCTTCCCTCTGCTGAGCTCATTCAGGGGCCTTGTGACTCTGACCAGGCACCCTGACGCTGCAAAATGTGTCAGGTTGAAGGAACTCGGAAACAGATTTATTAATGGGCAAATCCTAGACACTAGCACAGCTGAGCTAC'.upper()\n",
    "id_to_seq[\"H1hesc_5_471_chr16_17930955\"] = 'agtaccgcccaatcaattgtgagtagaagtcttccgtgtcacttctggctaatgcgttcatgagccactgcaagaccctccaacagtcccttttgttgtggcagcaacctggaagccatgtgatcaaagcagcttacatttctgagtcatcacctaaaagacggtcctatagagttgcctaaccagctttggaatttgcgtgagtgatacgtaagcctttgtcatgctaaaccactaacatttctgggttagtctgttcttacagcacagcctagattaccctgattaaACGCAT'.upper()\n",
    "id_to_seq[\"Hepg2_5_346_chr17_9588755\"] = 'GTACCCACGGCAGAGTTAGGGCCCATAGGCGCAGGCTCACCCAGCATTCTGTACACCATGAGCTCACTGCTGTGCGCTTACTATGTTGGGACATGGATACCATCCCAGTGATGAGAATATTCTCGATACCCCAACCAAAGTTGTGTCATCTGGATTTATGTCTCTGCCTTGCCTTCCCCTGGCTCCAAGCTTGTCTTACTCTATTCCCTGCTGTGAGTAAGAGATTTTGCCAGCTAGCTGGTCATTTTGAGTAATCTGTTTACACAGCAGCATCTACCTGGCTTTGTGTCACTGG'.upper()\n",
    "\n",
    "id_to_seq[\"Huvec_8_284_chr2_191917035\"] = 'TTCCTCACTCTTTCCTAACCTTTGTGTGATCATCCCTACTGAATGGCCAAGCCCCTGATTCCCGGTTTATCTTCCTTCATGTACTTCATGACTAGTCAACTGTTACTGCTGCACACAAGACACGGTTCAATCTGTGGTTTGTTTTTAAATGTACCTAGGAGTCATACTAAAATTCTGCCAACAGGTGGAGCTCAAAGAATAGCTTAAAATAAAATTAACCCGATTCGGCAAACCTGGAAAAAAAGGGAAGAAATAAAATCATTCTGATACGACTGTATGATTTTGCTATTCATCA'.upper()\n",
    "id_to_seq[\"Hepg2_12_0_chr3_169480875\"] = 'CTAGAAAACAACTATGGACTTATTTTTAAATTGAATGTATTAAATCACTGTTTTCTTTTTAAAAATGAAAGAAAAACATTCCCAGTCTGTGGCCATTCTTGCTTCACGGCCCTGCACCACCACAAATGTTGTAAATGTGGAGAAGCAAAAGTACCACTAGATGGAGTAAGAACAAAAGACATGCACTTGTCTGTAGTTCAAGGAGTCCCCGCCCTTGCAAAAGGGATCTTAGTCCCCgcacggtggctcacgcctgtaatcccagcactttgggaggcagaagcgggcggatcac'.upper()\n",
    "id_to_seq[\"Hepg2_5_102_chr4_100065535\"] = 'TGTGTTGGAAGTTTCTTTCTGAGTTAAGAAAGCTTCAAACTCCTACCCAGGGAGTTCCGTGTCCTATAATGAGCTGTCTTTGAATAAATACCATTCATGTTGCTTAATTCTCCAATCACTTCCTTTTCTCCTTTGTTGCTGTAATTCACAGCCCTGCCGGCCTCTTACCACATCATTTGTACTATTGGACTTCAGCTGCAAACCTCATTGCTCCCAGTGAGCTCCAAGattttttaaattcttttttcttttattgaaaaatataaaataataGAGAAAAGCCCATTAAACATAT'.upper()\n",
    "id_to_seq[\"H1hesc_8_474_chr9_96764975\"] = 'gaggactgaagcaaagtggcctctaggcttgacccaaggcagcacggttggcaagggacgacagactctgggtgcatggctggggtgcagtgccactgggtgtaactagaggaagtgcaaaagcaagaaaaggcagaacgcagcacaggagtaccaagaagagcccccttcttattgcaatgtttctctagcgccctctgctgacaatgcttaacattttgctcactgtaaaagggaaatccaggccactaatatggaaaaggtactcttagagcaaatccacagctatgaggca'.upper()\n",
    "id_to_seq[\"Hepg2_4_10_chr16_81478415\"] = 'CGCCCGCGAGAGGCCGAAGCCGCCGCGGCCGCCGCCGTTGCCGCCATTGACGTCAGAGGGGCGGGCACATGACCCTGCGGGGACCAATcgcgcgggcgccccgggctccgggagcccggcgcgcggcccgccccgcccgcggccACTCTCGCCCGGACGGCCGCGCGGACACACGCTCTGTACACAcgcgcgcggcggcgcggggccccgAGACACGcccgcccccaccccgccgcccccaccccggcgcccgccctccgcgcctggccccggcccgccctcggcctcccccgcc'.upper()\n",
    "\n",
    "for design in design_names:\n",
    "    with open(\"../data/Scaleup_counts_sequences/coords_\" + design + \"_hg19.txt\") as f:\n",
    "        for line in f:\n",
    "            params = line.strip().split()\n",
    "            id_to_seq[params[0]] = (id_to_seq[params[0]], (params[1][3:], int(params[2]), int(params[3])))"
   ]
  },
  {
   "cell_type": "code",
   "execution_count": 6,
   "metadata": {
    "collapsed": false
   },
   "outputs": [
    {
     "data": {
      "text/plain": [
       "[('HepG2', 'minP'), ('K562', 'minP'), ('HepG2', 'SV40P'), ('K562', 'SV40P')]"
      ]
     },
     "execution_count": 6,
     "metadata": {},
     "output_type": "execute_result"
    }
   ],
   "source": [
    "from mrpa_data import MrpaData\n",
    "\n",
    "seq_dict = MrpaData().split_data"
   ]
  },
  {
   "cell_type": "code",
   "execution_count": 70,
   "metadata": {
    "collapsed": false
   },
   "outputs": [
    {
     "data": {
      "text/plain": [
       "('CGGAGCGAAGTGTTGCCCCTTAGGGCCGAGAGCGGCGTGGTGAATCGATGGGGACAGTGCCGCGGCCACCTGTCCGCACCCAGCCATCAGTCACCCCAGGACCCAAACCGGAGCAAGCCTGGAGGACCGCTGACCCCAAAGCCCAAGACTAGGAAAACGGTAGTACGGACTTCCAACCCAGGCTCGGGGGCTCTGTTATCCCTGCCCTAAGTGGGGAGAATTGAGTCTGACCTCAGGTGGGCTGGCACCGCAAAGCACGCTGAGAGGCGCCTCTTTTATCTGAGCCTGGGTGGCT',\n",
       " ('4', 170192768, 170193063))"
      ]
     },
     "execution_count": 70,
     "metadata": {},
     "output_type": "execute_result"
    }
   ],
   "source": [
    "id_to_seq[\"H1hesc_1_59_chr4_170192915\"]"
   ]
  },
  {
   "cell_type": "code",
   "execution_count": 78,
   "metadata": {
    "collapsed": false
   },
   "outputs": [],
   "source": [
    "import json\n",
    "with open(\"id_dict.txt\", 'w') as f:\n",
    "    f.write(json.dumps(id_to_seq))"
   ]
  },
  {
   "cell_type": "code",
   "execution_count": null,
   "metadata": {
    "collapsed": true
   },
   "outputs": [],
   "source": []
  }
 ],
 "metadata": {
  "anaconda-cloud": {},
  "kernelspec": {
   "display_name": "Python [conda env:regression_dragonn_new]",
   "language": "python",
   "name": "conda-env-regression_dragonn_new-py"
  },
  "language_info": {
   "codemirror_mode": {
    "name": "ipython",
    "version": 2
   },
   "file_extension": ".py",
   "mimetype": "text/x-python",
   "name": "python",
   "nbconvert_exporter": "python",
   "pygments_lexer": "ipython2",
   "version": "2.7.12"
  }
 },
 "nbformat": 4,
 "nbformat_minor": 1
}
