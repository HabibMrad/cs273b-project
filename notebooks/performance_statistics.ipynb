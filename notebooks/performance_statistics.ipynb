{
 "cells": [
  {
   "cell_type": "markdown",
   "metadata": {},
   "source": [
    "**Validation Metrics**\n",
    "\n",
    "This notebook accepts a trained model and outputs statistics of its performance.\n",
    "\n",
    "* Performance on training, validation, and test set\n",
    "* Plot our predictions versus assay output\n",
    "* Overlap with conservation scores\n",
    "* Overlap with CENTIPEDE motifs\n",
    "* Scatter plot of our importance scores versus SHARPR scores\n",
    "* ... Things I missed :)\n",
    "\n",
    "**General Strategy for Importance Scores**\n",
    "\n",
    "Let's try to get all types of importance scores into  nested dictionaries of the following spec:\n",
    "\n",
    "(promoter, cell_type) -> chromosome -> position -> score\n"
   ]
  },
  {
   "cell_type": "code",
   "execution_count": 5,
   "metadata": {
    "collapsed": false
   },
   "outputs": [],
   "source": [
    "import numpy as np\n",
    "import matplotlib.pyplot as plt\n",
    "%matplotlib inline"
   ]
  },
  {
   "cell_type": "markdown",
   "metadata": {},
   "source": [
    "# Load in Experimental Data and SHARPR Predictions"
   ]
  },
  {
   "cell_type": "code",
   "execution_count": 6,
   "metadata": {
    "collapsed": true
   },
   "outputs": [],
   "source": [
    "# This loads in the experimental data\n",
    "from mrpa_data import MrpaData\n",
    "data = MrpaData()"
   ]
  },
  {
   "cell_type": "code",
   "execution_count": 37,
   "metadata": {
    "collapsed": false
   },
   "outputs": [],
   "source": [
    "# Loads in SHARPR activity scores\n",
    "sharpr = {}\n",
    "for promoter in data.promoters:\n",
    "    for cell_type in data.cell_types:\n",
    "        experiment_key = (promoter, cell_type)\n",
    "        sharpr[experiment_key] = {}\n",
    "        with open(\"../data/sharpr_scores/wig/{}_{}.wig\".format(promoter, cell_type)) as wig:\n",
    "            for line in wig:\n",
    "                if line[0] == '#': continue\n",
    "                chrom, start, end, score = line.strip().split()\n",
    "                start, end = int(start), int(end)\n",
    "                score = float(score)\n",
    "                if end - start > 1: continue\n",
    "                if chrom not in sharpr[experiment_key]: sharpr[experiment_key][chrom] = {}\n",
    "                for pos in range(start, end):\n",
    "                    assert pos not in sharpr[experiment_key][chrom]\n",
    "                    sharpr[experiment_key][chrom][pos] = score"
   ]
  },
  {
   "cell_type": "markdown",
   "metadata": {},
   "source": [
    "# Make Predictions from trained model"
   ]
  },
  {
   "cell_type": "code",
   "execution_count": 39,
   "metadata": {
    "collapsed": false
   },
   "outputs": [
    {
     "ename": "NameError",
     "evalue": "name 'model' is not defined",
     "output_type": "error",
     "traceback": [
      "\u001b[0;31m---------------------------------------------------------------------------\u001b[0m",
      "\u001b[0;31mNameError\u001b[0m                                 Traceback (most recent call last)",
      "\u001b[0;32m<ipython-input-39-2371120f6809>\u001b[0m in \u001b[0;36m<module>\u001b[0;34m()\u001b[0m\n\u001b[1;32m      3\u001b[0m \u001b[0mactivity\u001b[0m \u001b[0;34m=\u001b[0m \u001b[0;34m{\u001b[0m\u001b[0;34m}\u001b[0m    \u001b[0;31m# experiment -> chrom -> pos -> deeplift / ism score\u001b[0m\u001b[0;34m\u001b[0m\u001b[0m\n\u001b[1;32m      4\u001b[0m \u001b[0;34m\u001b[0m\u001b[0m\n\u001b[0;32m----> 5\u001b[0;31m \u001b[0mmodel\u001b[0m \u001b[0;34m=\u001b[0m \u001b[0mmodel\u001b[0m\u001b[0;34m(\u001b[0m\u001b[0;34m)\u001b[0m\u001b[0;34m\u001b[0m\u001b[0m\n\u001b[0m\u001b[1;32m      6\u001b[0m \u001b[0;32mfor\u001b[0m \u001b[0mposition\u001b[0m \u001b[0;32min\u001b[0m \u001b[0mpositions\u001b[0m\u001b[0;34m:\u001b[0m\u001b[0;34m\u001b[0m\u001b[0m\n\u001b[1;32m      7\u001b[0m     \u001b[0mseq\u001b[0m \u001b[0;34m=\u001b[0m \u001b[0mget_seq\u001b[0m\u001b[0;34m(\u001b[0m\u001b[0;34m*\u001b[0m\u001b[0mposition\u001b[0m\u001b[0;34m)\u001b[0m\u001b[0;34m\u001b[0m\u001b[0m\n",
      "\u001b[0;31mNameError\u001b[0m: name 'model' is not defined"
     ]
    }
   ],
   "source": [
    "model = load_model() ####\n",
    "\n",
    "predictions = {} # experiment -> chrom -> pos -> score\n",
    "activity = {}    # experiment -> chrom -> pos -> deeplift / ism score\n",
    "for position in positions:\n",
    "    seq = get_seq(*position)  ###\n",
    "    deeplift = get_deeplift(seq) ####"
   ]
  },
  {
   "cell_type": "markdown",
   "metadata": {},
   "source": [
    "Our predictions versus assay output"
   ]
  },
  {
   "cell_type": "code",
   "execution_count": null,
   "metadata": {
    "collapsed": true
   },
   "outputs": [],
   "source": []
  }
 ],
 "metadata": {
  "anaconda-cloud": {},
  "kernelspec": {
   "display_name": "Python [conda root]",
   "language": "python",
   "name": "conda-root-py"
  },
  "language_info": {
   "codemirror_mode": {
    "name": "ipython",
    "version": 2
   },
   "file_extension": ".py",
   "mimetype": "text/x-python",
   "name": "python",
   "nbconvert_exporter": "python",
   "pygments_lexer": "ipython2",
   "version": "2.7.12"
  }
 },
 "nbformat": 4,
 "nbformat_minor": 1
}
