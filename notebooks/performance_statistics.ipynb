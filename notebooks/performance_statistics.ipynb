{
 "cells": [
  {
   "cell_type": "markdown",
   "metadata": {},
   "source": [
    "**Validation Metrics**\n",
    "\n",
    "This notebook accepts a trained model and outputs statistics of its performance.\n",
    "\n",
    "* Performance on training, validation, and test set\n",
    "* Plot our predictions versus assay output\n",
    "* Overlap with conservation scores\n",
    "* Overlap with CENTIPEDE motifs\n",
    "* Scatter plot of our importance scores versus SHARPR scores\n",
    "* ... Things I missed :)\n",
    "\n",
    "**General Strategy for Importance Scores**\n",
    "\n",
    "Let's try to get all types of importance scores into  nested dictionaries of the following spec:\n",
    "\n",
    "(promoter, cell_type) -> chromosome -> position -> score\n"
   ]
  },
  {
   "cell_type": "code",
   "execution_count": 1,
   "metadata": {
    "collapsed": false
   },
   "outputs": [
    {
     "name": "stderr",
     "output_type": "stream",
     "text": [
      "//anaconda/lib/python2.7/site-packages/matplotlib/font_manager.py:273: UserWarning: Matplotlib is building the font cache using fc-list. This may take a moment.\n",
      "  warnings.warn('Matplotlib is building the font cache using fc-list. This may take a moment.')\n"
     ]
    }
   ],
   "source": [
    "import numpy as np\n",
    "import matplotlib.pyplot as plt\n",
    "%matplotlib inline"
   ]
  },
  {
   "cell_type": "markdown",
   "metadata": {},
   "source": [
    "# Load in Experimental Data and SHARPR Predictions"
   ]
  },
  {
   "cell_type": "code",
   "execution_count": 2,
   "metadata": {
    "collapsed": false
   },
   "outputs": [
    {
     "name": "stderr",
     "output_type": "stream",
     "text": [
      "mrpa_data.py:115: UserWarning: Replacing 'N' bases in seq with 'A' in seq NNNNNNNNNGATCCCGCGGCCGTGTTTTCCTGGTGGCCCGGCCGTGCCTGAGGTTTCTCCCCGAGCCGCCGCCTCTGCGGGCTCCCGGGTGCCCTTGCCCTCACGGTCCCCGGCCCTCGCCCGTCTGTGCCCTCTTCCCCGCCCG.\n",
      "  warn(\"Replacing 'N' bases in seq with 'A' in seq {}.\".format(seq))\n",
      "mrpa_data.py:115: UserWarning: Replacing 'N' bases in seq with 'A' in seq NNNNGATCCCGCGGCCGTGTTTTCCTGGTGGCCCGGCCGTGCCTGAGGTTTCTCCCCGAGCCGCCGCCTCTGCGGGCTCCCGGGTGCCCTTGCCCTCACGGTCCCCGGCCCTCGCCCGTCTGTGCCCTCTTCCCCGCCCGCCGCC.\n",
      "  warn(\"Replacing 'N' bases in seq with 'A' in seq {}.\".format(seq))\n",
      "mrpa_data.py:115: UserWarning: Replacing 'N' bases in seq with 'A' in seq NNNNNNNNNNNNNNNNNNGAATTCAATGGAGTGGACTGGAGTGCTGTGGGGTGGAGTGGAATGGAGTGTAGTTGAATGGAGTGGAATGGAATGCGATGGAATGGAGTGGAGTTGAGCAGAGTGAAGTGGAAAGGTGTAGAATGGA.\n",
      "  warn(\"Replacing 'N' bases in seq with 'A' in seq {}.\".format(seq))\n",
      "mrpa_data.py:115: UserWarning: Replacing 'N' bases in seq with 'A' in seq NNNNNNNNNNNNNGAATTCAATGGAGTGGACTGGAGTGCTGTGGGGTGGAGTGGAATGGAGTGTAGTTGAATGGAGTGGAATGGAATGCGATGGAATGGAGTGGAGTTGAGCAGAGTGAAGTGGAAAGGTGTAGAATGGAATGGA.\n",
      "  warn(\"Replacing 'N' bases in seq with 'A' in seq {}.\".format(seq))\n",
      "mrpa_data.py:115: UserWarning: Replacing 'N' bases in seq with 'A' in seq NNNNNNNNGAATTCAATGGAGTGGACTGGAGTGCTGTGGGGTGGAGTGGAATGGAGTGTAGTTGAATGGAGTGGAATGGAATGCGATGGAATGGAGTGGAGTTGAGCAGAGTGAAGTGGAAAGGTGTAGAATGGAATGGAATGGA.\n",
      "  warn(\"Replacing 'N' bases in seq with 'A' in seq {}.\".format(seq))\n",
      "mrpa_data.py:115: UserWarning: Replacing 'N' bases in seq with 'A' in seq NNNGAATTCAATGGAGTGGACTGGAGTGCTGTGGGGTGGAGTGGAATGGAGTGTAGTTGAATGGAGTGGAATGGAATGCGATGGAATGGAGTGGAGTTGAGCAGAGTGAAGTGGAAAGGTGTAGAATGGAATGGAATGGAGTGGA.\n",
      "  warn(\"Replacing 'N' bases in seq with 'A' in seq {}.\".format(seq))\n"
     ]
    }
   ],
   "source": [
    "# This loads in the experimental data\n",
    "from mrpa_data import MrpaData\n",
    "data = MrpaData()"
   ]
  },
  {
   "cell_type": "code",
   "execution_count": 3,
   "metadata": {
    "collapsed": false
   },
   "outputs": [],
   "source": [
    "# Loads in SHARPR activity scores\n",
    "sharpr = {}\n",
    "for promoter in data.promoters:\n",
    "    for cell_type in data.cell_types:\n",
    "        experiment_key = (promoter, cell_type)\n",
    "        sharpr[experiment_key] = {}\n",
    "        with open(\"../data/sharpr_scores/wig/{}_{}.wig\".format(promoter, cell_type)) as wig:\n",
    "            for line in wig:\n",
    "                if line[0] == '#': continue\n",
    "                chrom, start, end, score = line.strip().split()\n",
    "                start, end = int(start), int(end)\n",
    "                score = float(score)\n",
    "                if end - start > 1: continue\n",
    "                if chrom not in sharpr[experiment_key]: sharpr[experiment_key][chrom] = {}\n",
    "                for pos in range(start, end):\n",
    "                    assert pos not in sharpr[experiment_key][chrom]\n",
    "                    sharpr[experiment_key][chrom][pos] = score"
   ]
  },
  {
   "cell_type": "markdown",
   "metadata": {},
   "source": [
    "# Make Predictions from trained model"
   ]
  },
  {
   "cell_type": "code",
   "execution_count": 27,
   "metadata": {
    "collapsed": false
   },
   "outputs": [
    {
     "ename": "NameError",
     "evalue": "name 'load_model' is not defined",
     "output_type": "error",
     "traceback": [
      "\u001b[0;31m---------------------------------------------------------------------------\u001b[0m",
      "\u001b[0;31mNameError\u001b[0m                                 Traceback (most recent call last)",
      "\u001b[0;32m<ipython-input-27-52e1ceeaf4b9>\u001b[0m in \u001b[0;36m<module>\u001b[0;34m()\u001b[0m\n\u001b[0;32m----> 1\u001b[0;31m \u001b[0mmodel\u001b[0m \u001b[0;34m=\u001b[0m \u001b[0mload_model\u001b[0m\u001b[0;34m(\u001b[0m\u001b[0;34m)\u001b[0m \u001b[0;31m####\u001b[0m\u001b[0;34m\u001b[0m\u001b[0m\n\u001b[0m\u001b[1;32m      2\u001b[0m \u001b[0;34m\u001b[0m\u001b[0m\n\u001b[1;32m      3\u001b[0m \u001b[0mpredictions\u001b[0m \u001b[0;34m=\u001b[0m \u001b[0;34m{\u001b[0m\u001b[0;34m}\u001b[0m \u001b[0;31m# experiment -> chrom -> pos -> score\u001b[0m\u001b[0;34m\u001b[0m\u001b[0m\n\u001b[1;32m      4\u001b[0m \u001b[0mactivity\u001b[0m \u001b[0;34m=\u001b[0m \u001b[0;34m{\u001b[0m\u001b[0;34m}\u001b[0m    \u001b[0;31m# experiment -> chrom -> pos -> deeplift / ism score\u001b[0m\u001b[0;34m\u001b[0m\u001b[0m\n\u001b[1;32m      5\u001b[0m \u001b[0;32mfor\u001b[0m \u001b[0mposition\u001b[0m \u001b[0;32min\u001b[0m \u001b[0mpositions\u001b[0m\u001b[0;34m:\u001b[0m\u001b[0;34m\u001b[0m\u001b[0m\n",
      "\u001b[0;31mNameError\u001b[0m: name 'load_model' is not defined"
     ]
    }
   ],
   "source": [
    "model = load_model() ####\n",
    "\n",
    "predictions = {} # experiment -> chrom -> pos -> score\n",
    "activity = {}    # experiment -> chrom -> pos -> deeplift / ism score\n",
    "for position in positions:\n",
    "    seq = get_seq(*position)  ###\n",
    "    deeplift = get_deeplift(seq) ####"
   ]
  },
  {
   "cell_type": "markdown",
   "metadata": {},
   "source": [
    "Our predictions versus assay output"
   ]
  },
  {
   "cell_type": "markdown",
   "metadata": {},
   "source": [
    "# Conservation Analysis\n",
    "\n",
    "Using SiPhi scores obtained from: https://www.broadinstitute.org/mammals-models/29-mammals-project-supplementary-info\n",
    "\n",
    "My understanding is that for each 12mer in the genome, they assessed the extent of conservation accross 29 mamalian genomes. They then reported 12mers at a FDR of 10%.\n",
    "\n",
    "See the below plot for the quantile analysis.\n",
    "\n",
    "I tried simply making a scatter plot and boxplot of the data, but it was a mess."
   ]
  },
  {
   "cell_type": "code",
   "execution_count": 5,
   "metadata": {
    "collapsed": false
   },
   "outputs": [],
   "source": [
    "# Load in the data.\n",
    "si_phi = {} # chrom, position, LOR (no entry implies not signiticant)\n",
    "with open('../data/conservation/hg19_29way_pi_lods_elements_12mers.chr_specific.fdr_0.1_with_scores.txt') as conservation:\n",
    "    for line in conservation:\n",
    "        chrom, start, end, lor, branch = line.strip().split()\n",
    "        start, end, lor = int(start), int(end), float(lor)\n",
    "        if chrom not in si_phi: si_phi[chrom] = {}\n",
    "        for pos in range(start, end):\n",
    "            si_phi[chrom][pos] = lor"
   ]
  },
  {
   "cell_type": "code",
   "execution_count": 6,
   "metadata": {
    "collapsed": false
   },
   "outputs": [],
   "source": [
    "for experiment, scores in sharpr.items():\n",
    "    mrpa_conserve = []\n",
    "    for chrom in scores:\n",
    "        for pos in scores[chrom]:\n",
    "            mrpa_conserve.append((scores[chrom][pos], si_phi[chrom][pos] if pos in si_phi[chrom] else 0))\n",
    "    break"
   ]
  },
  {
   "cell_type": "code",
   "execution_count": 7,
   "metadata": {
    "collapsed": false
   },
   "outputs": [
    {
     "data": {
      "image/png": "[encoded data removed]",
      "text/plain": [
       "<matplotlib.figure.Figure at 0x4cc0239d0>"
      ]
     },
     "metadata": {},
     "output_type": "display_data"
    }
   ],
   "source": [
    "def quantile_plot(data_pairs):\n",
    "    data_pairs = sorted(data_pairs, key = lambda x: x[0])\n",
    "    avg_activity, avg_score = [], []\n",
    "    quantiles = 5000\n",
    "    for i in range(0, len(data_pairs), len(data_pairs) / quantiles):\n",
    "        index = range(i, min(i + (len(data_pairs) / quantiles), len(data_pairs)))\n",
    "        activities = [data_pairs[j][0] for j in index]\n",
    "        scores  = [bool(data_pairs[j][1]) for j in index]\n",
    "    \n",
    "        avg_activity.append(sum(activities) / float(len(activities)))\n",
    "        avg_score.append(sum(scores) / float(len(scores)))\n",
    "    plt.scatter(avg_activity, avg_score)\n",
    "    plt.show()\n",
    "    \n",
    "quantile_plot(mrpa_conserve)\n",
    "        "
   ]
  },
  {
   "cell_type": "markdown",
   "metadata": {
    "collapsed": true
   },
   "source": [
    "# Motif Overlaps"
   ]
  },
  {
   "cell_type": "code",
   "execution_count": 31,
   "metadata": {
    "collapsed": false
   },
   "outputs": [],
   "source": [
    "hepG2_centipede = {}\n",
    "with open('../data/centipede/HEPG2_liftover.bed') as regions:\n",
    "    regions.readline()\n",
    "    for line in regions:\n",
    "        chrom, start, end = line.strip().split()[:3]\n",
    "        start, end = int(start), int(end)\n",
    "        if chrom not in hepG2_centipede:hepG2_centipede[chrom] = {}\n",
    "        for pos in range(start, end):\n",
    "            hepG2_centipede[chrom][pos] = 1\n",
    "\n",
    "k562_centipede = {}\n",
    "with open('../data/centipede/K562_liftover.bed') as regions:\n",
    "    regions.readline()\n",
    "    for line in regions:\n",
    "        chrom, start, end = line.strip().split()[:3]\n",
    "        start, end = int(start), int(end)\n",
    "        if chrom not in k562_centipede: k562_centipede[chrom] = {}\n",
    "        for pos in range(start, end):\n",
    "            k562_centipede[chrom][pos] = 1       "
   ]
  },
  {
   "cell_type": "code",
   "execution_count": 32,
   "metadata": {
    "collapsed": false
   },
   "outputs": [
    {
     "data": {
      "image/png": "[encoded data removed]",
      "text/plain": [
       "<matplotlib.figure.Figure at 0x10b982250>"
      ]
     },
     "metadata": {},
     "output_type": "display_data"
    }
   ],
   "source": [
    "hepG2_pairs = []\n",
    "for chrom, positions in sharpr[('SV40P', 'HepG2')].items():\n",
    "    for pos, score in positions.items():\n",
    "        hepG2_pairs.append((score, 1 if pos in hepG2_centipede[chrom] else 0))\n",
    "quantile_plot(hepG2_pairs)"
   ]
  },
  {
   "cell_type": "code",
   "execution_count": null,
   "metadata": {
    "collapsed": true
   },
   "outputs": [],
   "source": []
  }
 ],
 "metadata": {
  "anaconda-cloud": {},
  "kernelspec": {
   "display_name": "Python [conda root]",
   "language": "python",
   "name": "conda-root-py"
  },
  "language_info": {
   "codemirror_mode": {
    "name": "ipython",
    "version": 2
   },
   "file_extension": ".py",
   "mimetype": "text/x-python",
   "name": "python",
   "nbconvert_exporter": "python",
   "pygments_lexer": "ipython2",
   "version": "2.7.12"
  }
 },
 "nbformat": 4,
 "nbformat_minor": 1
}
