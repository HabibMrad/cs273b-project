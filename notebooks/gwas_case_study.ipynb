{
 "cells": [
  {
   "cell_type": "markdown",
   "metadata": {},
   "source": [
    "# Case Study of Specific SNPs"
   ]
  },
  {
   "cell_type": "code",
   "execution_count": 55,
   "metadata": {
    "collapsed": false
   },
   "outputs": [],
   "source": [
    "from models.models import SequenceDNN_Regression\n",
    "import numpy as np"
   ]
  },
  {
   "cell_type": "code",
   "execution_count": 56,
   "metadata": {
    "collapsed": false
   },
   "outputs": [],
   "source": [
    "model = SequenceDNN_Regression.load('models/models/145_weighted.arch.json', 'models/models/145_weighted.weights.h5')"
   ]
  },
  {
   "cell_type": "code",
   "execution_count": 57,
   "metadata": {
    "collapsed": false
   },
   "outputs": [],
   "source": [
    "# One hot encode DNA sequences the standard way.\n",
    "bases = ['A', 'T', 'C', 'G']\n",
    "\n",
    "def one_hot_encode_seq(seq):\n",
    "    result = np.zeros((len(bases), len(seq)))\n",
    "\n",
    "    for i, base in enumerate(seq):\n",
    "        result[bases.index(base), i] = 1\n",
    "\n",
    "    return result\n",
    "\n",
    "def seqs_to_encoded_matrix(seqs):\n",
    "    # Wrangle the data into a shape that Dragonn wants.\n",
    "    result = np.concatenate(\n",
    "        map(one_hot_encode_seq, seqs)\n",
    "    ).reshape(\n",
    "        len(seqs), 1, len(bases), len(seqs[0])\n",
    "    )\n",
    "\n",
    "    # Check we actually did the encoding right.\n",
    "    for i in range(len(seqs)):\n",
    "        for j in range(len(seqs[0])):\n",
    "            assert sum(result[i, 0, :, j]) == 1\n",
    "\n",
    "    return result\n"
   ]
  },
  {
   "cell_type": "code",
   "execution_count": 58,
   "metadata": {
    "collapsed": false
   },
   "outputs": [
    {
     "name": "stdout",
     "output_type": "stream",
     "text": [
      "T G\n"
     ]
    },
    {
     "data": {
      "text/plain": [
       "array([[-0.21895617, -0.33426315, -0.14112946, -0.08910521],\n",
       "       [-0.22819479, -0.35368317, -0.14260426, -0.1069814 ]])"
      ]
     },
     "execution_count": 58,
     "metadata": {},
     "output_type": "execute_result"
    }
   ],
   "source": [
    "seq = 'ttttcacagattgagctgcttgaggacaagggtcatgtgttcatctttgGGTTGTACACCACCTTGAATGAATGAAAGGACAAAAGTCTTTATAGAGTCATCACTGCTGCCCATTTCTCTGCCTCACTTGGTTGTAGAAGCCAC'.upper()\n",
    "seqs = [seq, seq[:72] + 'G' + seq[73:]]\n",
    "print seqs[0][72], seqs[1][72]\n",
    "X = seqs_to_encoded_matrix(seqs)\n",
    "model.predict(X)"
   ]
  },
  {
   "cell_type": "code",
   "execution_count": 59,
   "metadata": {
    "collapsed": false
   },
   "outputs": [
    {
     "name": "stdout",
     "output_type": "stream",
     "text": [
      "G A\n"
     ]
    },
    {
     "data": {
      "text/plain": [
       "array([[-0.17962158, -0.24038999, -0.12319174, -0.03027086],\n",
       "       [-0.18387668, -0.24692996, -0.12396103, -0.03418177]])"
      ]
     },
     "execution_count": 59,
     "metadata": {},
     "output_type": "execute_result"
    }
   ],
   "source": [
    "seq = 'tggagattcttttttccactgggtcagttctgctattaatagttgtgattgcattatgaaattcttatagtgtgtttttcagctctatcaaattggttatgtccttatctatactggctattttatctatcagctcctgcattg'.upper()\n",
    "seqs = [seq, seq[:71] + 'A' + seq[72:]]\n",
    "print seqs[0][71], seqs[1][71]\n",
    "X = seqs_to_encoded_matrix(seqs)\n",
    "model.predict(X)"
   ]
  },
  {
   "cell_type": "code",
   "execution_count": 60,
   "metadata": {
    "collapsed": false
   },
   "outputs": [
    {
     "name": "stdout",
     "output_type": "stream",
     "text": [
      "T G\n"
     ]
    },
    {
     "data": {
      "text/plain": [
       "array([[-0.14668112, -0.19440798, -0.11547977, -0.05038539],\n",
       "       [-0.15311956, -0.19004865, -0.12357604, -0.0520439 ]])"
      ]
     },
     "execution_count": 60,
     "metadata": {},
     "output_type": "execute_result"
    }
   ],
   "source": [
    "seq = 'cagagtactttgtgcgcatgcttctgttaccacattaactcatatgatagttttcacagattgagctgcttgaggacaagggtcatgtgttcatctttgGGTTGTACACCACCTTGAATGAATGAAAGGACAAAAGTCTTTATA'.upper()\n",
    "seqs = [seq, seq[:122] + 'G' + seq[123:]]\n",
    "print seqs[0][122], seqs[1][122]\n",
    "X = seqs_to_encoded_matrix(seqs)\n",
    "model.predict(X) "
   ]
  },
  {
   "cell_type": "code",
   "execution_count": 180,
   "metadata": {
    "collapsed": false
   },
   "outputs": [
    {
     "name": "stdout",
     "output_type": "stream",
     "text": [
      "[ 0.  0.  0.  0.]\n",
      "[-0.01260963 -0.03418911 -0.00040922 -0.01161061]\n",
      "[-0.01568089 -0.03718251 -0.00023581 -0.01502208]\n",
      "[-0.00610834 -0.02141494 -0.00581972 -0.01012143]\n",
      "[ 0.01172185  0.02882099  0.00331971  0.02363311]\n",
      "[-0.00250724  0.00374389 -0.00054991  0.00207064]\n",
      "[-0.00204688  0.00821391 -0.00263822  0.01431228]\n",
      "[ 0.  0.  0.  0.]\n",
      "[ 0.01232271  0.04616225 -0.00262648  0.01618539]\n",
      "[ 0.01232271  0.04616225 -0.00262648  0.01618539]\n",
      "[ 0.0157654   0.05692266 -0.00192632  0.02032948]\n",
      "[ 0.01720676  0.02016789  0.01901199  0.02148273]\n",
      "[ 0.01670712 -0.00485289  0.02830666 -0.02010047]\n"
     ]
    }
   ],
   "source": [
    "seqs = ['AGTGCAGTGGCGTGATCTCAGCTCACTGCATCCCCAACCTCCTGGGCTTGAGTGATCTTCCCACCTCAGCCTCCCGAGTAGCTGGGAACACAGGCACACACTACCATGCCTGGCTAATTCTTTGTATTTTTGGTAGAAGTGGGG', 'GCCACCATGCCCGGCTAATTTTTTTATTTTTAGTGGAGATGAGGTTTTACCATGTTGGCCAGGCTGGTCTCCAACTCCTGACCTCAGGTGATCCACCCACCTTGGCCACCCAAAGTGCTGGGATTACAGGCGTGAGCCACTGCA', 'AAGTGTCTAGTCAACTTAATTGAGAAGGTGGAATCCTCCTATCCCTGAACTCGGGGGAATGGAATCTCGCTGATCTTCCAGGACTAGCTCCCTGATCATTCCAGCCCCTCTGAACAACAGGGCCCCAGGAAAATCTCCAGGTCC', 'CCAAGATCACCCCATTGCACTCCAGCCTGGATAAAAAGAGTGAAACTCTGTCTCAAAAAAAAAAAAAAAGAACACCGAATCCCTGGCCAGGCACAGTGGCTCATACCTATAATCCCAGCACTTTGGGAGGCCAAGGAGGAAAGA', 'TTGTCAAAAATTGCAATTGTCATTCAATACACATGTTTGAGCACACAATGAGCTAACTTTTGGGAATTCAAAGATAAAAAATCATGCTGTCTGCCTTGCAGAGGGTGCACAAACCAGTGATGGAAACAGTATGGGGCACAGGAA', 'GCTTTTAATGTTGCAGCTCGGGGAGTTAAAGAAGGTCGTAATAGTTTATTTTCTTGGTTAGCTGAAATATGGATTAAAAGGTGGCCCACTGTGAGCAAGCTGGAAATGTCTGATCTCCCTTGGTTTAATGTAGAGGAAGGAATT', 'AAAGAGCCAGGATGACCATTTGGACCTGATTTTACTGGGAGGGGAGAGGGGCAAAGAAGGGAGTTGCTGTTCCCTAAAATGAGGAACCCCTCAGCCTTCGCATTTTCCTCTTGAGTCCCACAAAGGAGCAGCAACTTTACCCAC', 'AAGAAGAAGAGGGCTCCCTGCTTCTAGTGAGCAAAGGCAGTGCCTGAGCTTCTACAGCCCTTCGTATTTATTGGGTAACAAGAGCAAGGAGGAAGAGGTAATGATTGGTCAGCTGCTTAATTAATCACAGGTTCATATTATTAC', 'CTTCCTGCGGCGCAAGCTGCGCACGTGGGCCTTGCTGGGTGGGGCAGTGCTAGCGAGGCCGGCGGGCAGGGGAAGAGGGTGGGCACTGGGGGCAGAGAGAACTGCTTAGCGAAGGTAAGGTACGAGGAGGCAAACACATAAGGC', 'CTTCCTGCGGCGCAAGCTGCGCACGTGGGCCTTGCTGGGTGGGGCAGTGCTAGCGAGGCCGGCGGGCAGGGGAAGAGGGTGGGCACTGGGGGCAGAGAGAACTGCTTAGCGAAGGTAAGGTACGAGGAGGCAAACACATAAGGC', 'AAAAGCCTCGGTCGCAGCACCAGTCTCTCCATCTTCTTCAAAGGTGCCTTACCTTTCTTATTCCAAAAATGGCTGGGCCACAAGGCCCAAACCAAGAGAGATCAGCCCCAGCACAAGACCCCGAAGGCCACTCAGCATCTTCCT', 'GCCTGTAATCCCAGCACTTTGGGTGGCTGAGGCAGGCAGATCACGAGGTCAGGAGATCGAGACCATCCTGGCTAACACGGTGAAACCCCGTCTCTACTAAAAATGCAAAAAAAATTCGCTGGGCGTGGTGGCGGGCGCCTGTAG', 'AGATGAAACAGCCTATTGAAAGAAGATGTCATCTAGAACTTTCATAGCTAGAGAAGAGAAGTCAATGCCTAACCTCAGATCTTCAAACAACAGGCTGACTCTATTGTTAGTAACTAATGCAGCTAGTGACTTCAGTTGAAGCCA']\n",
    "for seq in seqs:\n",
    "    mut = [seq, seq[:71] + 'T' + seq[72:]]\n",
    "    X = seqs_to_encoded_matrix(mut)\n",
    "    pred = model.predict(X)\n",
    "    print pred[0, :] - pred[1, :]"
   ]
  },
  {
   "cell_type": "code",
   "execution_count": 75,
   "metadata": {
    "collapsed": false
   },
   "outputs": [],
   "source": [
    "def load_fasta(file):\n",
    "    seqs = []\n",
    "    with open(file) as f:\n",
    "        for line in f:\n",
    "            if line[0] == '>': continue\n",
    "            seqs += [line.strip().upper()]\n",
    "    return seqs\n",
    "\n",
    "test = load_fasta('../data/test.fa')\n",
    "back = load_fasta('../data/background.fa')"
   ]
  },
  {
   "cell_type": "code",
   "execution_count": 196,
   "metadata": {
    "collapsed": false
   },
   "outputs": [],
   "source": [
    "test_pred = model.predict(seqs_to_encoded_matrix(test))\n",
    "back_pred = model.predict(seqs_to_encoded_matrix(back))"
   ]
  },
  {
   "cell_type": "code",
   "execution_count": 197,
   "metadata": {
    "collapsed": false
   },
   "outputs": [
    {
     "name": "stdout",
     "output_type": "stream",
     "text": [
      "-0.110665117715\n",
      "-0.130912784701\n"
     ]
    }
   ],
   "source": [
    "print test_pred.mean()\n",
    "print back_pred.mean()"
   ]
  },
  {
   "cell_type": "code",
   "execution_count": 198,
   "metadata": {
    "collapsed": true
   },
   "outputs": [],
   "source": [
    "def mutate(seq):\n",
    "    rev = {'A': 'G',\n",
    "          'T': 'A',\n",
    "          'C': 'T',\n",
    "          'G': 'C'}\n",
    "    return seq[:71] + rev[seq[71]] + seq[72:]"
   ]
  },
  {
   "cell_type": "code",
   "execution_count": 199,
   "metadata": {
    "collapsed": false
   },
   "outputs": [],
   "source": [
    "test_mut = model.predict(seqs_to_encoded_matrix(map(mutate, test)))\n",
    "back_mut = model.predict(seqs_to_encoded_matrix(map(mutate, back)))"
   ]
  },
  {
   "cell_type": "code",
   "execution_count": 200,
   "metadata": {
    "collapsed": false
   },
   "outputs": [
    {
     "name": "stdout",
     "output_type": "stream",
     "text": [
      "[-0.13980196 -0.17853819 -0.09568693 -0.02863339]\n",
      "[-0.16017386 -0.21232595 -0.11094683 -0.0402045 ]\n"
     ]
    }
   ],
   "source": [
    "print test_pred.mean(axis = 0)\n",
    "print back_pred.mean(axis = 0)"
   ]
  },
  {
   "cell_type": "code",
   "execution_count": 201,
   "metadata": {
    "collapsed": false,
    "scrolled": true
   },
   "outputs": [
    {
     "name": "stdout",
     "output_type": "stream",
     "text": [
      "[-0.14225875 -0.18077422 -0.09755902 -0.02867874]\n",
      "[-0.1606134  -0.21227091 -0.11187033 -0.04092588]\n"
     ]
    }
   ],
   "source": [
    "print test_mut.mean(axis = 0)\n",
    "print back_mut.mean(axis = 0)"
   ]
  },
  {
   "cell_type": "code",
   "execution_count": 202,
   "metadata": {
    "collapsed": false
   },
   "outputs": [
    {
     "name": "stdout",
     "output_type": "stream",
     "text": [
      "[ 0.0174493   0.02758004  0.01187817  0.01736162]\n",
      "[ 0.01295578  0.02175057  0.00961389  0.01408527]\n"
     ]
    }
   ],
   "source": [
    "print np.abs(test_mut - test_pred).mean(axis = 0)\n",
    "print np.abs(back_mut - back_pred).mean(axis = 0)"
   ]
  },
  {
   "cell_type": "code",
   "execution_count": 203,
   "metadata": {
    "collapsed": true
   },
   "outputs": [],
   "source": [
    "import matplotlib.pyplot as plt\n",
    "%matplotlib inline"
   ]
  },
  {
   "cell_type": "code",
   "execution_count": 209,
   "metadata": {
    "collapsed": false
   },
   "outputs": [
    {
     "data": {
      "image/png": "[encoded data removed]",
      "text/plain": [
       "<matplotlib.figure.Figure at 0x7f99fe6456d0>"
      ]
     },
     "metadata": {},
     "output_type": "display_data"
    }
   ],
   "source": [
    "plt.hist((test_mut - test_pred)[:, 0], bins = 100)\n",
    "plt.show()"
   ]
  },
  {
   "cell_type": "code",
   "execution_count": 205,
   "metadata": {
    "collapsed": false
   },
   "outputs": [
    {
     "data": {
      "image/png": "[encoded data removed]",
      "text/plain": [
       "<matplotlib.figure.Figure at 0x7f99fee37c90>"
      ]
     },
     "metadata": {},
     "output_type": "display_data"
    }
   ],
   "source": [
    "plt.hist((back_mut - back_pred)[:, 0], bins = 100)\n",
    "plt.show()"
   ]
  },
  {
   "cell_type": "code",
   "execution_count": 235,
   "metadata": {
    "collapsed": false
   },
   "outputs": [
    {
     "name": "stdout",
     "output_type": "stream",
     "text": [
      "[ 0.0175295   0.02758686  0.01189678  0.01733322]\n"
     ]
    }
   ],
   "source": [
    "print np.abs(test_mut - test_pred)[10000:].mean(axis = 0)"
   ]
  },
  {
   "cell_type": "code",
   "execution_count": 240,
   "metadata": {
    "collapsed": false
   },
   "outputs": [
    {
     "name": "stdout",
     "output_type": "stream",
     "text": [
      "[ 0.01416119  0.02730067  0.01111498  0.01852605]\n"
     ]
    }
   ],
   "source": [
    "print np.abs(test_mut - test_pred)[:10000].mean(axis = 0)"
   ]
  },
  {
   "cell_type": "code",
   "execution_count": 241,
   "metadata": {
    "collapsed": true
   },
   "outputs": [],
   "source": [
    "def quantile_plot(data_pairs, quantiles = 100):\n",
    "    data_pairs = sorted(data_pairs, key = lambda x: x[0])\n",
    "    avg_activity, avg_score = [], []\n",
    "    for i in range(0, len(data_pairs), len(data_pairs) / quantiles):\n",
    "        index = range(i, min(i + (len(data_pairs) / quantiles), len(data_pairs)))\n",
    "        activities = [data_pairs[j][0] for j in index]\n",
    "        scores  = [data_pairs[j][1] for j in index]\n",
    "        avg_activity.append(sum(activities) / float(len(activities)))\n",
    "        avg_score.append(sum(scores) / float(len(scores)))\n",
    "    i = 0\n",
    "    plt.scatter(avg_activity, avg_score, c = 'r')"
   ]
  },
  {
   "cell_type": "code",
   "execution_count": 243,
   "metadata": {
    "collapsed": false
   },
   "outputs": [
    {
     "data": {
      "image/png": "[encoded data removed]",
      "text/plain": [
       "<matplotlib.figure.Figure at 0x7f99f804f490>"
      ]
     },
     "metadata": {},
     "output_type": "display_data"
    }
   ],
   "source": [
    "plt.scatter(range(test_mut.shape[0]), np.abs(test_mut - test_pred)[:, 0])\n",
    "quantile_plot(enumerate(np.abs(test_mut - test_pred)[:, 0]))\n",
    "plt.show()"
   ]
  },
  {
   "cell_type": "code",
   "execution_count": null,
   "metadata": {
    "collapsed": true
   },
   "outputs": [],
   "source": []
  }
 ],
 "metadata": {
  "kernelspec": {
   "display_name": "Python [conda env:regression_dragonn_new]",
   "language": "python",
   "name": "conda-env-regression_dragonn_new-py"
  },
  "language_info": {
   "codemirror_mode": {
    "name": "ipython",
    "version": 2
   },
   "file_extension": ".py",
   "mimetype": "text/x-python",
   "name": "python",
   "nbconvert_exporter": "python",
   "pygments_lexer": "ipython2",
   "version": "2.7.12"
  }
 },
 "nbformat": 4,
 "nbformat_minor": 1
}
